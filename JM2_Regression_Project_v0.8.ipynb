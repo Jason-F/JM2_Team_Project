{
 "cells": [
  {
   "cell_type": "markdown",
   "id": "af5b9bb1",
   "metadata": {},
   "source": [
    "# Phase 0: Imports"
   ]
  },
  {
   "cell_type": "markdown",
   "id": "7224bc89",
   "metadata": {},
   "source": [
    "Loading required python packages."
   ]
  },
  {
   "cell_type": "code",
   "execution_count": 69,
   "id": "b889603a",
   "metadata": {},
   "outputs": [],
   "source": [
    "import numpy as np\n",
    "import pandas as pd\n",
    "import matplotlib.pyplot as plt\n",
    "import seaborn as sns\n",
    "from statsmodels.graphics.correlation import plot_corr\n",
    "from scipy.stats import pearsonr\n",
    "%matplotlib inline\n",
    "\n",
    "#models\n",
    "from sklearn.linear_model import LinearRegression\n",
    "from sklearn.linear_model import Ridge\n",
    "from sklearn.linear_model import Lasso\n",
    "from sklearn.neighbors import KNeighborsRegressor\n",
    "from sklearn.ensemble import RandomForestRegressor\n",
    "from sklearn.tree import DecisionTreeRegressor\n",
    "from sklearn.svm import SVR\n",
    "from sklearn.ensemble import AdaBoostRegressor\n",
    "from sklearn.ensemble import GradientBoostingRegressor \n",
    "\n",
    "#metrics, procssing and model selection\n",
    "from sklearn.model_selection import train_test_split\n",
    "from sklearn.preprocessing import StandardScaler\n",
    "from sklearn import metrics"
   ]
  },
  {
   "cell_type": "markdown",
   "id": "e4f58fe7",
   "metadata": {},
   "source": [
    "# Phase 1: Data Collection"
   ]
  },
  {
   "cell_type": "markdown",
   "id": "da7d75e0",
   "metadata": {},
   "source": [
    "As kaggle already provided us with data in the form of csv files, all we have to do is load them into dataframes."
   ]
  },
  {
   "cell_type": "code",
   "execution_count": 70,
   "id": "7ab5516c",
   "metadata": {},
   "outputs": [],
   "source": [
    "#loading csv's\n",
    "train=pd.read_csv('df - train_set.csv')\n",
    "test=pd.read_csv('df - test_set.csv')\n",
    "test_id=test['Index']\n",
    "test=test.drop('Index',axis=1)"
   ]
  },
  {
   "cell_type": "markdown",
   "id": "e80fec7a",
   "metadata": {},
   "source": [
    "# Phase 2: Data Cleaning"
   ]
  },
  {
   "cell_type": "markdown",
   "id": "46418913",
   "metadata": {},
   "source": [
    "Kaggle tries to provide us with clean data but it's always a good idea to check for ourselves. We check for null and empty values."
   ]
  },
  {
   "cell_type": "code",
   "execution_count": 71,
   "id": "28fa98f7",
   "metadata": {},
   "outputs": [
    {
     "data": {
      "text/plain": [
       "Province            0\n",
       "Container           0\n",
       "Size_Grade          0\n",
       "Weight_Kg           0\n",
       "Commodities         0\n",
       "Date                0\n",
       "Low_Price           0\n",
       "High_Price          0\n",
       "Sales_Total         0\n",
       "Total_Qty_Sold      0\n",
       "Total_Kg_Sold       0\n",
       "Stock_On_Hand       0\n",
       "avg_price_per_kg    0\n",
       "dtype: int64"
      ]
     },
     "execution_count": 71,
     "metadata": {},
     "output_type": "execute_result"
    }
   ],
   "source": [
    "train.isnull().sum()"
   ]
  },
  {
   "cell_type": "code",
   "execution_count": 72,
   "id": "c23b8763",
   "metadata": {},
   "outputs": [
    {
     "name": "stdout",
     "output_type": "stream",
     "text": [
      "The data contains 0 empty values over all columns\n"
     ]
    }
   ],
   "source": [
    "i=0\n",
    "for x in train.columns:\n",
    "    if '' in sorted(train[x].unique()):\n",
    "        i+=1\n",
    "print('The data contains '+str(i)+' empty values over all columns')"
   ]
  },
  {
   "cell_type": "markdown",
   "id": "28245fc5",
   "metadata": {},
   "source": [
    "none of our columns contain any null or empty values."
   ]
  },
  {
   "cell_type": "code",
   "execution_count": 73,
   "id": "62353cb2",
   "metadata": {},
   "outputs": [
    {
     "data": {
      "text/html": [
       "<div>\n",
       "<style scoped>\n",
       "    .dataframe tbody tr th:only-of-type {\n",
       "        vertical-align: middle;\n",
       "    }\n",
       "\n",
       "    .dataframe tbody tr th {\n",
       "        vertical-align: top;\n",
       "    }\n",
       "\n",
       "    .dataframe thead th {\n",
       "        text-align: right;\n",
       "    }\n",
       "</style>\n",
       "<table border=\"1\" class=\"dataframe\">\n",
       "  <thead>\n",
       "    <tr style=\"text-align: right;\">\n",
       "      <th></th>\n",
       "      <th>Province</th>\n",
       "      <th>Container</th>\n",
       "      <th>Size_Grade</th>\n",
       "      <th>Weight_Kg</th>\n",
       "      <th>Commodities</th>\n",
       "      <th>Date</th>\n",
       "      <th>Low_Price</th>\n",
       "      <th>High_Price</th>\n",
       "      <th>Sales_Total</th>\n",
       "      <th>Total_Qty_Sold</th>\n",
       "      <th>Total_Kg_Sold</th>\n",
       "      <th>Stock_On_Hand</th>\n",
       "      <th>avg_price_per_kg</th>\n",
       "    </tr>\n",
       "  </thead>\n",
       "  <tbody>\n",
       "    <tr>\n",
       "      <th>0</th>\n",
       "      <td>CAPE</td>\n",
       "      <td>EC120</td>\n",
       "      <td>1L</td>\n",
       "      <td>12.0</td>\n",
       "      <td>APPLE GRANNY SMITH</td>\n",
       "      <td>2020-03-10</td>\n",
       "      <td>108.0</td>\n",
       "      <td>112.0</td>\n",
       "      <td>3236.0</td>\n",
       "      <td>29</td>\n",
       "      <td>348.0</td>\n",
       "      <td>0</td>\n",
       "      <td>9.30</td>\n",
       "    </tr>\n",
       "    <tr>\n",
       "      <th>1</th>\n",
       "      <td>CAPE</td>\n",
       "      <td>M4183</td>\n",
       "      <td>1L</td>\n",
       "      <td>18.3</td>\n",
       "      <td>APPLE GOLDEN DELICIOUS</td>\n",
       "      <td>2020-09-09</td>\n",
       "      <td>150.0</td>\n",
       "      <td>170.0</td>\n",
       "      <td>51710.0</td>\n",
       "      <td>332</td>\n",
       "      <td>6075.6</td>\n",
       "      <td>822</td>\n",
       "      <td>8.51</td>\n",
       "    </tr>\n",
       "    <tr>\n",
       "      <th>2</th>\n",
       "      <td>GAUTENG</td>\n",
       "      <td>AT200</td>\n",
       "      <td>1L</td>\n",
       "      <td>20.0</td>\n",
       "      <td>AVOCADO PINKERTON</td>\n",
       "      <td>2020-05-05</td>\n",
       "      <td>70.0</td>\n",
       "      <td>80.0</td>\n",
       "      <td>4860.0</td>\n",
       "      <td>66</td>\n",
       "      <td>1320.0</td>\n",
       "      <td>50</td>\n",
       "      <td>3.68</td>\n",
       "    </tr>\n",
       "    <tr>\n",
       "      <th>3</th>\n",
       "      <td>TRANSVAAL</td>\n",
       "      <td>BJ090</td>\n",
       "      <td>1L</td>\n",
       "      <td>9.0</td>\n",
       "      <td>TOMATOES-LONG LIFE</td>\n",
       "      <td>2020-01-20</td>\n",
       "      <td>60.0</td>\n",
       "      <td>60.0</td>\n",
       "      <td>600.0</td>\n",
       "      <td>10</td>\n",
       "      <td>90.0</td>\n",
       "      <td>0</td>\n",
       "      <td>6.67</td>\n",
       "    </tr>\n",
       "    <tr>\n",
       "      <th>4</th>\n",
       "      <td>WESTERN FREESTATE</td>\n",
       "      <td>PP100</td>\n",
       "      <td>1R</td>\n",
       "      <td>10.0</td>\n",
       "      <td>POTATO SIFRA (WASHED)</td>\n",
       "      <td>2020-07-14</td>\n",
       "      <td>40.0</td>\n",
       "      <td>45.0</td>\n",
       "      <td>41530.0</td>\n",
       "      <td>927</td>\n",
       "      <td>9270.0</td>\n",
       "      <td>393</td>\n",
       "      <td>4.48</td>\n",
       "    </tr>\n",
       "  </tbody>\n",
       "</table>\n",
       "</div>"
      ],
      "text/plain": [
       "            Province Container Size_Grade  Weight_Kg             Commodities  \\\n",
       "0               CAPE     EC120         1L       12.0      APPLE GRANNY SMITH   \n",
       "1               CAPE     M4183         1L       18.3  APPLE GOLDEN DELICIOUS   \n",
       "2            GAUTENG     AT200         1L       20.0       AVOCADO PINKERTON   \n",
       "3          TRANSVAAL     BJ090         1L        9.0      TOMATOES-LONG LIFE   \n",
       "4  WESTERN FREESTATE     PP100         1R       10.0   POTATO SIFRA (WASHED)   \n",
       "\n",
       "         Date  Low_Price  High_Price  Sales_Total  Total_Qty_Sold  \\\n",
       "0  2020-03-10      108.0       112.0       3236.0              29   \n",
       "1  2020-09-09      150.0       170.0      51710.0             332   \n",
       "2  2020-05-05       70.0        80.0       4860.0              66   \n",
       "3  2020-01-20       60.0        60.0        600.0              10   \n",
       "4  2020-07-14       40.0        45.0      41530.0             927   \n",
       "\n",
       "   Total_Kg_Sold  Stock_On_Hand  avg_price_per_kg  \n",
       "0          348.0              0              9.30  \n",
       "1         6075.6            822              8.51  \n",
       "2         1320.0             50              3.68  \n",
       "3           90.0              0              6.67  \n",
       "4         9270.0            393              4.48  "
      ]
     },
     "execution_count": 73,
     "metadata": {},
     "output_type": "execute_result"
    }
   ],
   "source": [
    "train.head()"
   ]
  },
  {
   "cell_type": "markdown",
   "id": "b42c2f03",
   "metadata": {},
   "source": [
    "The table contains information about 'Commodoties that we are not interested in, we filter only for 'APPLE GOLDEN DELICIOUS'."
   ]
  },
  {
   "cell_type": "code",
   "execution_count": 74,
   "id": "9023923f",
   "metadata": {},
   "outputs": [
    {
     "data": {
      "text/html": [
       "<div>\n",
       "<style scoped>\n",
       "    .dataframe tbody tr th:only-of-type {\n",
       "        vertical-align: middle;\n",
       "    }\n",
       "\n",
       "    .dataframe tbody tr th {\n",
       "        vertical-align: top;\n",
       "    }\n",
       "\n",
       "    .dataframe thead th {\n",
       "        text-align: right;\n",
       "    }\n",
       "</style>\n",
       "<table border=\"1\" class=\"dataframe\">\n",
       "  <thead>\n",
       "    <tr style=\"text-align: right;\">\n",
       "      <th></th>\n",
       "      <th>Province</th>\n",
       "      <th>Container</th>\n",
       "      <th>Size_Grade</th>\n",
       "      <th>Weight_Kg</th>\n",
       "      <th>Commodities</th>\n",
       "      <th>Date</th>\n",
       "      <th>Low_Price</th>\n",
       "      <th>High_Price</th>\n",
       "      <th>Sales_Total</th>\n",
       "      <th>Total_Qty_Sold</th>\n",
       "      <th>Total_Kg_Sold</th>\n",
       "      <th>Stock_On_Hand</th>\n",
       "      <th>avg_price_per_kg</th>\n",
       "    </tr>\n",
       "  </thead>\n",
       "  <tbody>\n",
       "    <tr>\n",
       "      <th>1</th>\n",
       "      <td>CAPE</td>\n",
       "      <td>M4183</td>\n",
       "      <td>1L</td>\n",
       "      <td>18.3</td>\n",
       "      <td>APPLE GOLDEN DELICIOUS</td>\n",
       "      <td>2020-09-09</td>\n",
       "      <td>150.0</td>\n",
       "      <td>170.0</td>\n",
       "      <td>51710.0</td>\n",
       "      <td>332</td>\n",
       "      <td>6075.6</td>\n",
       "      <td>822</td>\n",
       "      <td>8.51</td>\n",
       "    </tr>\n",
       "    <tr>\n",
       "      <th>7</th>\n",
       "      <td>CAPE</td>\n",
       "      <td>JG110</td>\n",
       "      <td>2M</td>\n",
       "      <td>11.0</td>\n",
       "      <td>APPLE GOLDEN DELICIOUS</td>\n",
       "      <td>2020-04-14</td>\n",
       "      <td>50.0</td>\n",
       "      <td>50.0</td>\n",
       "      <td>16000.0</td>\n",
       "      <td>320</td>\n",
       "      <td>3520.0</td>\n",
       "      <td>0</td>\n",
       "      <td>4.55</td>\n",
       "    </tr>\n",
       "    <tr>\n",
       "      <th>24</th>\n",
       "      <td>W.CAPE-BERGRIVER ETC</td>\n",
       "      <td>JE090</td>\n",
       "      <td>2S</td>\n",
       "      <td>9.0</td>\n",
       "      <td>APPLE GOLDEN DELICIOUS</td>\n",
       "      <td>2020-04-16</td>\n",
       "      <td>55.0</td>\n",
       "      <td>55.0</td>\n",
       "      <td>990.0</td>\n",
       "      <td>18</td>\n",
       "      <td>162.0</td>\n",
       "      <td>1506</td>\n",
       "      <td>6.11</td>\n",
       "    </tr>\n",
       "    <tr>\n",
       "      <th>40</th>\n",
       "      <td>CAPE</td>\n",
       "      <td>M4183</td>\n",
       "      <td>1S</td>\n",
       "      <td>18.3</td>\n",
       "      <td>APPLE GOLDEN DELICIOUS</td>\n",
       "      <td>2020-05-04</td>\n",
       "      <td>80.0</td>\n",
       "      <td>120.0</td>\n",
       "      <td>32020.0</td>\n",
       "      <td>388</td>\n",
       "      <td>7100.4</td>\n",
       "      <td>443</td>\n",
       "      <td>4.51</td>\n",
       "    </tr>\n",
       "    <tr>\n",
       "      <th>69</th>\n",
       "      <td>EASTERN CAPE</td>\n",
       "      <td>IA400</td>\n",
       "      <td>1S</td>\n",
       "      <td>400.0</td>\n",
       "      <td>APPLE GOLDEN DELICIOUS</td>\n",
       "      <td>2020-09-28</td>\n",
       "      <td>1800.0</td>\n",
       "      <td>1800.0</td>\n",
       "      <td>1800.0</td>\n",
       "      <td>1</td>\n",
       "      <td>400.0</td>\n",
       "      <td>2</td>\n",
       "      <td>4.50</td>\n",
       "    </tr>\n",
       "  </tbody>\n",
       "</table>\n",
       "</div>"
      ],
      "text/plain": [
       "                Province Container Size_Grade  Weight_Kg  \\\n",
       "1                   CAPE     M4183         1L       18.3   \n",
       "7                   CAPE     JG110         2M       11.0   \n",
       "24  W.CAPE-BERGRIVER ETC     JE090         2S        9.0   \n",
       "40                  CAPE     M4183         1S       18.3   \n",
       "69          EASTERN CAPE     IA400         1S      400.0   \n",
       "\n",
       "               Commodities        Date  Low_Price  High_Price  Sales_Total  \\\n",
       "1   APPLE GOLDEN DELICIOUS  2020-09-09      150.0       170.0      51710.0   \n",
       "7   APPLE GOLDEN DELICIOUS  2020-04-14       50.0        50.0      16000.0   \n",
       "24  APPLE GOLDEN DELICIOUS  2020-04-16       55.0        55.0        990.0   \n",
       "40  APPLE GOLDEN DELICIOUS  2020-05-04       80.0       120.0      32020.0   \n",
       "69  APPLE GOLDEN DELICIOUS  2020-09-28     1800.0      1800.0       1800.0   \n",
       "\n",
       "    Total_Qty_Sold  Total_Kg_Sold  Stock_On_Hand  avg_price_per_kg  \n",
       "1              332         6075.6            822              8.51  \n",
       "7              320         3520.0              0              4.55  \n",
       "24              18          162.0           1506              6.11  \n",
       "40             388         7100.4            443              4.51  \n",
       "69               1          400.0              2              4.50  "
      ]
     },
     "execution_count": 74,
     "metadata": {},
     "output_type": "execute_result"
    }
   ],
   "source": [
    "#Filter for Golden Delicious Apples\n",
    "train=train[train['Commodities']=='APPLE GOLDEN DELICIOUS']\n",
    "test=test[test['Commodities']=='APPLE GOLDEN DELICIOUS']\n",
    "train.head()"
   ]
  },
  {
   "cell_type": "markdown",
   "id": "435f1c55",
   "metadata": {},
   "source": [
    "We may as well remove the \"Commodities\" column as it has no more useful information."
   ]
  },
  {
   "cell_type": "code",
   "execution_count": 75,
   "id": "53d8d1dc",
   "metadata": {},
   "outputs": [
    {
     "name": "stdout",
     "output_type": "stream",
     "text": [
      "<class 'pandas.core.frame.DataFrame'>\n",
      "Int64Index: 1952 entries, 1 to 64310\n",
      "Data columns (total 12 columns):\n",
      " #   Column            Non-Null Count  Dtype  \n",
      "---  ------            --------------  -----  \n",
      " 0   Province          1952 non-null   object \n",
      " 1   Container         1952 non-null   object \n",
      " 2   Size_Grade        1952 non-null   object \n",
      " 3   Weight_Kg         1952 non-null   float64\n",
      " 4   Date              1952 non-null   object \n",
      " 5   Low_Price         1952 non-null   float64\n",
      " 6   High_Price        1952 non-null   float64\n",
      " 7   Sales_Total       1952 non-null   float64\n",
      " 8   Total_Qty_Sold    1952 non-null   int64  \n",
      " 9   Total_Kg_Sold     1952 non-null   float64\n",
      " 10  Stock_On_Hand     1952 non-null   int64  \n",
      " 11  avg_price_per_kg  1952 non-null   float64\n",
      "dtypes: float64(6), int64(2), object(4)\n",
      "memory usage: 198.2+ KB\n"
     ]
    }
   ],
   "source": [
    "#Remove Commodities\n",
    "train=train.drop([\"Commodities\"],axis=1)\n",
    "test=test.drop([\"Commodities\"],axis=1)\n",
    "train.info()"
   ]
  },
  {
   "cell_type": "markdown",
   "id": "eefc84d7",
   "metadata": {},
   "source": [
    "We note that the DataFrame consists of 12 columns.(11 predictors and 1 response)\n",
    "\n",
    "The predictor variables are broken down into the following types:\n",
    "\n",
    "    -object: Province, Container, Size_Grade and Date\n",
    "\n",
    "    -float: Weight_Kg, Low_Price, High_Price, Sales_Total and Total_Kg_Sold\n",
    "\n",
    "    -integer: Total_Qty_Sold and Stock_On_Hand\n",
    "    \n",
    "with the response variable(avg_price_per_kg) being a float."
   ]
  },
  {
   "cell_type": "markdown",
   "id": "836d1774",
   "metadata": {},
   "source": [
    "# Phase 3: Exploratory Data Analysis"
   ]
  },
  {
   "cell_type": "markdown",
   "id": "dca47bf3",
   "metadata": {},
   "source": [
    "## 3.1: Univariate Analysis"
   ]
  },
  {
   "cell_type": "markdown",
   "id": "275bb4c3",
   "metadata": {},
   "source": [
    "#### 3.1.1: Numeric data"
   ]
  },
  {
   "cell_type": "code",
   "execution_count": 76,
   "id": "c161ac3c",
   "metadata": {},
   "outputs": [
    {
     "data": {
      "text/html": [
       "<div>\n",
       "<style scoped>\n",
       "    .dataframe tbody tr th:only-of-type {\n",
       "        vertical-align: middle;\n",
       "    }\n",
       "\n",
       "    .dataframe tbody tr th {\n",
       "        vertical-align: top;\n",
       "    }\n",
       "\n",
       "    .dataframe thead th {\n",
       "        text-align: right;\n",
       "    }\n",
       "</style>\n",
       "<table border=\"1\" class=\"dataframe\">\n",
       "  <thead>\n",
       "    <tr style=\"text-align: right;\">\n",
       "      <th></th>\n",
       "      <th>Weight_Kg</th>\n",
       "      <th>Low_Price</th>\n",
       "      <th>High_Price</th>\n",
       "      <th>Sales_Total</th>\n",
       "      <th>Total_Qty_Sold</th>\n",
       "      <th>Total_Kg_Sold</th>\n",
       "      <th>Stock_On_Hand</th>\n",
       "      <th>avg_price_per_kg</th>\n",
       "    </tr>\n",
       "  </thead>\n",
       "  <tbody>\n",
       "    <tr>\n",
       "      <th>count</th>\n",
       "      <td>1952.000000</td>\n",
       "      <td>1952.000000</td>\n",
       "      <td>1952.000000</td>\n",
       "      <td>1952.000000</td>\n",
       "      <td>1952.000000</td>\n",
       "      <td>1952.000000</td>\n",
       "      <td>1952.000000</td>\n",
       "      <td>1952.000000</td>\n",
       "    </tr>\n",
       "    <tr>\n",
       "      <th>mean</th>\n",
       "      <td>40.460912</td>\n",
       "      <td>174.307377</td>\n",
       "      <td>215.648053</td>\n",
       "      <td>20053.533811</td>\n",
       "      <td>174.510758</td>\n",
       "      <td>2960.176332</td>\n",
       "      <td>408.393955</td>\n",
       "      <td>6.778893</td>\n",
       "    </tr>\n",
       "    <tr>\n",
       "      <th>std</th>\n",
       "      <td>99.655169</td>\n",
       "      <td>373.553578</td>\n",
       "      <td>433.546159</td>\n",
       "      <td>39005.069445</td>\n",
       "      <td>308.810797</td>\n",
       "      <td>6097.416527</td>\n",
       "      <td>724.450582</td>\n",
       "      <td>2.248744</td>\n",
       "    </tr>\n",
       "    <tr>\n",
       "      <th>min</th>\n",
       "      <td>3.000000</td>\n",
       "      <td>2.000000</td>\n",
       "      <td>5.000000</td>\n",
       "      <td>5.000000</td>\n",
       "      <td>1.000000</td>\n",
       "      <td>3.000000</td>\n",
       "      <td>0.000000</td>\n",
       "      <td>0.250000</td>\n",
       "    </tr>\n",
       "    <tr>\n",
       "      <th>25%</th>\n",
       "      <td>9.000000</td>\n",
       "      <td>50.000000</td>\n",
       "      <td>60.000000</td>\n",
       "      <td>1325.000000</td>\n",
       "      <td>12.000000</td>\n",
       "      <td>219.600000</td>\n",
       "      <td>9.000000</td>\n",
       "      <td>5.460000</td>\n",
       "    </tr>\n",
       "    <tr>\n",
       "      <th>50%</th>\n",
       "      <td>12.000000</td>\n",
       "      <td>80.000000</td>\n",
       "      <td>108.000000</td>\n",
       "      <td>5495.000000</td>\n",
       "      <td>64.000000</td>\n",
       "      <td>853.500000</td>\n",
       "      <td>126.500000</td>\n",
       "      <td>6.670000</td>\n",
       "    </tr>\n",
       "    <tr>\n",
       "      <th>75%</th>\n",
       "      <td>18.300000</td>\n",
       "      <td>127.250000</td>\n",
       "      <td>160.000000</td>\n",
       "      <td>21082.500000</td>\n",
       "      <td>200.000000</td>\n",
       "      <td>3093.525000</td>\n",
       "      <td>468.000000</td>\n",
       "      <td>8.280000</td>\n",
       "    </tr>\n",
       "    <tr>\n",
       "      <th>max</th>\n",
       "      <td>400.000000</td>\n",
       "      <td>2300.000000</td>\n",
       "      <td>3300.000000</td>\n",
       "      <td>369464.000000</td>\n",
       "      <td>4237.000000</td>\n",
       "      <td>74000.000000</td>\n",
       "      <td>6400.000000</td>\n",
       "      <td>21.240000</td>\n",
       "    </tr>\n",
       "  </tbody>\n",
       "</table>\n",
       "</div>"
      ],
      "text/plain": [
       "         Weight_Kg    Low_Price   High_Price    Sales_Total  Total_Qty_Sold  \\\n",
       "count  1952.000000  1952.000000  1952.000000    1952.000000     1952.000000   \n",
       "mean     40.460912   174.307377   215.648053   20053.533811      174.510758   \n",
       "std      99.655169   373.553578   433.546159   39005.069445      308.810797   \n",
       "min       3.000000     2.000000     5.000000       5.000000        1.000000   \n",
       "25%       9.000000    50.000000    60.000000    1325.000000       12.000000   \n",
       "50%      12.000000    80.000000   108.000000    5495.000000       64.000000   \n",
       "75%      18.300000   127.250000   160.000000   21082.500000      200.000000   \n",
       "max     400.000000  2300.000000  3300.000000  369464.000000     4237.000000   \n",
       "\n",
       "       Total_Kg_Sold  Stock_On_Hand  avg_price_per_kg  \n",
       "count    1952.000000    1952.000000       1952.000000  \n",
       "mean     2960.176332     408.393955          6.778893  \n",
       "std      6097.416527     724.450582          2.248744  \n",
       "min         3.000000       0.000000          0.250000  \n",
       "25%       219.600000       9.000000          5.460000  \n",
       "50%       853.500000     126.500000          6.670000  \n",
       "75%      3093.525000     468.000000          8.280000  \n",
       "max     74000.000000    6400.000000         21.240000  "
      ]
     },
     "execution_count": 76,
     "metadata": {},
     "output_type": "execute_result"
    }
   ],
   "source": [
    "train.describe()"
   ]
  },
  {
   "cell_type": "markdown",
   "id": "56db8daf",
   "metadata": {},
   "source": [
    "We can see that the maximium values of our numeric data are many standard deviations(>3) away from the mean. This leads us to expect that they are outliers and will cause the distribution of the data to appear skewed."
   ]
  },
  {
   "cell_type": "code",
   "execution_count": 77,
   "id": "4a483923",
   "metadata": {},
   "outputs": [
    {
     "data": {
      "text/plain": [
       "Weight_Kg           3.328254\n",
       "Low_Price           4.222672\n",
       "High_Price          3.828819\n",
       "Sales_Total         4.250317\n",
       "Total_Qty_Sold      4.445169\n",
       "Total_Kg_Sold       5.529586\n",
       "Stock_On_Hand       3.391815\n",
       "avg_price_per_kg    0.082452\n",
       "dtype: float64"
      ]
     },
     "execution_count": 77,
     "metadata": {},
     "output_type": "execute_result"
    }
   ],
   "source": [
    "train.skew()"
   ]
  },
  {
   "cell_type": "markdown",
   "id": "59ebf49b",
   "metadata": {},
   "source": [
    "We can see that all of our numeric predictors are highly skewed(skew values greater than 1). While our response variable appears symmetrical(skew value close to 0)"
   ]
  },
  {
   "cell_type": "code",
   "execution_count": 78,
   "id": "e28bbde0",
   "metadata": {},
   "outputs": [
    {
     "data": {
      "text/plain": [
       "Weight_Kg            9.109698\n",
       "Low_Price           17.073369\n",
       "High_Price          13.630768\n",
       "Sales_Total         24.200524\n",
       "Total_Qty_Sold      32.338123\n",
       "Total_Kg_Sold       45.153801\n",
       "Stock_On_Hand       14.671224\n",
       "avg_price_per_kg     1.042921\n",
       "dtype: float64"
      ]
     },
     "execution_count": 78,
     "metadata": {},
     "output_type": "execute_result"
    }
   ],
   "source": [
    "train.kurtosis()"
   ]
  },
  {
   "cell_type": "markdown",
   "id": "09bcf45e",
   "metadata": {},
   "source": [
    "The kurtosis of our predictor values are much greater than 3. This indicates that there are strong outliers in the predictor variables."
   ]
  },
  {
   "cell_type": "markdown",
   "id": "2834fe67",
   "metadata": {},
   "source": [
    "These outliers are to be expected in data of this nature: For example:\n",
    "When looking at a column like Sales_Total, many places can have sales up to a certain point but after a certain amount only the biggest places can make that much in sales. This would skew our data toward the more 'acheivable' Sales_total values and cause the larger transactions to appear as outliers."
   ]
  },
  {
   "cell_type": "markdown",
   "id": "e05d5b36",
   "metadata": {},
   "source": [
    "We now convert the date column from object to datetime"
   ]
  },
  {
   "cell_type": "code",
   "execution_count": 79,
   "id": "479807b2",
   "metadata": {},
   "outputs": [],
   "source": [
    "#Date (object) --> Date (datetime)\n",
    "train['Date'] = pd.to_datetime(train['Date'])\n",
    "test['Date'] = pd.to_datetime(test['Date'])"
   ]
  },
  {
   "cell_type": "markdown",
   "id": "61deb223",
   "metadata": {},
   "source": [
    "#### 3.1.3: Categorical Data"
   ]
  },
  {
   "cell_type": "code",
   "execution_count": 80,
   "id": "f493dd32",
   "metadata": {},
   "outputs": [
    {
     "data": {
      "image/png": "[encoded data removed]",
      "text/plain": [
       "<Figure size 1440x648 with 3 Axes>"
      ]
     },
     "metadata": {
      "needs_background": "light"
     },
     "output_type": "display_data"
    }
   ],
   "source": [
    "#Plot countplots of categorical data\n",
    "fig, ax =plt.subplots(1,3, figsize=(20, 9))\n",
    "sns.countplot(x=train['Size_Grade'], ax=ax[0])\n",
    "sns.countplot(x=train['Container'], ax=ax[1])\n",
    "sns.countplot(x=\"Province\", data=train, ax=ax[2])\n",
    "ax[2].tick_params(labelrotation=45)\n",
    "fig.tight_layout(pad=4.0)"
   ]
  },
  {
   "cell_type": "code",
   "execution_count": 81,
   "id": "446cc484",
   "metadata": {},
   "outputs": [
    {
     "data": {
      "text/plain": [
       "[['CAPE', 53.53],\n",
       " ['EASTERN CAPE', 10.55],\n",
       " ['NATAL', 5.69],\n",
       " ['ORANGE FREE STATE', 0.46],\n",
       " ['TRANSVAAL', 0.77],\n",
       " ['W.CAPE-BERGRIVER ETC', 22.54],\n",
       " ['WEST COAST', 6.45]]"
      ]
     },
     "execution_count": 81,
     "metadata": {},
     "output_type": "execute_result"
    }
   ],
   "source": [
    "#count of Province as a percentage of all provinces\n",
    "dict_Prov=[]\n",
    "for x in sorted(train['Province'].unique()):\n",
    "    dict_Prov.append([x,round(len(train[train['Province']==x])*100/len(train['Province']),2)])\n",
    "dict_Prov"
   ]
  },
  {
   "cell_type": "code",
   "execution_count": 82,
   "id": "0fe61fbd",
   "metadata": {},
   "outputs": [
    {
     "data": {
      "text/plain": [
       "[['AC030', 1.59],\n",
       " ['DT063', 0.31],\n",
       " ['EC120', 22.95],\n",
       " ['EF120', 3.79],\n",
       " ['EG140', 0.15],\n",
       " ['IA400', 7.12],\n",
       " ['JE090', 28.94],\n",
       " ['JG110', 4.35],\n",
       " ['M4183', 30.12],\n",
       " ['M6125', 0.51],\n",
       " ['M9125', 0.15]]"
      ]
     },
     "execution_count": 82,
     "metadata": {},
     "output_type": "execute_result"
    }
   ],
   "source": [
    "#count of Container as a percentage of all containers\n",
    "dict_Cont=[]\n",
    "for x in sorted(train['Container'].unique()):\n",
    "    dict_Cont.append([x,round(len(train[train['Container']==x])*100/len(train['Container']),2)])\n",
    "dict_Cont"
   ]
  },
  {
   "cell_type": "code",
   "execution_count": 83,
   "id": "ac9fecba",
   "metadata": {},
   "outputs": [
    {
     "data": {
      "text/plain": [
       "[['1L', 11.53],\n",
       " ['1M', 16.34],\n",
       " ['1S', 27.25],\n",
       " ['1U', 0.1],\n",
       " ['1X', 8.76],\n",
       " ['2L', 6.15],\n",
       " ['2M', 11.89],\n",
       " ['2S', 15.78],\n",
       " ['2U', 0.87],\n",
       " ['2X', 1.33]]"
      ]
     },
     "execution_count": 83,
     "metadata": {},
     "output_type": "execute_result"
    }
   ],
   "source": [
    "#count of Size_Grade as a percentage of all Size_Grades\n",
    "dict_Sgr=[]\n",
    "for x in sorted(train['Size_Grade'].unique()):\n",
    "    dict_Sgr.append([x,round(len(train[train['Size_Grade']==x])*100/len(train['Size_Grade']),2)])\n",
    "dict_Sgr"
   ]
  },
  {
   "cell_type": "markdown",
   "id": "bad2865b",
   "metadata": {},
   "source": [
    "## 3.2: Multivariate Analysis"
   ]
  },
  {
   "cell_type": "markdown",
   "id": "d36d7dec",
   "metadata": {},
   "source": [
    "#### 3.2.1: Date and avg_price_per_kg"
   ]
  },
  {
   "cell_type": "code",
   "execution_count": 84,
   "id": "654d6d32",
   "metadata": {},
   "outputs": [
    {
     "data": {
      "text/plain": [
       "array(['2020-9', '2020-4', '2020-5', '2020-3', '2019-12', '2020-8',\n",
       "       '2020-7', '2020-2', '2020-6', '2020-1', '2020-10'], dtype=object)"
      ]
     },
     "execution_count": 84,
     "metadata": {},
     "output_type": "execute_result"
    }
   ],
   "source": [
    "#seperating date,month and year\n",
    "training_day=pd.DataFrame([])\n",
    "training_day['avg_price_per_kg']=train['avg_price_per_kg']\n",
    "training_day['Date']=train['Date']\n",
    "training_day['Day']=[x.weekday() for x in train['Date']]\n",
    "training_day['Month']=[x.month for x in train['Date']]\n",
    "training_day['Year-Month']=[str(x.year)+'-'+str(x.month) for x in train['Date']]\n",
    "training_day['Year-Month'].unique()"
   ]
  },
  {
   "cell_type": "code",
   "execution_count": 85,
   "id": "e578ac2c",
   "metadata": {},
   "outputs": [
    {
     "data": {
      "image/png": "[encoded data removed]",
      "text/plain": [
       "<Figure size 1440x648 with 3 Axes>"
      ]
     },
     "metadata": {
      "needs_background": "light"
     },
     "output_type": "display_data"
    }
   ],
   "source": [
    "#Scatterplot of data_components and avg_price_per_kg\n",
    "fig, ax =plt.subplots(1,3, figsize=(20, 9))\n",
    "i=0\n",
    "for a in training_day.drop(['Date','avg_price_per_kg'],axis=1).columns:\n",
    "    sns.scatterplot(x=training_day[a],y=training_day['avg_price_per_kg'],ax=ax[i])\n",
    "    i+=1\n",
    "ax[2].tick_params(labelrotation=45)\n",
    "fig.tight_layout(pad=4.0)"
   ]
  },
  {
   "cell_type": "code",
   "execution_count": 86,
   "id": "9980958a",
   "metadata": {},
   "outputs": [
    {
     "data": {
      "image/png": "[encoded data removed]",
      "text/plain": [
       "<Figure size 1440x648 with 3 Axes>"
      ]
     },
     "metadata": {
      "needs_background": "light"
     },
     "output_type": "display_data"
    }
   ],
   "source": [
    "fig, ax =plt.subplots(1,3, figsize=(20, 9))\n",
    "i=0\n",
    "for a in training_day.drop(['Date','avg_price_per_kg'],axis=1).columns:\n",
    "    avg_date_comp=training_day.groupby(a)['avg_price_per_kg'].mean()\n",
    "    sns.scatterplot(x=avg_date_comp.index,y=avg_date_comp,ax=ax[i])\n",
    "    i+=1"
   ]
  },
  {
   "cell_type": "markdown",
   "id": "e2e76cd8",
   "metadata": {},
   "source": [
    "The relationship between the day of the week and the mean of the avg_price_per_kg is the most clear. Also,considering the data we have is not even for 1 complete year, the relationship between month and mean of avg_price_per_kg cannot be determined to any meaningful degree. Since each month only appears once and some of them are in different years.\n",
    "\n",
    "We will use the day of the week in our modelling since it's average is taken over many months."
   ]
  },
  {
   "cell_type": "code",
   "execution_count": 87,
   "id": "c1775a44",
   "metadata": {},
   "outputs": [
    {
     "name": "stdout",
     "output_type": "stream",
     "text": [
      "<class 'pandas.core.frame.DataFrame'>\n",
      "Int64Index: 1952 entries, 1 to 64310\n",
      "Data columns (total 12 columns):\n",
      " #   Column            Non-Null Count  Dtype  \n",
      "---  ------            --------------  -----  \n",
      " 0   Province          1952 non-null   object \n",
      " 1   Container         1952 non-null   object \n",
      " 2   Size_Grade        1952 non-null   object \n",
      " 3   Weight_Kg         1952 non-null   float64\n",
      " 4   Low_Price         1952 non-null   float64\n",
      " 5   High_Price        1952 non-null   float64\n",
      " 6   Sales_Total       1952 non-null   float64\n",
      " 7   Total_Qty_Sold    1952 non-null   int64  \n",
      " 8   Total_Kg_Sold     1952 non-null   float64\n",
      " 9   Stock_On_Hand     1952 non-null   int64  \n",
      " 10  avg_price_per_kg  1952 non-null   float64\n",
      " 11  Day               1952 non-null   int64  \n",
      "dtypes: float64(6), int64(3), object(3)\n",
      "memory usage: 262.8+ KB\n"
     ]
    }
   ],
   "source": [
    "train_dummies=train.copy()\n",
    "test_dummies=test.copy()\n",
    "\n",
    "train_dummies['Day']=training_day['Day']\n",
    "train_dummies=train_dummies.drop('Date',axis=1)\n",
    "\n",
    "test_dummies['Day']=[x.weekday() for x in test['Date']]\n",
    "test_dummies=test_dummies.drop('Date',axis=1)\n",
    "train_dummies.info()"
   ]
  },
  {
   "cell_type": "markdown",
   "id": "eb350afc",
   "metadata": {},
   "source": [
    "#### 3.2.2 Categorical data  and avg_price_per_kg"
   ]
  },
  {
   "cell_type": "code",
   "execution_count": 88,
   "id": "c0e3bdb0",
   "metadata": {},
   "outputs": [
    {
     "data": {
      "image/png": "[encoded data removed]",
      "text/plain": [
       "<Figure size 432x288 with 1 Axes>"
      ]
     },
     "metadata": {
      "needs_background": "light"
     },
     "output_type": "display_data"
    }
   ],
   "source": [
    "#Plotting the mean avg_price_per_kg against the Date\n",
    "avg_container=train_dummies.groupby('Container')['avg_price_per_kg'].mean()\n",
    "sns.barplot(x=avg_container.index,y=avg_container)\n",
    "plt.tick_params(labelrotation=45)"
   ]
  },
  {
   "cell_type": "code",
   "execution_count": 89,
   "id": "8db86349",
   "metadata": {},
   "outputs": [
    {
     "data": {
      "image/png": "[encoded data removed]",
      "text/plain": [
       "<Figure size 432x288 with 1 Axes>"
      ]
     },
     "metadata": {
      "needs_background": "light"
     },
     "output_type": "display_data"
    }
   ],
   "source": [
    "avg_prov=train_dummies.groupby('Province')['avg_price_per_kg'].mean()\n",
    "sns.barplot(x=avg_prov.index,y=avg_prov)\n",
    "plt.tick_params(labelrotation=45)"
   ]
  },
  {
   "cell_type": "code",
   "execution_count": 90,
   "id": "bdad3222",
   "metadata": {},
   "outputs": [
    {
     "data": {
      "image/png": "[encoded data removed]",
      "text/plain": [
       "<Figure size 432x288 with 1 Axes>"
      ]
     },
     "metadata": {
      "needs_background": "light"
     },
     "output_type": "display_data"
    }
   ],
   "source": [
    "avg_sgr=train_dummies.groupby('Size_Grade')['avg_price_per_kg'].mean()\n",
    "sns.barplot(x=avg_sgr.index,y=avg_sgr)\n",
    "plt.tick_params(labelrotation=45)"
   ]
  },
  {
   "cell_type": "markdown",
   "id": "52e122c8",
   "metadata": {},
   "source": [
    "As we can see, the mean of the avg_price_per_kg has some variance depending on the goup it belongs to for each of the categoical columns. Thus we should try to incorporate this data into out model. We do so by converting the categorical data into dummy variables."
   ]
  },
  {
   "cell_type": "code",
   "execution_count": 91,
   "id": "8ceced9c",
   "metadata": {},
   "outputs": [],
   "source": [
    "train_dummies = pd.get_dummies(train_dummies,drop_first=True)\n",
    "train_dummies.columns = [col.replace(\" \",\"_\") for col in train_dummies.columns]\n",
    "train_dummies.columns = [col.replace(\".\",\"_\") for col in train_dummies.columns]\n",
    "train_dummies.columns = [col.replace(\"-\",\"_\") for col in train_dummies.columns]\n",
    "test_dummies = pd.get_dummies(test_dummies,drop_first=True)\n",
    "test_dummies.columns = [col.replace(\" \",\"_\") for col in test_dummies.columns]\n",
    "test_dummies.columns = [col.replace(\".\",\"_\") for col in test_dummies.columns]\n",
    "test_dummies.columns = [col.replace(\"-\",\"_\") for col in test_dummies.columns]"
   ]
  },
  {
   "cell_type": "code",
   "execution_count": 92,
   "id": "a03cf7d6",
   "metadata": {},
   "outputs": [
    {
     "name": "stdout",
     "output_type": "stream",
     "text": [
      "<class 'pandas.core.frame.DataFrame'>\n",
      "Int64Index: 1952 entries, 1 to 64310\n",
      "Data columns (total 34 columns):\n",
      " #   Column                         Non-Null Count  Dtype  \n",
      "---  ------                         --------------  -----  \n",
      " 0   Weight_Kg                      1952 non-null   float64\n",
      " 1   Low_Price                      1952 non-null   float64\n",
      " 2   High_Price                     1952 non-null   float64\n",
      " 3   Sales_Total                    1952 non-null   float64\n",
      " 4   Total_Qty_Sold                 1952 non-null   int64  \n",
      " 5   Total_Kg_Sold                  1952 non-null   float64\n",
      " 6   Stock_On_Hand                  1952 non-null   int64  \n",
      " 7   avg_price_per_kg               1952 non-null   float64\n",
      " 8   Day                            1952 non-null   int64  \n",
      " 9   Province_EASTERN_CAPE          1952 non-null   uint8  \n",
      " 10  Province_NATAL                 1952 non-null   uint8  \n",
      " 11  Province_ORANGE_FREE_STATE     1952 non-null   uint8  \n",
      " 12  Province_TRANSVAAL             1952 non-null   uint8  \n",
      " 13  Province_W_CAPE_BERGRIVER_ETC  1952 non-null   uint8  \n",
      " 14  Province_WEST_COAST            1952 non-null   uint8  \n",
      " 15  Container_DT063                1952 non-null   uint8  \n",
      " 16  Container_EC120                1952 non-null   uint8  \n",
      " 17  Container_EF120                1952 non-null   uint8  \n",
      " 18  Container_EG140                1952 non-null   uint8  \n",
      " 19  Container_IA400                1952 non-null   uint8  \n",
      " 20  Container_JE090                1952 non-null   uint8  \n",
      " 21  Container_JG110                1952 non-null   uint8  \n",
      " 22  Container_M4183                1952 non-null   uint8  \n",
      " 23  Container_M6125                1952 non-null   uint8  \n",
      " 24  Container_M9125                1952 non-null   uint8  \n",
      " 25  Size_Grade_1M                  1952 non-null   uint8  \n",
      " 26  Size_Grade_1S                  1952 non-null   uint8  \n",
      " 27  Size_Grade_1U                  1952 non-null   uint8  \n",
      " 28  Size_Grade_1X                  1952 non-null   uint8  \n",
      " 29  Size_Grade_2L                  1952 non-null   uint8  \n",
      " 30  Size_Grade_2M                  1952 non-null   uint8  \n",
      " 31  Size_Grade_2S                  1952 non-null   uint8  \n",
      " 32  Size_Grade_2U                  1952 non-null   uint8  \n",
      " 33  Size_Grade_2X                  1952 non-null   uint8  \n",
      "dtypes: float64(6), int64(3), uint8(25)\n",
      "memory usage: 264.7 KB\n"
     ]
    }
   ],
   "source": [
    "train_dummies.info()"
   ]
  },
  {
   "cell_type": "markdown",
   "id": "0a68c2b3",
   "metadata": {},
   "source": [
    "All of our data is are now numeric."
   ]
  },
  {
   "cell_type": "markdown",
   "id": "7091e276",
   "metadata": {},
   "source": [
    "#### 3.2.3: Numerical values and avg_price_per_kg"
   ]
  },
  {
   "cell_type": "markdown",
   "id": "60ecfaa3",
   "metadata": {},
   "source": [
    "To perfrom linear regression we make the assumption that there is an underlying linear formula to the data we are modelling. So to optimize our model we select features so that they have a correlation with our data. While at the same time, a feature with too little variance means that the feature has little impact on our response variable and can be removed.\n",
    "\n",
    "In the following section we will take alot look at the importance of each variable one the response by looking at it's correlation with the response variable as well as it's p-value.\n",
    "\n",
    "We will also make sure we try and avoid multicollinearity.\n",
    "\n",
    "Finally we will select features based on a variance threshold."
   ]
  },
  {
   "cell_type": "code",
   "execution_count": 93,
   "id": "bda58953",
   "metadata": {},
   "outputs": [
    {
     "data": {
      "text/html": [
       "<div>\n",
       "<style scoped>\n",
       "    .dataframe tbody tr th:only-of-type {\n",
       "        vertical-align: middle;\n",
       "    }\n",
       "\n",
       "    .dataframe tbody tr th {\n",
       "        vertical-align: top;\n",
       "    }\n",
       "\n",
       "    .dataframe thead th {\n",
       "        text-align: right;\n",
       "    }\n",
       "</style>\n",
       "<table border=\"1\" class=\"dataframe\">\n",
       "  <thead>\n",
       "    <tr style=\"text-align: right;\">\n",
       "      <th></th>\n",
       "      <th>Correlation_Coefficient</th>\n",
       "      <th>P_Value</th>\n",
       "    </tr>\n",
       "  </thead>\n",
       "  <tbody>\n",
       "    <tr>\n",
       "      <th>Container_M4183</th>\n",
       "      <td>0.403229</td>\n",
       "      <td>0.000000</td>\n",
       "    </tr>\n",
       "    <tr>\n",
       "      <th>Size_Grade_2S</th>\n",
       "      <td>-0.352996</td>\n",
       "      <td>0.000000</td>\n",
       "    </tr>\n",
       "    <tr>\n",
       "      <th>Weight_Kg</th>\n",
       "      <td>-0.337886</td>\n",
       "      <td>0.000000</td>\n",
       "    </tr>\n",
       "    <tr>\n",
       "      <th>Container_JE090</th>\n",
       "      <td>-0.322235</td>\n",
       "      <td>0.000000</td>\n",
       "    </tr>\n",
       "    <tr>\n",
       "      <th>Province_EASTERN_CAPE</th>\n",
       "      <td>-0.178531</td>\n",
       "      <td>0.000000</td>\n",
       "    </tr>\n",
       "    <tr>\n",
       "      <th>High_Price</th>\n",
       "      <td>-0.164496</td>\n",
       "      <td>0.000000</td>\n",
       "    </tr>\n",
       "    <tr>\n",
       "      <th>Size_Grade_2M</th>\n",
       "      <td>-0.153372</td>\n",
       "      <td>0.000000</td>\n",
       "    </tr>\n",
       "    <tr>\n",
       "      <th>Low_Price</th>\n",
       "      <td>-0.141740</td>\n",
       "      <td>0.000000</td>\n",
       "    </tr>\n",
       "    <tr>\n",
       "      <th>Container_JG110</th>\n",
       "      <td>-0.140148</td>\n",
       "      <td>0.000000</td>\n",
       "    </tr>\n",
       "    <tr>\n",
       "      <th>Container_IA400</th>\n",
       "      <td>-0.355565</td>\n",
       "      <td>0.000000</td>\n",
       "    </tr>\n",
       "    <tr>\n",
       "      <th>Province_NATAL</th>\n",
       "      <td>-0.379801</td>\n",
       "      <td>0.000000</td>\n",
       "    </tr>\n",
       "    <tr>\n",
       "      <th>Province_W_CAPE_BERGRIVER_ETC</th>\n",
       "      <td>0.262051</td>\n",
       "      <td>0.000000</td>\n",
       "    </tr>\n",
       "    <tr>\n",
       "      <th>Size_Grade_1X</th>\n",
       "      <td>0.251451</td>\n",
       "      <td>0.000000</td>\n",
       "    </tr>\n",
       "    <tr>\n",
       "      <th>Container_EC120</th>\n",
       "      <td>0.188162</td>\n",
       "      <td>0.000000</td>\n",
       "    </tr>\n",
       "    <tr>\n",
       "      <th>Size_Grade_1M</th>\n",
       "      <td>0.175779</td>\n",
       "      <td>0.000000</td>\n",
       "    </tr>\n",
       "    <tr>\n",
       "      <th>Container_EF120</th>\n",
       "      <td>0.114297</td>\n",
       "      <td>0.000000</td>\n",
       "    </tr>\n",
       "    <tr>\n",
       "      <th>Sales_Total</th>\n",
       "      <td>0.108473</td>\n",
       "      <td>0.000002</td>\n",
       "    </tr>\n",
       "    <tr>\n",
       "      <th>Stock_On_Hand</th>\n",
       "      <td>0.105028</td>\n",
       "      <td>0.000003</td>\n",
       "    </tr>\n",
       "    <tr>\n",
       "      <th>Size_Grade_2L</th>\n",
       "      <td>-0.089733</td>\n",
       "      <td>0.000072</td>\n",
       "    </tr>\n",
       "    <tr>\n",
       "      <th>Total_Qty_Sold</th>\n",
       "      <td>0.087536</td>\n",
       "      <td>0.000108</td>\n",
       "    </tr>\n",
       "    <tr>\n",
       "      <th>Size_Grade_2U</th>\n",
       "      <td>-0.069457</td>\n",
       "      <td>0.002137</td>\n",
       "    </tr>\n",
       "    <tr>\n",
       "      <th>Day</th>\n",
       "      <td>0.065115</td>\n",
       "      <td>0.004001</td>\n",
       "    </tr>\n",
       "    <tr>\n",
       "      <th>Container_DT063</th>\n",
       "      <td>-0.059579</td>\n",
       "      <td>0.008465</td>\n",
       "    </tr>\n",
       "    <tr>\n",
       "      <th>Size_Grade_2X</th>\n",
       "      <td>-0.051624</td>\n",
       "      <td>0.022556</td>\n",
       "    </tr>\n",
       "  </tbody>\n",
       "</table>\n",
       "</div>"
      ],
      "text/plain": [
       "                               Correlation_Coefficient   P_Value\n",
       "Container_M4183                               0.403229  0.000000\n",
       "Size_Grade_2S                                -0.352996  0.000000\n",
       "Weight_Kg                                    -0.337886  0.000000\n",
       "Container_JE090                              -0.322235  0.000000\n",
       "Province_EASTERN_CAPE                        -0.178531  0.000000\n",
       "High_Price                                   -0.164496  0.000000\n",
       "Size_Grade_2M                                -0.153372  0.000000\n",
       "Low_Price                                    -0.141740  0.000000\n",
       "Container_JG110                              -0.140148  0.000000\n",
       "Container_IA400                              -0.355565  0.000000\n",
       "Province_NATAL                               -0.379801  0.000000\n",
       "Province_W_CAPE_BERGRIVER_ETC                 0.262051  0.000000\n",
       "Size_Grade_1X                                 0.251451  0.000000\n",
       "Container_EC120                               0.188162  0.000000\n",
       "Size_Grade_1M                                 0.175779  0.000000\n",
       "Container_EF120                               0.114297  0.000000\n",
       "Sales_Total                                   0.108473  0.000002\n",
       "Stock_On_Hand                                 0.105028  0.000003\n",
       "Size_Grade_2L                                -0.089733  0.000072\n",
       "Total_Qty_Sold                                0.087536  0.000108\n",
       "Size_Grade_2U                                -0.069457  0.002137\n",
       "Day                                           0.065115  0.004001\n",
       "Container_DT063                              -0.059579  0.008465\n",
       "Size_Grade_2X                                -0.051624  0.022556"
      ]
     },
     "execution_count": 93,
     "metadata": {},
     "output_type": "execute_result"
    }
   ],
   "source": [
    "#Corellation and P-Values against avg_price_per_kg\n",
    "corrs = train_dummies.corr()['avg_price_per_kg'].sort_values(ascending=False)\n",
    "# Build a dictionary of correlation coefficients and p-values\n",
    "dict_cp = {}\n",
    "\n",
    "column_titles = [col for col in corrs.index if col!= 'avg_price_per_kg']\n",
    "for col in column_titles:\n",
    "    p_val = round(pearsonr(train_dummies[col], train_dummies['avg_price_per_kg'])[1],6)\n",
    "    dict_cp[col] = {'Correlation_Coefficient':corrs[col],\n",
    "                    'P_Value':p_val}\n",
    "    \n",
    "train_cp = pd.DataFrame(dict_cp).T\n",
    "train_cp_sorted = train_cp.sort_values('P_Value')\n",
    "train_cp_sorted[train_cp_sorted['P_Value']<0.1]"
   ]
  },
  {
   "cell_type": "code",
   "execution_count": 94,
   "id": "a2f0225e",
   "metadata": {},
   "outputs": [],
   "source": [
    "# The dependent variable remains the same:\n",
    "y_data = train_dummies['avg_price_per_kg']  \n",
    " \n",
    "#Choosing features based on P-Values\n",
    "X_names = list(train_cp[train_cp['P_Value'] < 0.1].index)\n",
    "X_data = train_dummies[X_names]\n",
    "\n",
    "X_data_test=test_dummies[X_names]"
   ]
  },
  {
   "cell_type": "code",
   "execution_count": 95,
   "id": "946dc0d1",
   "metadata": {},
   "outputs": [
    {
     "data": {
      "text/html": [
       "<div>\n",
       "<style scoped>\n",
       "    .dataframe tbody tr th:only-of-type {\n",
       "        vertical-align: middle;\n",
       "    }\n",
       "\n",
       "    .dataframe tbody tr th {\n",
       "        vertical-align: top;\n",
       "    }\n",
       "\n",
       "    .dataframe thead th {\n",
       "        text-align: right;\n",
       "    }\n",
       "</style>\n",
       "<table border=\"1\" class=\"dataframe\">\n",
       "  <thead>\n",
       "    <tr style=\"text-align: right;\">\n",
       "      <th></th>\n",
       "      <th>High_Price</th>\n",
       "      <th>Low_Price</th>\n",
       "      <th>Weight_Kg</th>\n",
       "      <th>Container_IA400</th>\n",
       "      <th>High_Price</th>\n",
       "      <th>Container_IA400</th>\n",
       "      <th>High_Price</th>\n",
       "      <th>Weight_Kg</th>\n",
       "    </tr>\n",
       "  </thead>\n",
       "  <tbody>\n",
       "    <tr>\n",
       "      <th>Low_Price</th>\n",
       "      <td>0.938140</td>\n",
       "      <td>1.000000</td>\n",
       "      <td>0.863182</td>\n",
       "      <td>0.860219</td>\n",
       "      <td>0.938140</td>\n",
       "      <td>0.860219</td>\n",
       "      <td>0.938140</td>\n",
       "      <td>0.863182</td>\n",
       "    </tr>\n",
       "    <tr>\n",
       "      <th>High_Price</th>\n",
       "      <td>1.000000</td>\n",
       "      <td>0.938140</td>\n",
       "      <td>0.905852</td>\n",
       "      <td>0.902518</td>\n",
       "      <td>1.000000</td>\n",
       "      <td>0.902518</td>\n",
       "      <td>1.000000</td>\n",
       "      <td>0.905852</td>\n",
       "    </tr>\n",
       "    <tr>\n",
       "      <th>High_Price</th>\n",
       "      <td>1.000000</td>\n",
       "      <td>0.938140</td>\n",
       "      <td>0.905852</td>\n",
       "      <td>0.902518</td>\n",
       "      <td>1.000000</td>\n",
       "      <td>0.902518</td>\n",
       "      <td>1.000000</td>\n",
       "      <td>0.905852</td>\n",
       "    </tr>\n",
       "    <tr>\n",
       "      <th>High_Price</th>\n",
       "      <td>1.000000</td>\n",
       "      <td>0.938140</td>\n",
       "      <td>0.905852</td>\n",
       "      <td>0.902518</td>\n",
       "      <td>1.000000</td>\n",
       "      <td>0.902518</td>\n",
       "      <td>1.000000</td>\n",
       "      <td>0.905852</td>\n",
       "    </tr>\n",
       "    <tr>\n",
       "      <th>Weight_Kg</th>\n",
       "      <td>0.905852</td>\n",
       "      <td>0.863182</td>\n",
       "      <td>1.000000</td>\n",
       "      <td>0.999231</td>\n",
       "      <td>0.905852</td>\n",
       "      <td>0.999231</td>\n",
       "      <td>0.905852</td>\n",
       "      <td>1.000000</td>\n",
       "    </tr>\n",
       "    <tr>\n",
       "      <th>Weight_Kg</th>\n",
       "      <td>0.905852</td>\n",
       "      <td>0.863182</td>\n",
       "      <td>1.000000</td>\n",
       "      <td>0.999231</td>\n",
       "      <td>0.905852</td>\n",
       "      <td>0.999231</td>\n",
       "      <td>0.905852</td>\n",
       "      <td>1.000000</td>\n",
       "    </tr>\n",
       "    <tr>\n",
       "      <th>Container_IA400</th>\n",
       "      <td>0.902518</td>\n",
       "      <td>0.860219</td>\n",
       "      <td>0.999231</td>\n",
       "      <td>1.000000</td>\n",
       "      <td>0.902518</td>\n",
       "      <td>1.000000</td>\n",
       "      <td>0.902518</td>\n",
       "      <td>0.999231</td>\n",
       "    </tr>\n",
       "    <tr>\n",
       "      <th>Container_IA400</th>\n",
       "      <td>0.902518</td>\n",
       "      <td>0.860219</td>\n",
       "      <td>0.999231</td>\n",
       "      <td>1.000000</td>\n",
       "      <td>0.902518</td>\n",
       "      <td>1.000000</td>\n",
       "      <td>0.902518</td>\n",
       "      <td>0.999231</td>\n",
       "    </tr>\n",
       "  </tbody>\n",
       "</table>\n",
       "</div>"
      ],
      "text/plain": [
       "                 High_Price  Low_Price  Weight_Kg  Container_IA400  \\\n",
       "Low_Price          0.938140   1.000000   0.863182         0.860219   \n",
       "High_Price         1.000000   0.938140   0.905852         0.902518   \n",
       "High_Price         1.000000   0.938140   0.905852         0.902518   \n",
       "High_Price         1.000000   0.938140   0.905852         0.902518   \n",
       "Weight_Kg          0.905852   0.863182   1.000000         0.999231   \n",
       "Weight_Kg          0.905852   0.863182   1.000000         0.999231   \n",
       "Container_IA400    0.902518   0.860219   0.999231         1.000000   \n",
       "Container_IA400    0.902518   0.860219   0.999231         1.000000   \n",
       "\n",
       "                 High_Price  Container_IA400  High_Price  Weight_Kg  \n",
       "Low_Price          0.938140         0.860219    0.938140   0.863182  \n",
       "High_Price         1.000000         0.902518    1.000000   0.905852  \n",
       "High_Price         1.000000         0.902518    1.000000   0.905852  \n",
       "High_Price         1.000000         0.902518    1.000000   0.905852  \n",
       "Weight_Kg          0.905852         0.999231    0.905852   1.000000  \n",
       "Weight_Kg          0.905852         0.999231    0.905852   1.000000  \n",
       "Container_IA400    0.902518         1.000000    0.902518   0.999231  \n",
       "Container_IA400    0.902518         1.000000    0.902518   0.999231  "
      ]
     },
     "execution_count": 95,
     "metadata": {},
     "output_type": "execute_result"
    }
   ],
   "source": [
    "# correlation matrix and find rows and columns where correlation coefficients > 0.9 or <-0.9\n",
    "corr = X_data.corr()\n",
    "r, c = np.where(np.abs(corr) >0.9)\n",
    "\n",
    "# We are only interested in the off diagonal entries:\n",
    "off_diagonal = np.where(r != c)\n",
    "\n",
    "# Show the correlation matrix rows and columns where we have highly correlated off diagonal entries:\n",
    "corr.iloc[r[off_diagonal], c[off_diagonal]]"
   ]
  },
  {
   "cell_type": "markdown",
   "id": "6f9a9e8c",
   "metadata": {},
   "source": [
    "The columns 'Container_IA400','Low_Price','High_Price' and 'Weight_Kg' are highly correlated. We drop all except for 'Weight_Kg'"
   ]
  },
  {
   "cell_type": "code",
   "execution_count": 96,
   "id": "cc7c4052",
   "metadata": {},
   "outputs": [],
   "source": [
    "X_data = X_data.drop(['Container_IA400','Low_Price','High_Price'],axis=1)\n",
    "X_data_test=X_data_test.drop(['Container_IA400','Low_Price','High_Price'],axis=1)"
   ]
  },
  {
   "cell_type": "code",
   "execution_count": 97,
   "id": "d0422202",
   "metadata": {},
   "outputs": [
    {
     "data": {
      "image/png": "[encoded data removed]",
      "text/plain": [
       "<Figure size 1080x1080 with 1 Axes>"
      ]
     },
     "metadata": {
      "needs_background": "light"
     },
     "output_type": "display_data"
    }
   ],
   "source": [
    "from statsmodels.graphics.correlation import plot_corr\n",
    "\n",
    "fig = plt.figure(figsize=(15,15));\n",
    "ax = fig.add_subplot(111);\n",
    "plot_corr(X_data.corr(), xnames = X_data.corr().columns, ax = ax);"
   ]
  },
  {
   "cell_type": "markdown",
   "id": "254ba6d9",
   "metadata": {},
   "source": [
    "It seems like most of the colinearity has been taken care of."
   ]
  },
  {
   "cell_type": "markdown",
   "id": "89726496",
   "metadata": {},
   "source": [
    "Next we filter by variance threshold\n",
    "\n",
    "Variance is dependant on scale, so we nomalize our data"
   ]
  },
  {
   "cell_type": "code",
   "execution_count": 98,
   "id": "3c07ae89",
   "metadata": {},
   "outputs": [],
   "source": [
    "# Normalize data\n",
    "from sklearn.preprocessing import MinMaxScaler\n",
    "scaler = MinMaxScaler()\n",
    "X_scaled = scaler.fit_transform(X_data)\n",
    "X_normalize = pd.DataFrame(X_scaled, columns=X_data.columns)"
   ]
  },
  {
   "cell_type": "code",
   "execution_count": 99,
   "id": "2186b2dd",
   "metadata": {},
   "outputs": [
    {
     "data": {
      "text/plain": [
       "VarianceThreshold(threshold=0.05)"
      ]
     },
     "execution_count": 99,
     "metadata": {},
     "output_type": "execute_result"
    }
   ],
   "source": [
    "from sklearn.feature_selection import VarianceThreshold\n",
    "\n",
    "# Create VarianceThreshold object\n",
    "selector = VarianceThreshold(threshold=0.05)\n",
    "\n",
    "# Use the object to apply the threshold on data\n",
    "selector.fit(X_normalize)"
   ]
  },
  {
   "cell_type": "code",
   "execution_count": 100,
   "id": "803de2e6",
   "metadata": {},
   "outputs": [
    {
     "data": {
      "text/html": [
       "<div>\n",
       "<style scoped>\n",
       "    .dataframe tbody tr th:only-of-type {\n",
       "        vertical-align: middle;\n",
       "    }\n",
       "\n",
       "    .dataframe tbody tr th {\n",
       "        vertical-align: top;\n",
       "    }\n",
       "\n",
       "    .dataframe thead th {\n",
       "        text-align: right;\n",
       "    }\n",
       "</style>\n",
       "<table border=\"1\" class=\"dataframe\">\n",
       "  <thead>\n",
       "    <tr style=\"text-align: right;\">\n",
       "      <th></th>\n",
       "      <th>Variable_Name</th>\n",
       "      <th>Variance</th>\n",
       "    </tr>\n",
       "  </thead>\n",
       "  <tbody>\n",
       "    <tr>\n",
       "      <th>0</th>\n",
       "      <td>Container_M4183</td>\n",
       "      <td>0.210490</td>\n",
       "    </tr>\n",
       "    <tr>\n",
       "      <th>17</th>\n",
       "      <td>Container_JE090</td>\n",
       "      <td>0.205667</td>\n",
       "    </tr>\n",
       "    <tr>\n",
       "      <th>3</th>\n",
       "      <td>Container_EC120</td>\n",
       "      <td>0.176834</td>\n",
       "    </tr>\n",
       "    <tr>\n",
       "      <th>1</th>\n",
       "      <td>Province_W_CAPE_BERGRIVER_ETC</td>\n",
       "      <td>0.174600</td>\n",
       "    </tr>\n",
       "    <tr>\n",
       "      <th>4</th>\n",
       "      <td>Size_Grade_1M</td>\n",
       "      <td>0.136715</td>\n",
       "    </tr>\n",
       "    <tr>\n",
       "      <th>19</th>\n",
       "      <td>Size_Grade_2S</td>\n",
       "      <td>0.132890</td>\n",
       "    </tr>\n",
       "    <tr>\n",
       "      <th>15</th>\n",
       "      <td>Size_Grade_2M</td>\n",
       "      <td>0.104727</td>\n",
       "    </tr>\n",
       "    <tr>\n",
       "      <th>9</th>\n",
       "      <td>Day</td>\n",
       "      <td>0.097036</td>\n",
       "    </tr>\n",
       "    <tr>\n",
       "      <th>16</th>\n",
       "      <td>Province_EASTERN_CAPE</td>\n",
       "      <td>0.094396</td>\n",
       "    </tr>\n",
       "    <tr>\n",
       "      <th>2</th>\n",
       "      <td>Size_Grade_1X</td>\n",
       "      <td>0.079928</td>\n",
       "    </tr>\n",
       "    <tr>\n",
       "      <th>18</th>\n",
       "      <td>Weight_Kg</td>\n",
       "      <td>0.062979</td>\n",
       "    </tr>\n",
       "    <tr>\n",
       "      <th>13</th>\n",
       "      <td>Size_Grade_2L</td>\n",
       "      <td>0.057696</td>\n",
       "    </tr>\n",
       "    <tr>\n",
       "      <th>20</th>\n",
       "      <td>Province_NATAL</td>\n",
       "      <td>0.053631</td>\n",
       "    </tr>\n",
       "    <tr>\n",
       "      <th>14</th>\n",
       "      <td>Container_JG110</td>\n",
       "      <td>0.041649</td>\n",
       "    </tr>\n",
       "    <tr>\n",
       "      <th>5</th>\n",
       "      <td>Container_EF120</td>\n",
       "      <td>0.036473</td>\n",
       "    </tr>\n",
       "    <tr>\n",
       "      <th>10</th>\n",
       "      <td>Size_Grade_2X</td>\n",
       "      <td>0.013142</td>\n",
       "    </tr>\n",
       "    <tr>\n",
       "      <th>7</th>\n",
       "      <td>Stock_On_Hand</td>\n",
       "      <td>0.012807</td>\n",
       "    </tr>\n",
       "    <tr>\n",
       "      <th>6</th>\n",
       "      <td>Sales_Total</td>\n",
       "      <td>0.011140</td>\n",
       "    </tr>\n",
       "    <tr>\n",
       "      <th>12</th>\n",
       "      <td>Size_Grade_2U</td>\n",
       "      <td>0.008633</td>\n",
       "    </tr>\n",
       "    <tr>\n",
       "      <th>8</th>\n",
       "      <td>Total_Qty_Sold</td>\n",
       "      <td>0.005312</td>\n",
       "    </tr>\n",
       "    <tr>\n",
       "      <th>11</th>\n",
       "      <td>Container_DT063</td>\n",
       "      <td>0.003064</td>\n",
       "    </tr>\n",
       "  </tbody>\n",
       "</table>\n",
       "</div>"
      ],
      "text/plain": [
       "                    Variable_Name  Variance\n",
       "0                 Container_M4183  0.210490\n",
       "17                Container_JE090  0.205667\n",
       "3                 Container_EC120  0.176834\n",
       "1   Province_W_CAPE_BERGRIVER_ETC  0.174600\n",
       "4                   Size_Grade_1M  0.136715\n",
       "19                  Size_Grade_2S  0.132890\n",
       "15                  Size_Grade_2M  0.104727\n",
       "9                             Day  0.097036\n",
       "16          Province_EASTERN_CAPE  0.094396\n",
       "2                   Size_Grade_1X  0.079928\n",
       "18                      Weight_Kg  0.062979\n",
       "13                  Size_Grade_2L  0.057696\n",
       "20                 Province_NATAL  0.053631\n",
       "14                Container_JG110  0.041649\n",
       "5                 Container_EF120  0.036473\n",
       "10                  Size_Grade_2X  0.013142\n",
       "7                   Stock_On_Hand  0.012807\n",
       "6                     Sales_Total  0.011140\n",
       "12                  Size_Grade_2U  0.008633\n",
       "8                  Total_Qty_Sold  0.005312\n",
       "11                Container_DT063  0.003064"
      ]
     },
     "execution_count": 100,
     "metadata": {},
     "output_type": "execute_result"
    }
   ],
   "source": [
    "# Get column variances\n",
    "column_variances = selector.variances_\n",
    "\n",
    "vars_dict = {}\n",
    "vars_dict = [{\"Variable_Name\": c_name, \"Variance\": c_var}\n",
    "             for c_name, c_var in zip(X_normalize.columns, column_variances)]\n",
    "df_vars = pd.DataFrame(vars_dict)\n",
    "df_vars.sort_values(by='Variance', ascending=False)"
   ]
  },
  {
   "cell_type": "code",
   "execution_count": 101,
   "id": "bd9f95c9",
   "metadata": {},
   "outputs": [
    {
     "data": {
      "text/html": [
       "<div>\n",
       "<style scoped>\n",
       "    .dataframe tbody tr th:only-of-type {\n",
       "        vertical-align: middle;\n",
       "    }\n",
       "\n",
       "    .dataframe tbody tr th {\n",
       "        vertical-align: top;\n",
       "    }\n",
       "\n",
       "    .dataframe thead th {\n",
       "        text-align: right;\n",
       "    }\n",
       "</style>\n",
       "<table border=\"1\" class=\"dataframe\">\n",
       "  <thead>\n",
       "    <tr style=\"text-align: right;\">\n",
       "      <th></th>\n",
       "      <th>Container_M4183</th>\n",
       "      <th>Province_W_CAPE_BERGRIVER_ETC</th>\n",
       "      <th>Size_Grade_1X</th>\n",
       "      <th>Container_EC120</th>\n",
       "      <th>Size_Grade_1M</th>\n",
       "      <th>Day</th>\n",
       "      <th>Size_Grade_2L</th>\n",
       "      <th>Size_Grade_2M</th>\n",
       "      <th>Province_EASTERN_CAPE</th>\n",
       "      <th>Container_JE090</th>\n",
       "      <th>Weight_Kg</th>\n",
       "      <th>Size_Grade_2S</th>\n",
       "      <th>Province_NATAL</th>\n",
       "    </tr>\n",
       "  </thead>\n",
       "  <tbody>\n",
       "    <tr>\n",
       "      <th>0</th>\n",
       "      <td>1.0</td>\n",
       "      <td>0.0</td>\n",
       "      <td>0.0</td>\n",
       "      <td>0.0</td>\n",
       "      <td>0.0</td>\n",
       "      <td>0.4</td>\n",
       "      <td>0.0</td>\n",
       "      <td>0.0</td>\n",
       "      <td>0.0</td>\n",
       "      <td>0.0</td>\n",
       "      <td>0.038539</td>\n",
       "      <td>0.0</td>\n",
       "      <td>0.0</td>\n",
       "    </tr>\n",
       "    <tr>\n",
       "      <th>1</th>\n",
       "      <td>0.0</td>\n",
       "      <td>0.0</td>\n",
       "      <td>0.0</td>\n",
       "      <td>0.0</td>\n",
       "      <td>0.0</td>\n",
       "      <td>0.2</td>\n",
       "      <td>0.0</td>\n",
       "      <td>1.0</td>\n",
       "      <td>0.0</td>\n",
       "      <td>0.0</td>\n",
       "      <td>0.020151</td>\n",
       "      <td>0.0</td>\n",
       "      <td>0.0</td>\n",
       "    </tr>\n",
       "    <tr>\n",
       "      <th>2</th>\n",
       "      <td>0.0</td>\n",
       "      <td>1.0</td>\n",
       "      <td>0.0</td>\n",
       "      <td>0.0</td>\n",
       "      <td>0.0</td>\n",
       "      <td>0.6</td>\n",
       "      <td>0.0</td>\n",
       "      <td>0.0</td>\n",
       "      <td>0.0</td>\n",
       "      <td>1.0</td>\n",
       "      <td>0.015113</td>\n",
       "      <td>1.0</td>\n",
       "      <td>0.0</td>\n",
       "    </tr>\n",
       "    <tr>\n",
       "      <th>3</th>\n",
       "      <td>1.0</td>\n",
       "      <td>0.0</td>\n",
       "      <td>0.0</td>\n",
       "      <td>0.0</td>\n",
       "      <td>0.0</td>\n",
       "      <td>0.0</td>\n",
       "      <td>0.0</td>\n",
       "      <td>0.0</td>\n",
       "      <td>0.0</td>\n",
       "      <td>0.0</td>\n",
       "      <td>0.038539</td>\n",
       "      <td>0.0</td>\n",
       "      <td>0.0</td>\n",
       "    </tr>\n",
       "    <tr>\n",
       "      <th>4</th>\n",
       "      <td>0.0</td>\n",
       "      <td>0.0</td>\n",
       "      <td>0.0</td>\n",
       "      <td>0.0</td>\n",
       "      <td>0.0</td>\n",
       "      <td>0.0</td>\n",
       "      <td>0.0</td>\n",
       "      <td>0.0</td>\n",
       "      <td>1.0</td>\n",
       "      <td>0.0</td>\n",
       "      <td>1.000000</td>\n",
       "      <td>0.0</td>\n",
       "      <td>0.0</td>\n",
       "    </tr>\n",
       "  </tbody>\n",
       "</table>\n",
       "</div>"
      ],
      "text/plain": [
       "   Container_M4183  Province_W_CAPE_BERGRIVER_ETC  Size_Grade_1X  \\\n",
       "0              1.0                            0.0            0.0   \n",
       "1              0.0                            0.0            0.0   \n",
       "2              0.0                            1.0            0.0   \n",
       "3              1.0                            0.0            0.0   \n",
       "4              0.0                            0.0            0.0   \n",
       "\n",
       "   Container_EC120  Size_Grade_1M  Day  Size_Grade_2L  Size_Grade_2M  \\\n",
       "0              0.0            0.0  0.4            0.0            0.0   \n",
       "1              0.0            0.0  0.2            0.0            1.0   \n",
       "2              0.0            0.0  0.6            0.0            0.0   \n",
       "3              0.0            0.0  0.0            0.0            0.0   \n",
       "4              0.0            0.0  0.0            0.0            0.0   \n",
       "\n",
       "   Province_EASTERN_CAPE  Container_JE090  Weight_Kg  Size_Grade_2S  \\\n",
       "0                    0.0              0.0   0.038539            0.0   \n",
       "1                    0.0              0.0   0.020151            0.0   \n",
       "2                    0.0              1.0   0.015113            1.0   \n",
       "3                    0.0              0.0   0.038539            0.0   \n",
       "4                    1.0              0.0   1.000000            0.0   \n",
       "\n",
       "   Province_NATAL  \n",
       "0             0.0  \n",
       "1             0.0  \n",
       "2             0.0  \n",
       "3             0.0  \n",
       "4             0.0  "
      ]
     },
     "execution_count": 101,
     "metadata": {},
     "output_type": "execute_result"
    }
   ],
   "source": [
    "# Select new columns\n",
    "X_new = X_normalize[X_normalize.columns[selector.get_support(indices=True)]]\n",
    "\n",
    "# Save variable names for later\n",
    "X_var_names = X_new.columns\n",
    "\n",
    "# View first few entries\n",
    "X_new.head()"
   ]
  },
  {
   "cell_type": "markdown",
   "id": "126c49ae",
   "metadata": {},
   "source": [
    "# Phase 4: Model Building"
   ]
  },
  {
   "cell_type": "markdown",
   "id": "79a53875",
   "metadata": {},
   "source": [
    "## 4.1: Feature Selection"
   ]
  },
  {
   "cell_type": "markdown",
   "id": "f36a5d8f",
   "metadata": {},
   "source": [
    "We seperate our model building (test and training) sets for linear and non-linear modelling "
   ]
  },
  {
   "cell_type": "code",
   "execution_count": 102,
   "id": "cd0c9379",
   "metadata": {},
   "outputs": [],
   "source": [
    "#Setting the training and testing data for linear models\n",
    "\n",
    "X_lin=train_dummies[X_new.columns]\n",
    "y_lin=train_dummies['avg_price_per_kg']\n",
    "\n",
    "test_lin=test_dummies[X_new.columns]\n",
    "X_lin.head()\n",
    "# standardize features\n",
    "scaler = StandardScaler()\n",
    "X_scaled = scaler.fit_transform(X_lin)\n",
    "\n",
    "# Train test split\n",
    "x_train_ln, x_test_ln, y_train_ln,y_test_ln = train_test_split(X_scaled,y_lin,test_size=0.2,random_state=6)"
   ]
  },
  {
   "cell_type": "markdown",
   "id": "e0be04e0",
   "metadata": {},
   "source": [
    "On the other hand we achieve our best model scores on the non-linear models when we use only the numeric columns."
   ]
  },
  {
   "cell_type": "code",
   "execution_count": 103,
   "id": "3e8c4770",
   "metadata": {},
   "outputs": [],
   "source": [
    "#Setting the training and testing data for non-linear models\n",
    "for x in test:\n",
    "    if np.issubdtype(test[x].dtype, np.number)==False:\n",
    "        test=test.drop(x,axis=1)\n",
    "for y in train:\n",
    "    if np.issubdtype(train[y].dtype, np.number)==False:\n",
    "        train=train.drop(y,axis=1)\n",
    "X=train.drop('avg_price_per_kg',axis=1)\n",
    "y=train['avg_price_per_kg']\n",
    "\n",
    "x_train, x_test, y_train,y_test = train_test_split(X,y,test_size=0.2,random_state=6)"
   ]
  },
  {
   "cell_type": "markdown",
   "id": "41dfadc7",
   "metadata": {},
   "source": [
    "## 4.2: Modelling Analysis"
   ]
  },
  {
   "cell_type": "markdown",
   "id": "8da917b2",
   "metadata": {},
   "source": [
    "## 4.2.1: Random Forest Model"
   ]
  },
  {
   "attachments": {
    "image.png": {
     "image/png": "[encoded data removed]"
    }
   },
   "cell_type": "markdown",
   "id": "ed281a34",
   "metadata": {},
   "source": [
    "The Random Forest Model utilise multiple randomly created decision trees by combining their output to generate a prediction\n",
    "![image.png](attachment:image.png)"
   ]
  },
  {
   "cell_type": "markdown",
   "id": "0ce73bf9",
   "metadata": {},
   "source": [
    "The  combination of learning models will increase the accuracy of the result. The random forest algorithm allows easy  measurement of the relative importance of the features used on the prediction. "
   ]
  },
  {
   "cell_type": "markdown",
   "id": "2f9414d0",
   "metadata": {},
   "source": [
    "Utilising the Random Forest Model:"
   ]
  },
  {
   "cell_type": "markdown",
   "id": "bdebb2b2",
   "metadata": {},
   "source": [
    "### 1.Training "
   ]
  },
  {
   "cell_type": "markdown",
   "id": "6c45d7ba",
   "metadata": {},
   "source": [
    "Fitting the model to our data and applying hyperparamers"
   ]
  },
  {
   "cell_type": "code",
   "execution_count": 104,
   "id": "18e45468",
   "metadata": {},
   "outputs": [
    {
     "data": {
      "text/plain": [
       "RandomForestRegressor(max_depth=5)"
      ]
     },
     "execution_count": 104,
     "metadata": {},
     "output_type": "execute_result"
    }
   ],
   "source": [
    "# Our forest consists of 100 trees with a max depth of 5\n",
    "RF = RandomForestRegressor(n_estimators=100, max_depth=5)\n",
    "RF.fit(x_train,y_train)"
   ]
  },
  {
   "cell_type": "markdown",
   "id": "2f9bd0c6",
   "metadata": {},
   "source": [
    "### 2.Testing "
   ]
  },
  {
   "cell_type": "markdown",
   "id": "0c0ec4c4",
   "metadata": {},
   "source": [
    "To understand the performance of this model, we will get the mean square error and R^2"
   ]
  },
  {
   "cell_type": "code",
   "execution_count": 105,
   "id": "d1aa64ce",
   "metadata": {},
   "outputs": [
    {
     "name": "stdout",
     "output_type": "stream",
     "text": [
      "RMSE: 0.7330955369537977\n",
      "R^2 0.8852798284315603\n"
     ]
    }
   ],
   "source": [
    "# Get predictions\n",
    "y_pred = RF.predict(x_test)\n",
    "\n",
    "# Compute RMSE\n",
    "print(\"RMSE:\",np.sqrt(metrics.mean_squared_error(y_test,y_pred)))\n",
    "print(\"R^2\",metrics.r2_score(y_test, y_pred))"
   ]
  },
  {
   "cell_type": "markdown",
   "id": "d1d23429",
   "metadata": {},
   "source": [
    "Then we will evaluate it against the expected output"
   ]
  },
  {
   "cell_type": "code",
   "execution_count": 106,
   "id": "b922e642",
   "metadata": {},
   "outputs": [
    {
     "data": {
      "image/png": "[encoded data removed]",
      "text/plain": [
       "<Figure size 360x360 with 1 Axes>"
      ]
     },
     "metadata": {
      "needs_background": "light"
     },
     "output_type": "display_data"
    }
   ],
   "source": [
    "# Create figure and axes\n",
    "f, ax = plt.subplots(figsize=(5,5))\n",
    "\n",
    "# Plot on axes\n",
    "ax.set_title('Actual vs Predicted')\n",
    "ax.set_xlabel('Actual')\n",
    "ax.set_ylabel('Predicted')\n",
    "ax.scatter(y_test,y_pred)\n",
    "ax.plot(y_test,y_test,'r')\n",
    "plt.show()"
   ]
  },
  {
   "cell_type": "markdown",
   "id": "ff91d28b",
   "metadata": {},
   "source": [
    "### 3. Adjusting Hyperparameters "
   ]
  },
  {
   "cell_type": "markdown",
   "id": "95e3c308",
   "metadata": {},
   "source": [
    "The standard hyperpameter values will not give the best model performance. For that reason, adjustments to the model hyperparameters must take place to get the best performing model."
   ]
  },
  {
   "cell_type": "markdown",
   "id": "b2393e9b",
   "metadata": {},
   "source": [
    "Creating different hyperparameters of the \"n_estimators\" to compare the results:"
   ]
  },
  {
   "cell_type": "code",
   "execution_count": 107,
   "id": "cd5c7e5b",
   "metadata": {},
   "outputs": [],
   "source": [
    "# 2 trees in forest\n",
    "forest_1 = RandomForestRegressor(n_estimators=2, max_depth=5, random_state=23)\n",
    "\n",
    "# 20 trees in forest\n",
    "forest_2 = RandomForestRegressor(n_estimators=20, max_depth=5, random_state=23)\n",
    "\n",
    "# 100 trees in forest\n",
    "forest_3 = RandomForestRegressor(n_estimators=100, max_depth=5, random_state=23)"
   ]
  },
  {
   "cell_type": "markdown",
   "id": "286f0c5e",
   "metadata": {},
   "source": [
    "Training the model"
   ]
  },
  {
   "cell_type": "code",
   "execution_count": 108,
   "id": "6925aa5a",
   "metadata": {},
   "outputs": [
    {
     "data": {
      "text/plain": [
       "RandomForestRegressor(max_depth=5, n_estimators=2, random_state=23)"
      ]
     },
     "execution_count": 108,
     "metadata": {},
     "output_type": "execute_result"
    }
   ],
   "source": [
    "forest_1.fit(x_train, y_train)"
   ]
  },
  {
   "cell_type": "code",
   "execution_count": 109,
   "id": "c147b241",
   "metadata": {},
   "outputs": [
    {
     "data": {
      "text/plain": [
       "RandomForestRegressor(max_depth=5, n_estimators=20, random_state=23)"
      ]
     },
     "execution_count": 109,
     "metadata": {},
     "output_type": "execute_result"
    }
   ],
   "source": [
    "forest_2.fit(x_train, y_train)"
   ]
  },
  {
   "cell_type": "code",
   "execution_count": 110,
   "id": "29d3d498",
   "metadata": {
    "scrolled": true
   },
   "outputs": [
    {
     "data": {
      "text/plain": [
       "RandomForestRegressor(max_depth=5, random_state=23)"
      ]
     },
     "execution_count": 110,
     "metadata": {},
     "output_type": "execute_result"
    }
   ],
   "source": [
    "forest_3.fit(x_train, y_train)"
   ]
  },
  {
   "cell_type": "markdown",
   "id": "7ff6f4cc",
   "metadata": {},
   "source": [
    "Evaluating the model"
   ]
  },
  {
   "cell_type": "code",
   "execution_count": 111,
   "id": "991d2914",
   "metadata": {},
   "outputs": [
    {
     "data": {
      "image/png": "[encoded data removed]",
      "text/plain": [
       "<Figure size 1080x360 with 3 Axes>"
      ]
     },
     "metadata": {
      "needs_background": "light"
     },
     "output_type": "display_data"
    }
   ],
   "source": [
    "# Create figure and axes\n",
    "f, ax = plt.subplots(figsize=(15,5), nrows=1, ncols=3,sharey=True)\n",
    "\n",
    "# Create list of titles and predictions to use in for loop\n",
    "pred = [forest_1.predict(x_test), forest_2.predict(x_test), forest_3.predict(x_test)]\n",
    "title = ['trees = 2', 'trees = 20', 'trees = 100']\n",
    "\n",
    "# Loop through all axes to plot each model's results \n",
    "for i in range(3):\n",
    "    rmse = round(np.sqrt(metrics.mean_squared_error(pred[i],y_test)))\n",
    "    ax[i].set_title(title[i]+\"  (RMSE: \"+str(rmse)+ \")\")\n",
    "    ax[i].set_xlabel('Actual')\n",
    "    ax[i].set_ylabel('Predicted')\n",
    "    ax[i].plot(y_test,y_test,'r')\n",
    "    ax[i].scatter(y_test,pred[i])"
   ]
  },
  {
   "cell_type": "markdown",
   "id": "72ea603e",
   "metadata": {},
   "source": [
    "## 4.2.2: Boosting models"
   ]
  },
  {
   "cell_type": "markdown",
   "id": "d3f23b6f",
   "metadata": {},
   "source": [
    "Boosting is an ensemble method in which many predictors are trained sequentially and each succesive predictor learns from the errors of it's predecessor. \n",
    "In simple terms 'Many weak learners are combined to form a strong learner.\n",
    "\n",
    "The following Boosting methods will make use of CARTS( Classification and Regression Trees) similar to the Random forrest.\n",
    "\n",
    "We will use the following models:\n",
    "        \n",
    "        -AdaBoost (Adaptive Boosting):\n",
    "            After training, each predictor is assigned a coefficient that depends on the training error.\n",
    "            This coefficient adds more weight to the instances wrongly predicted, so that the next predictor \n",
    "            pays more attention to those values.\n",
    "        \n",
    "        -GradientBoost(GB):\n",
    "            Gradient boosting also does sequential correction of predecessor errors. But, unlike AdaBoost, the weight of\n",
    "            training instances are not tweaked. \n",
    "            Instead each predictor is trained using the residual errors of the previous \n",
    "            labels. \n",
    "            GB's exhastive search procedure means that each cart is trained to find the best split points \n",
    "            and features.\n",
    "            \n",
    "        \n",
    "        -Stochastic GradientBoost(SGB):\n",
    "            This method imporves the generalizability GB method by adding further variance to the ensemble diversity. Each \n",
    "            predictor is trained on a random subset of the training data that's been sampled without replacement. \n",
    "            Features are sampled without replacement when choosing split points.\n"
   ]
  },
  {
   "cell_type": "markdown",
   "id": "22179875",
   "metadata": {},
   "source": [
    "### 1. Training"
   ]
  },
  {
   "cell_type": "code",
   "execution_count": 112,
   "id": "c3ba92bd",
   "metadata": {},
   "outputs": [
    {
     "data": {
      "text/plain": [
       "GradientBoostingRegressor(max_depth=5, max_features=0.75, n_estimators=200,\n",
       "                          random_state=1, subsample=0.9)"
      ]
     },
     "execution_count": 112,
     "metadata": {},
     "output_type": "execute_result"
    }
   ],
   "source": [
    "# Decision tree/ Base estimator\n",
    "dt = DecisionTreeRegressor(max_depth=5, random_state=1)\n",
    "\n",
    "# Instantiate Ada\n",
    "ada = AdaBoostRegressor(base_estimator=dt, n_estimators=200, random_state=1)\n",
    "ada.fit(x_train,y_train)\n",
    "# Instantiate GB\n",
    "gb = GradientBoostingRegressor(max_depth=5, \n",
    "            n_estimators=200,\n",
    "            random_state=1)\n",
    "gb.fit(x_train,y_train)\n",
    "\n",
    "# Instantiate SGBR\n",
    "sgb = GradientBoostingRegressor(max_depth=5, \n",
    "            subsample=0.9,\n",
    "            max_features=0.75,\n",
    "            n_estimators=200,                                \n",
    "            random_state=1)\n",
    "sgb.fit(x_train,y_train)"
   ]
  },
  {
   "cell_type": "markdown",
   "id": "1eb52d77",
   "metadata": {},
   "source": [
    "### 2. Testing"
   ]
  },
  {
   "cell_type": "code",
   "execution_count": 113,
   "id": "4ac98e1a",
   "metadata": {},
   "outputs": [
    {
     "data": {
      "text/html": [
       "<div>\n",
       "<style scoped>\n",
       "    .dataframe tbody tr th:only-of-type {\n",
       "        vertical-align: middle;\n",
       "    }\n",
       "\n",
       "    .dataframe tbody tr th {\n",
       "        vertical-align: top;\n",
       "    }\n",
       "\n",
       "    .dataframe thead th {\n",
       "        text-align: right;\n",
       "    }\n",
       "</style>\n",
       "<table border=\"1\" class=\"dataframe\">\n",
       "  <thead>\n",
       "    <tr style=\"text-align: right;\">\n",
       "      <th></th>\n",
       "      <th>Training MSE</th>\n",
       "      <th>Test MSE</th>\n",
       "      <th>Train R^2</th>\n",
       "      <th>Test R^2</th>\n",
       "    </tr>\n",
       "  </thead>\n",
       "  <tbody>\n",
       "    <tr>\n",
       "      <th>Ada</th>\n",
       "      <td>0.569229</td>\n",
       "      <td>0.741116</td>\n",
       "      <td>0.937019</td>\n",
       "      <td>0.882756</td>\n",
       "    </tr>\n",
       "    <tr>\n",
       "      <th>GB</th>\n",
       "      <td>0.123559</td>\n",
       "      <td>0.405672</td>\n",
       "      <td>0.997033</td>\n",
       "      <td>0.964871</td>\n",
       "    </tr>\n",
       "    <tr>\n",
       "      <th>SGB</th>\n",
       "      <td>0.122265</td>\n",
       "      <td>0.430018</td>\n",
       "      <td>0.997094</td>\n",
       "      <td>0.960528</td>\n",
       "    </tr>\n",
       "  </tbody>\n",
       "</table>\n",
       "</div>"
      ],
      "text/plain": [
       "     Training MSE  Test MSE  Train R^2  Test R^2\n",
       "Ada      0.569229  0.741116   0.937019  0.882756\n",
       "GB       0.123559  0.405672   0.997033  0.964871\n",
       "SGB      0.122265  0.430018   0.997094  0.960528"
      ]
     },
     "execution_count": 113,
     "metadata": {},
     "output_type": "execute_result"
    }
   ],
   "source": [
    "# Dictionary of results\n",
    "train_ada = ada.predict(x_train)\n",
    "train_gb = gb.predict(x_train)\n",
    "train_sgb = sgb.predict(x_train)\n",
    "\n",
    "test_ada = ada.predict(x_test)\n",
    "test_gb = gb.predict(x_test)\n",
    "test_sgb = sgb.predict(x_test)\n",
    "\n",
    "results_dict = {'Training MSE':{\n",
    "                        \"Ada\": metrics.mean_squared_error(y_train, train_ada,squared=False),\n",
    "                        \"GB\": metrics.mean_squared_error(y_train, train_gb,squared=False),\n",
    "                        \"SGB\": metrics.mean_squared_error(y_train, train_sgb,squared=False),\n",
    "                },\n",
    "                'Test MSE':{\n",
    "                        \"Ada\": metrics.mean_squared_error(y_test, test_ada,squared=False),\n",
    "                        \"GB\": metrics.mean_squared_error(y_test, test_gb,squared=False),\n",
    "                        \"SGB\": metrics.mean_squared_error(y_test, test_sgb,squared=False)\n",
    "                },\n",
    "                'Train R^2':{\n",
    "                        \"Ada\":metrics.r2_score(y_train, train_ada),\n",
    "                        \"GB\":metrics.r2_score(y_train, train_gb),\n",
    "                        \"SGB\":metrics.r2_score(y_train, train_sgb)\n",
    "                    \n",
    "                },\n",
    "                'Test R^2':{\n",
    "                        \"Ada\":metrics.r2_score(y_test, test_ada),\n",
    "                        \"GB\":metrics.r2_score(y_test, test_gb),\n",
    "                        \"SGB\":metrics.r2_score(y_test, test_sgb)\n",
    "                }\n",
    "                }\n",
    "pd.DataFrame(results_dict)"
   ]
  },
  {
   "cell_type": "code",
   "execution_count": 114,
   "id": "7c1763c3",
   "metadata": {},
   "outputs": [
    {
     "data": {
      "image/png": "[encoded data removed]",
      "text/plain": [
       "<Figure size 1080x360 with 3 Axes>"
      ]
     },
     "metadata": {
      "needs_background": "light"
     },
     "output_type": "display_data"
    }
   ],
   "source": [
    "# Create figure and axes\n",
    "f, ax = plt.subplots(figsize=(15,5), nrows=1, ncols=3,sharey=True)\n",
    "\n",
    "# Create list of titles and predictions to use in for loop\n",
    "pred = [test_ada, test_gb, test_sgb]\n",
    "title = ['Ada', 'GB', 'SGB']\n",
    "\n",
    "# Loop through all axes to plot each model's results \n",
    "for i in range(3):\n",
    "    rmse = round(np.sqrt(metrics.mean_squared_error(y_test,pred[i])),2)\n",
    "    ax[i].set_title(title[i]+\"  (RMSE aprox: \"+str(rmse)+ \")\")\n",
    "    ax[i].set_xlabel('Actual')\n",
    "    ax[i].set_ylabel('Predicted')\n",
    "    ax[i].plot(y_test,y_test,'r')\n",
    "    ax[i].scatter(y_test,pred[i])"
   ]
  },
  {
   "cell_type": "markdown",
   "id": "c722a044",
   "metadata": {},
   "source": [
    "## 4.3: Simple modelling"
   ]
  },
  {
   "cell_type": "code",
   "execution_count": 115,
   "id": "b44890e4",
   "metadata": {},
   "outputs": [
    {
     "data": {
      "text/plain": [
       "LinearRegression()"
      ]
     },
     "execution_count": 115,
     "metadata": {},
     "output_type": "execute_result"
    }
   ],
   "source": [
    "# Linear Regression\n",
    "linreg = LinearRegression()\n",
    "linreg.fit(x_train_ln, y_train_ln)"
   ]
  },
  {
   "cell_type": "code",
   "execution_count": 116,
   "id": "7606d212",
   "metadata": {},
   "outputs": [
    {
     "data": {
      "text/plain": [
       "Ridge()"
      ]
     },
     "execution_count": 116,
     "metadata": {},
     "output_type": "execute_result"
    }
   ],
   "source": [
    "#Ridge Regression\n",
    "ridge = Ridge()\n",
    "ridge.fit(x_train_ln, y_train_ln)"
   ]
  },
  {
   "cell_type": "code",
   "execution_count": 117,
   "id": "aea6e705",
   "metadata": {},
   "outputs": [
    {
     "data": {
      "text/plain": [
       "Lasso(alpha=0.01)"
      ]
     },
     "execution_count": 117,
     "metadata": {},
     "output_type": "execute_result"
    }
   ],
   "source": [
    "#Lasso Reg\n",
    "lasso = Lasso(alpha=0.01)\n",
    "lasso.fit(x_train_ln, y_train_ln)"
   ]
  },
  {
   "cell_type": "code",
   "execution_count": 118,
   "id": "eec200fb",
   "metadata": {},
   "outputs": [
    {
     "data": {
      "text/plain": [
       "SVR()"
      ]
     },
     "execution_count": 118,
     "metadata": {},
     "output_type": "execute_result"
    }
   ],
   "source": [
    "#Support Vector model\n",
    "svr = SVR()\n",
    "svr.fit(x_train,y_train)"
   ]
  },
  {
   "cell_type": "code",
   "execution_count": 119,
   "id": "7db74dc2",
   "metadata": {},
   "outputs": [
    {
     "data": {
      "text/plain": [
       "GradientBoostingRegressor()"
      ]
     },
     "execution_count": 119,
     "metadata": {},
     "output_type": "execute_result"
    }
   ],
   "source": [
    "#Gradient Boosting model\n",
    "params = {}\n",
    "gbr=GradientBoostingRegressor()\n",
    "gbr.fit(x_train,y_train)"
   ]
  },
  {
   "cell_type": "code",
   "execution_count": 120,
   "id": "74d72301",
   "metadata": {},
   "outputs": [
    {
     "data": {
      "text/plain": [
       "KNeighborsRegressor(n_neighbors=3)"
      ]
     },
     "execution_count": 120,
     "metadata": {},
     "output_type": "execute_result"
    }
   ],
   "source": [
    "#KNN model\n",
    "knn= KNeighborsRegressor(n_neighbors = 3)\n",
    "knn.fit(x_train,y_train)"
   ]
  },
  {
   "cell_type": "code",
   "execution_count": 121,
   "id": "c5803322",
   "metadata": {},
   "outputs": [
    {
     "data": {
      "text/plain": [
       "DecisionTreeRegressor()"
      ]
     },
     "execution_count": 121,
     "metadata": {},
     "output_type": "execute_result"
    }
   ],
   "source": [
    "# Decision Tree\n",
    "decision_tree = DecisionTreeRegressor()\n",
    "decision_tree.fit(x_train, y_train)"
   ]
  },
  {
   "cell_type": "code",
   "execution_count": 122,
   "id": "34423efc",
   "metadata": {},
   "outputs": [
    {
     "data": {
      "text/plain": [
       "RandomForestRegressor()"
      ]
     },
     "execution_count": 122,
     "metadata": {},
     "output_type": "execute_result"
    }
   ],
   "source": [
    "# Random Forest\n",
    "random_forest = RandomForestRegressor(n_estimators=100)\n",
    "random_forest.fit(x_train, y_train)"
   ]
  },
  {
   "cell_type": "code",
   "execution_count": 123,
   "id": "42eb2dd3",
   "metadata": {},
   "outputs": [],
   "source": [
    "#Compare models\n",
    "\n",
    "# Make training set predictions for each model\n",
    "train_lin = linreg.predict(x_train_ln)\n",
    "train_ridge = ridge.predict(x_train_ln)\n",
    "train_lasso = lasso.predict(x_train_ln)\n",
    "train_Knn = knn.predict(x_train)\n",
    "train_svr = svr.predict(x_train)\n",
    "train_gbr = gbr.predict(x_train)\n",
    "train_DcT = decision_tree.predict(x_train)\n",
    "train_RnF = random_forest.predict(x_train)\n",
    "\n",
    "# Make test set predictions for each model\n",
    "test_lin = linreg.predict(x_test_ln)\n",
    "test_ridge = ridge.predict(x_test_ln)\n",
    "test_lasso = lasso.predict(x_test_ln)\n",
    "test_Knn = knn.predict(x_test)\n",
    "test_svr = svr.predict(x_test)\n",
    "test_gbr = gbr.predict(x_test)\n",
    "test_DcT = decision_tree.predict(x_test)\n",
    "test_RnF = random_forest.predict(x_test)\n",
    "\n",
    "# Dictionary of results\n",
    "results_dict = {'Training MSE':{\n",
    "                        \"Least Squares\":metrics.mean_squared_error(y_train_ln, train_lin,squared=False),\n",
    "                        \"Ridge\": metrics.mean_squared_error(y_train_ln, train_ridge,squared=False),\n",
    "                        \"LASSO\": metrics.mean_squared_error(y_train_ln, train_lasso,squared=False),\n",
    "                        \"SVR\": metrics.mean_squared_error(y_train, train_svr,squared=False),\n",
    "                        \"GBR\": metrics.mean_squared_error(y_train, train_gbr,squared=False),\n",
    "                        \"KNN\": metrics.mean_squared_error(y_train, train_Knn,squared=False),\n",
    "                        \"Decision Tree\": metrics.mean_squared_error(y_train, train_DcT,squared=False),\n",
    "                        \"Random Forest\": metrics.mean_squared_error(y_train, train_RnF,squared=False)\n",
    "                },\n",
    "                'Test MSE':{\n",
    "                        \"Least Squares\": metrics.mean_squared_error(y_test_ln, test_lin,squared=False),\n",
    "                        \"Ridge\": metrics.mean_squared_error(y_test_ln, test_ridge,squared=False),\n",
    "                        \"LASSO\": metrics.mean_squared_error(y_test_ln, test_lasso,squared=False),\n",
    "                        \"SVR\": metrics.mean_squared_error(y_test, test_svr,squared=False),\n",
    "                        \"GBR\": metrics.mean_squared_error(y_test, test_gbr,squared=False),\n",
    "                        \"KNN\": metrics.mean_squared_error(y_test, test_Knn,squared=False),\n",
    "                        \"Decision Tree\": metrics.mean_squared_error(y_test, test_DcT,squared=False),\n",
    "                        \"Random Forest\": metrics.mean_squared_error(y_test, test_RnF,squared=False)\n",
    "                }\n",
    "                }\n",
    "results=pd.DataFrame(results_dict)"
   ]
  },
  {
   "cell_type": "code",
   "execution_count": 124,
   "id": "0051057a",
   "metadata": {},
   "outputs": [
    {
     "data": {
      "text/html": [
       "<div>\n",
       "<style scoped>\n",
       "    .dataframe tbody tr th:only-of-type {\n",
       "        vertical-align: middle;\n",
       "    }\n",
       "\n",
       "    .dataframe tbody tr th {\n",
       "        vertical-align: top;\n",
       "    }\n",
       "\n",
       "    .dataframe thead th {\n",
       "        text-align: right;\n",
       "    }\n",
       "</style>\n",
       "<table border=\"1\" class=\"dataframe\">\n",
       "  <thead>\n",
       "    <tr style=\"text-align: right;\">\n",
       "      <th></th>\n",
       "      <th>Training MSE</th>\n",
       "      <th>Test MSE</th>\n",
       "    </tr>\n",
       "  </thead>\n",
       "  <tbody>\n",
       "    <tr>\n",
       "      <th>Least Squares</th>\n",
       "      <td>1.634730e+00</td>\n",
       "      <td>1.405571</td>\n",
       "    </tr>\n",
       "    <tr>\n",
       "      <th>Ridge</th>\n",
       "      <td>1.634730e+00</td>\n",
       "      <td>1.405574</td>\n",
       "    </tr>\n",
       "    <tr>\n",
       "      <th>LASSO</th>\n",
       "      <td>1.635024e+00</td>\n",
       "      <td>1.406034</td>\n",
       "    </tr>\n",
       "    <tr>\n",
       "      <th>SVR</th>\n",
       "      <td>2.052120e+00</td>\n",
       "      <td>1.931257</td>\n",
       "    </tr>\n",
       "    <tr>\n",
       "      <th>GBR</th>\n",
       "      <td>4.634587e-01</td>\n",
       "      <td>0.523873</td>\n",
       "    </tr>\n",
       "    <tr>\n",
       "      <th>KNN</th>\n",
       "      <td>6.776201e-01</td>\n",
       "      <td>0.891125</td>\n",
       "    </tr>\n",
       "    <tr>\n",
       "      <th>Decision Tree</th>\n",
       "      <td>9.293297e-16</td>\n",
       "      <td>0.591364</td>\n",
       "    </tr>\n",
       "    <tr>\n",
       "      <th>Random Forest</th>\n",
       "      <td>2.464451e-01</td>\n",
       "      <td>0.439528</td>\n",
       "    </tr>\n",
       "  </tbody>\n",
       "</table>\n",
       "</div>"
      ],
      "text/plain": [
       "               Training MSE  Test MSE\n",
       "Least Squares  1.634730e+00  1.405571\n",
       "Ridge          1.634730e+00  1.405574\n",
       "LASSO          1.635024e+00  1.406034\n",
       "SVR            2.052120e+00  1.931257\n",
       "GBR            4.634587e-01  0.523873\n",
       "KNN            6.776201e-01  0.891125\n",
       "Decision Tree  9.293297e-16  0.591364\n",
       "Random Forest  2.464451e-01  0.439528"
      ]
     },
     "execution_count": 124,
     "metadata": {},
     "output_type": "execute_result"
    }
   ],
   "source": [
    "results"
   ]
  },
  {
   "cell_type": "code",
   "execution_count": 125,
   "id": "d595b416",
   "metadata": {},
   "outputs": [],
   "source": [
    "# create submission dataframe\n",
    "# Create Dataframe of Order_No and Time from Pickup to Arrival\n",
    "#submission = pd.DataFrame(\n",
    "#    {'Index': test_id,\n",
    "#     'avg_price_per_kg': random_forest.predict(test))\n",
    "#    })"
   ]
  },
  {
   "cell_type": "code",
   "execution_count": 592,
   "id": "ffe6cd49",
   "metadata": {},
   "outputs": [],
   "source": [
    "# save DataFrame to csv file for submission\n",
    "#submission.to_csv(\"AnswerRnF.csv\", index=False)"
   ]
  }
 ],
 "metadata": {
  "kernelspec": {
   "display_name": "Python 3",
   "language": "python",
   "name": "python3"
  },
  "language_info": {
   "codemirror_mode": {
    "name": "ipython",
    "version": 3
   },
   "file_extension": ".py",
   "mimetype": "text/x-python",
   "name": "python",
   "nbconvert_exporter": "python",
   "pygments_lexer": "ipython3",
   "version": "3.7.10"
  }
 },
 "nbformat": 4,
 "nbformat_minor": 5
}
