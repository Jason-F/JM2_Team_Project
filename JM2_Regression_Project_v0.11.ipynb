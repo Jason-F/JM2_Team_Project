{
 "cells": [
  {
   "cell_type": "markdown",
   "metadata": {},
   "source": [
    "# Phase 0: Imports"
   ]
  },
  {
   "cell_type": "markdown",
   "metadata": {},
   "source": [
    "Loading required python packages."
   ]
  },
  {
   "cell_type": "markdown",
   "metadata": {},
   "source": [
    "### Table of Contents\n",
    "---\n",
    "1. [Introduction](#intro)\n",
    " * Project Description\n",
    " * Problem Statement\n",
    " * Datasets and Variables\n",
    "---\n",
    "2. [Load Dependencies](#imports)\n",
    "---\n",
    "3. [Data Cleaning](#data)\n",
    " * Load Data\n",
    " * Merge Datasets\n",
    " * Handle Missing Data\n",
    " * Remove Target Outliers\n",
    "---\n",
    "4. [Exploratory Data Analysis](#EDA)\n",
    " * Data Summary Statistics\n",
    " * Univariate Analysis and Visualisation\n",
    " * Bivariate Analysis and Visualisation\n",
    " * Map Visualisation\n",
    "---\n",
    "5. [Data Preprocessing](#preprocessing) \n",
    " * Feature Engineering\n",
    " * Encoding Categorical Data\n",
    " * Split Training Set Into Training and Validation Sets\n",
    " * Feature Scaling\n",
    " * Feature Selection\n",
    "\n",
    "---\n",
    "6. [Modelling](#modelling)\n",
    " * Linear Regression\n",
    " * Multiple Linear Regression\n",
    " * Polynomial Regression\n",
    " * Support Vector Regression\n",
    " * Random Forest Regression\n",
    " * Lasso Regression\n",
    " * Ridge Regression\n",
    " * CatBoost Regression\n",
    " * XGBoost Regression\n",
    " * LightGBM Regression\n",
    "---\n",
    "7. [Performance Evaluation](#evaluation)\n",
    " * Compare Models on Performance Metrics\n",
    " * Evaluate Best Models by Cross Validation\n",
    " * Hyperparameter Tuning on Best Models\n",
    " * Feature Importance of Best Models\n",
    "---\n",
    "8. [Model Analysis](#analysis)\n",
    "---\n",
    "9. [Conclusion](#conclusion)\n",
    "---\n",
    "10. [Save Model and Output](#save)"
   ]
  },
  {
   "cell_type": "markdown",
   "metadata": {},
   "source": [
    "<a id=\"intro\"></a>\n",
    "## 1. Introduction "
   ]
  },
  {
   "cell_type": "markdown",
   "metadata": {},
   "source": [
    "<a id=\"imports\"></a>\n",
    "## 2. Load Dependencies"
   ]
  },
  {
   "cell_type": "code",
   "execution_count": null,
   "metadata": {},
   "outputs": [],
   "source": [
    "import numpy as np\n",
    "import pandas as pd\n",
    "import matplotlib.pyplot as plt\n",
    "import seaborn as sns\n",
    "from statsmodels.graphics.correlation import plot_corr\n",
    "from scipy.stats import pearsonr\n",
    "%matplotlib inline\n",
    "\n",
    "#models\n",
    "from sklearn.linear_model import LinearRegression\n",
    "from sklearn.linear_model import Ridge\n",
    "from sklearn.linear_model import Lasso\n",
    "from sklearn.neighbors import KNeighborsRegressor\n",
    "from sklearn.ensemble import RandomForestRegressor\n",
    "from sklearn.tree import DecisionTreeRegressor\n",
    "from sklearn.svm import SVR\n",
    "from sklearn.ensemble import AdaBoostRegressor\n",
    "from sklearn.ensemble import GradientBoostingRegressor \n",
    "\n",
    "#metrics, procssing and model selection\n",
    "from sklearn.model_selection import train_test_split\n",
    "from sklearn.preprocessing import StandardScaler\n",
    "from sklearn import metrics"
   ]
  },
  {
   "cell_type": "markdown",
   "metadata": {},
   "source": [
    "<a id=\"data\"></a>\n",
    "## 3. Data Cleaning"
   ]
  },
  {
   "cell_type": "markdown",
   "metadata": {},
   "source": [
    "As kaggle already provided us with data in the form of csv files, all we have to do is load them into dataframes."
   ]
  },
  {
   "cell_type": "markdown",
   "metadata": {},
   "source": [
    "### Load Data"
   ]
  },
  {
   "cell_type": "code",
   "execution_count": 6,
   "metadata": {},
   "outputs": [],
   "source": [
    "#loading csv's\n",
    "train=pd.read_csv('df - train_set.csv')\n",
    "test=pd.read_csv('df - test_set.csv')\n",
    "test_id=test['Index']\n",
    "test=test.drop('Index',axis=1)\n"
   ]
  },
  {
   "cell_type": "markdown",
   "metadata": {},
   "source": [
    "### Handle Missing Data"
   ]
  },
  {
   "cell_type": "markdown",
   "metadata": {},
   "source": [
    "There can be numerous reasons as to why datasets can have missing values. It is critical to identify how many values are missing because they can provide insight into potential patterns or cause the misrepresentation of features. The proportion of missing data will determine how the data is further handled."
   ]
  },
  {
   "cell_type": "code",
   "execution_count": 84,
   "metadata": {},
   "outputs": [
    {
     "data": {
      "image/png": "[encoded data removed]",
      "text/plain": [
       "<Figure size 1080x360 with 2 Axes>"
      ]
     },
     "metadata": {
      "needs_background": "light"
     },
     "output_type": "display_data"
    },
    {
     "data": {
      "text/html": [
       "<div>\n",
       "<style scoped>\n",
       "    .dataframe tbody tr th:only-of-type {\n",
       "        vertical-align: middle;\n",
       "    }\n",
       "\n",
       "    .dataframe tbody tr th {\n",
       "        vertical-align: top;\n",
       "    }\n",
       "\n",
       "    .dataframe thead th {\n",
       "        text-align: right;\n",
       "    }\n",
       "</style>\n",
       "<table border=\"1\" class=\"dataframe\">\n",
       "  <thead>\n",
       "    <tr style=\"text-align: right;\">\n",
       "      <th></th>\n",
       "      <th>% missing training set</th>\n",
       "      <th>% missing testing set</th>\n",
       "    </tr>\n",
       "  </thead>\n",
       "  <tbody>\n",
       "    <tr>\n",
       "      <th>Day</th>\n",
       "      <td>0.0</td>\n",
       "      <td>0.0</td>\n",
       "    </tr>\n",
       "    <tr>\n",
       "      <th>High_Price</th>\n",
       "      <td>0.0</td>\n",
       "      <td>0.0</td>\n",
       "    </tr>\n",
       "  </tbody>\n",
       "</table>\n",
       "</div>"
      ],
      "text/plain": [
       "            % missing training set  % missing testing set\n",
       "Day                            0.0                    0.0\n",
       "High_Price                     0.0                    0.0"
      ]
     },
     "execution_count": 84,
     "metadata": {},
     "output_type": "execute_result"
    }
   ],
   "source": [
    "# Check columns for missing values\n",
    "fig,axis = plt.subplots(ncols=2, figsize=(15, 5))\n",
    "\n",
    "#Training set\n",
    "sns.heatmap(train.isnull(),yticklabels=False,cbar=False,cmap=['#fb7d07','purple'],ax=axis[0])\n",
    "axis[0].set_title('Missing Values in Training Set',fontsize=14)\n",
    "#Testing set\n",
    "sns.heatmap(test.isnull(),yticklabels=False,cbar=False,cmap=['purple','#fb7d07'],ax=axis[1])\n",
    "axis[1].set_title('Missing Values in Test Set',fontsize=14)\n",
    "\n",
    "plt.show()\n",
    "\n",
    "# Calculate percentage missing values\n",
    "train = round((train.isnull().sum()/train.isnull().count())*100,2)\n",
    "test = round((test.isnull().sum()/test.isnull().count())*100,2)\n",
    "d = {'% missing training set': train, '% missing testing set': test}\n",
    "pd.DataFrame(data=d).sort_values(by='% missing training set',ascending=False).head(2)"
   ]
  },
  {
   "cell_type": "code",
   "execution_count": 7,
   "metadata": {},
   "outputs": [
    {
     "data": {
      "text/plain": [
       "Province            0\n",
       "Container           0\n",
       "Size_Grade          0\n",
       "Weight_Kg           0\n",
       "Commodities         0\n",
       "Date                0\n",
       "Low_Price           0\n",
       "High_Price          0\n",
       "Sales_Total         0\n",
       "Total_Qty_Sold      0\n",
       "Total_Kg_Sold       0\n",
       "Stock_On_Hand       0\n",
       "avg_price_per_kg    0\n",
       "dtype: int64"
      ]
     },
     "execution_count": 7,
     "metadata": {},
     "output_type": "execute_result"
    }
   ],
   "source": [
    "train.isnull().sum()"
   ]
  },
  {
   "cell_type": "code",
   "execution_count": 8,
   "metadata": {},
   "outputs": [
    {
     "name": "stdout",
     "output_type": "stream",
     "text": [
      "The data contains 0 empty values over all columns\n"
     ]
    }
   ],
   "source": [
    "i=0\n",
    "for x in train.columns:\n",
    "    if '' in sorted(train[x].unique()):\n",
    "        i+=1\n",
    "print('The data contains '+str(i)+' empty values over all columns')"
   ]
  },
  {
   "cell_type": "markdown",
   "metadata": {},
   "source": [
    "none of our columns contain any null or empty values."
   ]
  },
  {
   "cell_type": "code",
   "execution_count": 9,
   "metadata": {},
   "outputs": [
    {
     "data": {
      "text/html": [
       "<div>\n",
       "<style scoped>\n",
       "    .dataframe tbody tr th:only-of-type {\n",
       "        vertical-align: middle;\n",
       "    }\n",
       "\n",
       "    .dataframe tbody tr th {\n",
       "        vertical-align: top;\n",
       "    }\n",
       "\n",
       "    .dataframe thead th {\n",
       "        text-align: right;\n",
       "    }\n",
       "</style>\n",
       "<table border=\"1\" class=\"dataframe\">\n",
       "  <thead>\n",
       "    <tr style=\"text-align: right;\">\n",
       "      <th></th>\n",
       "      <th>Province</th>\n",
       "      <th>Container</th>\n",
       "      <th>Size_Grade</th>\n",
       "      <th>Weight_Kg</th>\n",
       "      <th>Commodities</th>\n",
       "      <th>Date</th>\n",
       "      <th>Low_Price</th>\n",
       "      <th>High_Price</th>\n",
       "      <th>Sales_Total</th>\n",
       "      <th>Total_Qty_Sold</th>\n",
       "      <th>Total_Kg_Sold</th>\n",
       "      <th>Stock_On_Hand</th>\n",
       "      <th>avg_price_per_kg</th>\n",
       "    </tr>\n",
       "  </thead>\n",
       "  <tbody>\n",
       "    <tr>\n",
       "      <th>0</th>\n",
       "      <td>CAPE</td>\n",
       "      <td>EC120</td>\n",
       "      <td>1L</td>\n",
       "      <td>12.0</td>\n",
       "      <td>APPLE GRANNY SMITH</td>\n",
       "      <td>2020-03-10</td>\n",
       "      <td>108.0</td>\n",
       "      <td>112.0</td>\n",
       "      <td>3236.0</td>\n",
       "      <td>29</td>\n",
       "      <td>348.0</td>\n",
       "      <td>0</td>\n",
       "      <td>9.30</td>\n",
       "    </tr>\n",
       "    <tr>\n",
       "      <th>1</th>\n",
       "      <td>CAPE</td>\n",
       "      <td>M4183</td>\n",
       "      <td>1L</td>\n",
       "      <td>18.3</td>\n",
       "      <td>APPLE GOLDEN DELICIOUS</td>\n",
       "      <td>2020-09-09</td>\n",
       "      <td>150.0</td>\n",
       "      <td>170.0</td>\n",
       "      <td>51710.0</td>\n",
       "      <td>332</td>\n",
       "      <td>6075.6</td>\n",
       "      <td>822</td>\n",
       "      <td>8.51</td>\n",
       "    </tr>\n",
       "    <tr>\n",
       "      <th>2</th>\n",
       "      <td>GAUTENG</td>\n",
       "      <td>AT200</td>\n",
       "      <td>1L</td>\n",
       "      <td>20.0</td>\n",
       "      <td>AVOCADO PINKERTON</td>\n",
       "      <td>2020-05-05</td>\n",
       "      <td>70.0</td>\n",
       "      <td>80.0</td>\n",
       "      <td>4860.0</td>\n",
       "      <td>66</td>\n",
       "      <td>1320.0</td>\n",
       "      <td>50</td>\n",
       "      <td>3.68</td>\n",
       "    </tr>\n",
       "    <tr>\n",
       "      <th>3</th>\n",
       "      <td>TRANSVAAL</td>\n",
       "      <td>BJ090</td>\n",
       "      <td>1L</td>\n",
       "      <td>9.0</td>\n",
       "      <td>TOMATOES-LONG LIFE</td>\n",
       "      <td>2020-01-20</td>\n",
       "      <td>60.0</td>\n",
       "      <td>60.0</td>\n",
       "      <td>600.0</td>\n",
       "      <td>10</td>\n",
       "      <td>90.0</td>\n",
       "      <td>0</td>\n",
       "      <td>6.67</td>\n",
       "    </tr>\n",
       "    <tr>\n",
       "      <th>4</th>\n",
       "      <td>WESTERN FREESTATE</td>\n",
       "      <td>PP100</td>\n",
       "      <td>1R</td>\n",
       "      <td>10.0</td>\n",
       "      <td>POTATO SIFRA (WASHED)</td>\n",
       "      <td>2020-07-14</td>\n",
       "      <td>40.0</td>\n",
       "      <td>45.0</td>\n",
       "      <td>41530.0</td>\n",
       "      <td>927</td>\n",
       "      <td>9270.0</td>\n",
       "      <td>393</td>\n",
       "      <td>4.48</td>\n",
       "    </tr>\n",
       "  </tbody>\n",
       "</table>\n",
       "</div>"
      ],
      "text/plain": [
       "            Province Container Size_Grade  Weight_Kg             Commodities  \\\n",
       "0               CAPE     EC120         1L       12.0      APPLE GRANNY SMITH   \n",
       "1               CAPE     M4183         1L       18.3  APPLE GOLDEN DELICIOUS   \n",
       "2            GAUTENG     AT200         1L       20.0       AVOCADO PINKERTON   \n",
       "3          TRANSVAAL     BJ090         1L        9.0      TOMATOES-LONG LIFE   \n",
       "4  WESTERN FREESTATE     PP100         1R       10.0   POTATO SIFRA (WASHED)   \n",
       "\n",
       "         Date  Low_Price  High_Price  Sales_Total  Total_Qty_Sold  \\\n",
       "0  2020-03-10      108.0       112.0       3236.0              29   \n",
       "1  2020-09-09      150.0       170.0      51710.0             332   \n",
       "2  2020-05-05       70.0        80.0       4860.0              66   \n",
       "3  2020-01-20       60.0        60.0        600.0              10   \n",
       "4  2020-07-14       40.0        45.0      41530.0             927   \n",
       "\n",
       "   Total_Kg_Sold  Stock_On_Hand  avg_price_per_kg  \n",
       "0          348.0              0              9.30  \n",
       "1         6075.6            822              8.51  \n",
       "2         1320.0             50              3.68  \n",
       "3           90.0              0              6.67  \n",
       "4         9270.0            393              4.48  "
      ]
     },
     "execution_count": 9,
     "metadata": {},
     "output_type": "execute_result"
    }
   ],
   "source": [
    "train.head()"
   ]
  },
  {
   "cell_type": "markdown",
   "metadata": {},
   "source": [
    "The table contains information about 'Commodoties that we are not interested in, we filter only for 'APPLE GOLDEN DELICIOUS'."
   ]
  },
  {
   "cell_type": "code",
   "execution_count": 10,
   "metadata": {},
   "outputs": [
    {
     "data": {
      "text/html": [
       "<div>\n",
       "<style scoped>\n",
       "    .dataframe tbody tr th:only-of-type {\n",
       "        vertical-align: middle;\n",
       "    }\n",
       "\n",
       "    .dataframe tbody tr th {\n",
       "        vertical-align: top;\n",
       "    }\n",
       "\n",
       "    .dataframe thead th {\n",
       "        text-align: right;\n",
       "    }\n",
       "</style>\n",
       "<table border=\"1\" class=\"dataframe\">\n",
       "  <thead>\n",
       "    <tr style=\"text-align: right;\">\n",
       "      <th></th>\n",
       "      <th>Province</th>\n",
       "      <th>Container</th>\n",
       "      <th>Size_Grade</th>\n",
       "      <th>Weight_Kg</th>\n",
       "      <th>Commodities</th>\n",
       "      <th>Date</th>\n",
       "      <th>Low_Price</th>\n",
       "      <th>High_Price</th>\n",
       "      <th>Sales_Total</th>\n",
       "      <th>Total_Qty_Sold</th>\n",
       "      <th>Total_Kg_Sold</th>\n",
       "      <th>Stock_On_Hand</th>\n",
       "      <th>avg_price_per_kg</th>\n",
       "    </tr>\n",
       "  </thead>\n",
       "  <tbody>\n",
       "    <tr>\n",
       "      <th>1</th>\n",
       "      <td>CAPE</td>\n",
       "      <td>M4183</td>\n",
       "      <td>1L</td>\n",
       "      <td>18.3</td>\n",
       "      <td>APPLE GOLDEN DELICIOUS</td>\n",
       "      <td>2020-09-09</td>\n",
       "      <td>150.0</td>\n",
       "      <td>170.0</td>\n",
       "      <td>51710.0</td>\n",
       "      <td>332</td>\n",
       "      <td>6075.6</td>\n",
       "      <td>822</td>\n",
       "      <td>8.51</td>\n",
       "    </tr>\n",
       "    <tr>\n",
       "      <th>7</th>\n",
       "      <td>CAPE</td>\n",
       "      <td>JG110</td>\n",
       "      <td>2M</td>\n",
       "      <td>11.0</td>\n",
       "      <td>APPLE GOLDEN DELICIOUS</td>\n",
       "      <td>2020-04-14</td>\n",
       "      <td>50.0</td>\n",
       "      <td>50.0</td>\n",
       "      <td>16000.0</td>\n",
       "      <td>320</td>\n",
       "      <td>3520.0</td>\n",
       "      <td>0</td>\n",
       "      <td>4.55</td>\n",
       "    </tr>\n",
       "    <tr>\n",
       "      <th>24</th>\n",
       "      <td>W.CAPE-BERGRIVER ETC</td>\n",
       "      <td>JE090</td>\n",
       "      <td>2S</td>\n",
       "      <td>9.0</td>\n",
       "      <td>APPLE GOLDEN DELICIOUS</td>\n",
       "      <td>2020-04-16</td>\n",
       "      <td>55.0</td>\n",
       "      <td>55.0</td>\n",
       "      <td>990.0</td>\n",
       "      <td>18</td>\n",
       "      <td>162.0</td>\n",
       "      <td>1506</td>\n",
       "      <td>6.11</td>\n",
       "    </tr>\n",
       "    <tr>\n",
       "      <th>40</th>\n",
       "      <td>CAPE</td>\n",
       "      <td>M4183</td>\n",
       "      <td>1S</td>\n",
       "      <td>18.3</td>\n",
       "      <td>APPLE GOLDEN DELICIOUS</td>\n",
       "      <td>2020-05-04</td>\n",
       "      <td>80.0</td>\n",
       "      <td>120.0</td>\n",
       "      <td>32020.0</td>\n",
       "      <td>388</td>\n",
       "      <td>7100.4</td>\n",
       "      <td>443</td>\n",
       "      <td>4.51</td>\n",
       "    </tr>\n",
       "    <tr>\n",
       "      <th>69</th>\n",
       "      <td>EASTERN CAPE</td>\n",
       "      <td>IA400</td>\n",
       "      <td>1S</td>\n",
       "      <td>400.0</td>\n",
       "      <td>APPLE GOLDEN DELICIOUS</td>\n",
       "      <td>2020-09-28</td>\n",
       "      <td>1800.0</td>\n",
       "      <td>1800.0</td>\n",
       "      <td>1800.0</td>\n",
       "      <td>1</td>\n",
       "      <td>400.0</td>\n",
       "      <td>2</td>\n",
       "      <td>4.50</td>\n",
       "    </tr>\n",
       "  </tbody>\n",
       "</table>\n",
       "</div>"
      ],
      "text/plain": [
       "                Province Container Size_Grade  Weight_Kg  \\\n",
       "1                   CAPE     M4183         1L       18.3   \n",
       "7                   CAPE     JG110         2M       11.0   \n",
       "24  W.CAPE-BERGRIVER ETC     JE090         2S        9.0   \n",
       "40                  CAPE     M4183         1S       18.3   \n",
       "69          EASTERN CAPE     IA400         1S      400.0   \n",
       "\n",
       "               Commodities        Date  Low_Price  High_Price  Sales_Total  \\\n",
       "1   APPLE GOLDEN DELICIOUS  2020-09-09      150.0       170.0      51710.0   \n",
       "7   APPLE GOLDEN DELICIOUS  2020-04-14       50.0        50.0      16000.0   \n",
       "24  APPLE GOLDEN DELICIOUS  2020-04-16       55.0        55.0        990.0   \n",
       "40  APPLE GOLDEN DELICIOUS  2020-05-04       80.0       120.0      32020.0   \n",
       "69  APPLE GOLDEN DELICIOUS  2020-09-28     1800.0      1800.0       1800.0   \n",
       "\n",
       "    Total_Qty_Sold  Total_Kg_Sold  Stock_On_Hand  avg_price_per_kg  \n",
       "1              332         6075.6            822              8.51  \n",
       "7              320         3520.0              0              4.55  \n",
       "24              18          162.0           1506              6.11  \n",
       "40             388         7100.4            443              4.51  \n",
       "69               1          400.0              2              4.50  "
      ]
     },
     "execution_count": 10,
     "metadata": {},
     "output_type": "execute_result"
    }
   ],
   "source": [
    "#Filter for Golden Delicious Apples\n",
    "train=train[train['Commodities']=='APPLE GOLDEN DELICIOUS']\n",
    "test=test[test['Commodities']=='APPLE GOLDEN DELICIOUS']\n",
    "train.head()"
   ]
  },
  {
   "cell_type": "markdown",
   "metadata": {},
   "source": [
    "We may as well remove the \"Commodities\" column as it has no more useful information."
   ]
  },
  {
   "cell_type": "code",
   "execution_count": 11,
   "metadata": {},
   "outputs": [
    {
     "name": "stdout",
     "output_type": "stream",
     "text": [
      "<class 'pandas.core.frame.DataFrame'>\n",
      "Int64Index: 1952 entries, 1 to 64310\n",
      "Data columns (total 12 columns):\n",
      " #   Column            Non-Null Count  Dtype  \n",
      "---  ------            --------------  -----  \n",
      " 0   Province          1952 non-null   object \n",
      " 1   Container         1952 non-null   object \n",
      " 2   Size_Grade        1952 non-null   object \n",
      " 3   Weight_Kg         1952 non-null   float64\n",
      " 4   Date              1952 non-null   object \n",
      " 5   Low_Price         1952 non-null   float64\n",
      " 6   High_Price        1952 non-null   float64\n",
      " 7   Sales_Total       1952 non-null   float64\n",
      " 8   Total_Qty_Sold    1952 non-null   int64  \n",
      " 9   Total_Kg_Sold     1952 non-null   float64\n",
      " 10  Stock_On_Hand     1952 non-null   int64  \n",
      " 11  avg_price_per_kg  1952 non-null   float64\n",
      "dtypes: float64(6), int64(2), object(4)\n",
      "memory usage: 198.2+ KB\n"
     ]
    }
   ],
   "source": [
    "#Remove Commodities\n",
    "train=train.drop([\"Commodities\"],axis=1)\n",
    "test=test.drop([\"Commodities\"],axis=1)\n",
    "train.info()"
   ]
  },
  {
   "cell_type": "markdown",
   "metadata": {},
   "source": [
    "We note that the DataFrame consists of 12 columns.(11 predictors and 1 response)\n",
    "\n",
    "The predictor variables are broken down into the following types:\n",
    "\n",
    "    -object: Province, Container, Size_Grade and Date\n",
    "\n",
    "    -float: Weight_Kg, Low_Price, High_Price, Sales_Total and Total_Kg_Sold\n",
    "\n",
    "    -integer: Total_Qty_Sold and Stock_On_Hand\n",
    "    \n",
    "with the response variable(avg_price_per_kg) being a float."
   ]
  },
  {
   "cell_type": "markdown",
   "metadata": {},
   "source": [
    "# Phase 3: Exploratory Data Analysis"
   ]
  },
  {
   "cell_type": "markdown",
   "metadata": {},
   "source": [
    "## 3.1: Univariate Analysis"
   ]
  },
  {
   "cell_type": "markdown",
   "metadata": {},
   "source": [
    "#### 3.1.1: Numeric data"
   ]
  },
  {
   "cell_type": "code",
   "execution_count": 12,
   "metadata": {},
   "outputs": [
    {
     "data": {
      "text/html": [
       "<div>\n",
       "<style scoped>\n",
       "    .dataframe tbody tr th:only-of-type {\n",
       "        vertical-align: middle;\n",
       "    }\n",
       "\n",
       "    .dataframe tbody tr th {\n",
       "        vertical-align: top;\n",
       "    }\n",
       "\n",
       "    .dataframe thead th {\n",
       "        text-align: right;\n",
       "    }\n",
       "</style>\n",
       "<table border=\"1\" class=\"dataframe\">\n",
       "  <thead>\n",
       "    <tr style=\"text-align: right;\">\n",
       "      <th></th>\n",
       "      <th>Weight_Kg</th>\n",
       "      <th>Low_Price</th>\n",
       "      <th>High_Price</th>\n",
       "      <th>Sales_Total</th>\n",
       "      <th>Total_Qty_Sold</th>\n",
       "      <th>Total_Kg_Sold</th>\n",
       "      <th>Stock_On_Hand</th>\n",
       "      <th>avg_price_per_kg</th>\n",
       "    </tr>\n",
       "  </thead>\n",
       "  <tbody>\n",
       "    <tr>\n",
       "      <th>count</th>\n",
       "      <td>1952.000000</td>\n",
       "      <td>1952.000000</td>\n",
       "      <td>1952.000000</td>\n",
       "      <td>1952.000000</td>\n",
       "      <td>1952.000000</td>\n",
       "      <td>1952.000000</td>\n",
       "      <td>1952.000000</td>\n",
       "      <td>1952.000000</td>\n",
       "    </tr>\n",
       "    <tr>\n",
       "      <th>mean</th>\n",
       "      <td>40.460912</td>\n",
       "      <td>174.307377</td>\n",
       "      <td>215.648053</td>\n",
       "      <td>20053.533811</td>\n",
       "      <td>174.510758</td>\n",
       "      <td>2960.176332</td>\n",
       "      <td>408.393955</td>\n",
       "      <td>6.778893</td>\n",
       "    </tr>\n",
       "    <tr>\n",
       "      <th>std</th>\n",
       "      <td>99.655169</td>\n",
       "      <td>373.553578</td>\n",
       "      <td>433.546159</td>\n",
       "      <td>39005.069445</td>\n",
       "      <td>308.810797</td>\n",
       "      <td>6097.416527</td>\n",
       "      <td>724.450582</td>\n",
       "      <td>2.248744</td>\n",
       "    </tr>\n",
       "    <tr>\n",
       "      <th>min</th>\n",
       "      <td>3.000000</td>\n",
       "      <td>2.000000</td>\n",
       "      <td>5.000000</td>\n",
       "      <td>5.000000</td>\n",
       "      <td>1.000000</td>\n",
       "      <td>3.000000</td>\n",
       "      <td>0.000000</td>\n",
       "      <td>0.250000</td>\n",
       "    </tr>\n",
       "    <tr>\n",
       "      <th>25%</th>\n",
       "      <td>9.000000</td>\n",
       "      <td>50.000000</td>\n",
       "      <td>60.000000</td>\n",
       "      <td>1325.000000</td>\n",
       "      <td>12.000000</td>\n",
       "      <td>219.600000</td>\n",
       "      <td>9.000000</td>\n",
       "      <td>5.460000</td>\n",
       "    </tr>\n",
       "    <tr>\n",
       "      <th>50%</th>\n",
       "      <td>12.000000</td>\n",
       "      <td>80.000000</td>\n",
       "      <td>108.000000</td>\n",
       "      <td>5495.000000</td>\n",
       "      <td>64.000000</td>\n",
       "      <td>853.500000</td>\n",
       "      <td>126.500000</td>\n",
       "      <td>6.670000</td>\n",
       "    </tr>\n",
       "    <tr>\n",
       "      <th>75%</th>\n",
       "      <td>18.300000</td>\n",
       "      <td>127.250000</td>\n",
       "      <td>160.000000</td>\n",
       "      <td>21082.500000</td>\n",
       "      <td>200.000000</td>\n",
       "      <td>3093.525000</td>\n",
       "      <td>468.000000</td>\n",
       "      <td>8.280000</td>\n",
       "    </tr>\n",
       "    <tr>\n",
       "      <th>max</th>\n",
       "      <td>400.000000</td>\n",
       "      <td>2300.000000</td>\n",
       "      <td>3300.000000</td>\n",
       "      <td>369464.000000</td>\n",
       "      <td>4237.000000</td>\n",
       "      <td>74000.000000</td>\n",
       "      <td>6400.000000</td>\n",
       "      <td>21.240000</td>\n",
       "    </tr>\n",
       "  </tbody>\n",
       "</table>\n",
       "</div>"
      ],
      "text/plain": [
       "         Weight_Kg    Low_Price   High_Price    Sales_Total  Total_Qty_Sold  \\\n",
       "count  1952.000000  1952.000000  1952.000000    1952.000000     1952.000000   \n",
       "mean     40.460912   174.307377   215.648053   20053.533811      174.510758   \n",
       "std      99.655169   373.553578   433.546159   39005.069445      308.810797   \n",
       "min       3.000000     2.000000     5.000000       5.000000        1.000000   \n",
       "25%       9.000000    50.000000    60.000000    1325.000000       12.000000   \n",
       "50%      12.000000    80.000000   108.000000    5495.000000       64.000000   \n",
       "75%      18.300000   127.250000   160.000000   21082.500000      200.000000   \n",
       "max     400.000000  2300.000000  3300.000000  369464.000000     4237.000000   \n",
       "\n",
       "       Total_Kg_Sold  Stock_On_Hand  avg_price_per_kg  \n",
       "count    1952.000000    1952.000000       1952.000000  \n",
       "mean     2960.176332     408.393955          6.778893  \n",
       "std      6097.416527     724.450582          2.248744  \n",
       "min         3.000000       0.000000          0.250000  \n",
       "25%       219.600000       9.000000          5.460000  \n",
       "50%       853.500000     126.500000          6.670000  \n",
       "75%      3093.525000     468.000000          8.280000  \n",
       "max     74000.000000    6400.000000         21.240000  "
      ]
     },
     "execution_count": 12,
     "metadata": {},
     "output_type": "execute_result"
    }
   ],
   "source": [
    "train.describe()"
   ]
  },
  {
   "cell_type": "markdown",
   "metadata": {},
   "source": [
    "We can see that the maximium values of our numeric data are many standard deviations(>3) away from the mean. This leads us to expect that they are outliers and will cause the distribution of the data to appear skewed."
   ]
  },
  {
   "cell_type": "code",
   "execution_count": 13,
   "metadata": {},
   "outputs": [
    {
     "data": {
      "text/plain": [
       "Weight_Kg           3.328254\n",
       "Low_Price           4.222672\n",
       "High_Price          3.828819\n",
       "Sales_Total         4.250317\n",
       "Total_Qty_Sold      4.445169\n",
       "Total_Kg_Sold       5.529586\n",
       "Stock_On_Hand       3.391815\n",
       "avg_price_per_kg    0.082452\n",
       "dtype: float64"
      ]
     },
     "execution_count": 13,
     "metadata": {},
     "output_type": "execute_result"
    }
   ],
   "source": [
    "train.skew()"
   ]
  },
  {
   "cell_type": "markdown",
   "metadata": {},
   "source": [
    "We can see that all of our numeric predictors are highly skewed(skew values greater than 1). While our response variable appears symmetrical(skew value close to 0)"
   ]
  },
  {
   "cell_type": "code",
   "execution_count": 14,
   "metadata": {},
   "outputs": [
    {
     "data": {
      "text/plain": [
       "Weight_Kg            9.109698\n",
       "Low_Price           17.073369\n",
       "High_Price          13.630768\n",
       "Sales_Total         24.200524\n",
       "Total_Qty_Sold      32.338123\n",
       "Total_Kg_Sold       45.153801\n",
       "Stock_On_Hand       14.671224\n",
       "avg_price_per_kg     1.042921\n",
       "dtype: float64"
      ]
     },
     "execution_count": 14,
     "metadata": {},
     "output_type": "execute_result"
    }
   ],
   "source": [
    "train.kurtosis()"
   ]
  },
  {
   "cell_type": "markdown",
   "metadata": {},
   "source": [
    "The kurtosis of our predictor values are much greater than 3. This indicates that there are strong outliers in the predictor variables."
   ]
  },
  {
   "cell_type": "markdown",
   "metadata": {},
   "source": [
    "These outliers are to be expected in data of this nature: For example:\n",
    "When looking at a column like Sales_Total, many places can have sales up to a certain point but after a certain amount only the biggest places can make that much in sales. This would skew our data toward the more 'acheivable' Sales_total values and cause the larger transactions to appear as outliers."
   ]
  },
  {
   "cell_type": "markdown",
   "metadata": {},
   "source": [
    "We now convert the date column from object to datetime"
   ]
  },
  {
   "cell_type": "code",
   "execution_count": 15,
   "metadata": {},
   "outputs": [],
   "source": [
    "#Date (object) --> Date (datetime)\n",
    "train['Date'] = pd.to_datetime(train['Date'])\n",
    "test['Date'] = pd.to_datetime(test['Date'])"
   ]
  },
  {
   "cell_type": "markdown",
   "metadata": {},
   "source": [
    "#### 3.1.3: Categorical Data"
   ]
  },
  {
   "cell_type": "code",
   "execution_count": 16,
   "metadata": {},
   "outputs": [
    {
     "data": {
      "image/png": "[encoded data removed]",
      "text/plain": [
       "<Figure size 1440x648 with 3 Axes>"
      ]
     },
     "metadata": {
      "needs_background": "light"
     },
     "output_type": "display_data"
    }
   ],
   "source": [
    "#Plot countplots of categorical data\n",
    "fig, ax =plt.subplots(1,3, figsize=(20, 9))\n",
    "sns.countplot(x=train['Size_Grade'], ax=ax[0])\n",
    "sns.countplot(x=train['Container'], ax=ax[1])\n",
    "sns.countplot(x=\"Province\", data=train, ax=ax[2])\n",
    "ax[2].tick_params(labelrotation=45)\n",
    "fig.tight_layout(pad=4.0)"
   ]
  },
  {
   "cell_type": "code",
   "execution_count": 17,
   "metadata": {},
   "outputs": [
    {
     "data": {
      "text/plain": [
       "[['CAPE', 53.53],\n",
       " ['EASTERN CAPE', 10.55],\n",
       " ['NATAL', 5.69],\n",
       " ['ORANGE FREE STATE', 0.46],\n",
       " ['TRANSVAAL', 0.77],\n",
       " ['W.CAPE-BERGRIVER ETC', 22.54],\n",
       " ['WEST COAST', 6.45]]"
      ]
     },
     "execution_count": 17,
     "metadata": {},
     "output_type": "execute_result"
    }
   ],
   "source": [
    "#count of Province as a percentage of all provinces\n",
    "dict_Prov=[]\n",
    "for x in sorted(train['Province'].unique()):\n",
    "    dict_Prov.append([x,round(len(train[train['Province']==x])*100/len(train['Province']),2)])\n",
    "dict_Prov"
   ]
  },
  {
   "cell_type": "code",
   "execution_count": 18,
   "metadata": {},
   "outputs": [
    {
     "data": {
      "text/plain": [
       "[['AC030', 1.59],\n",
       " ['DT063', 0.31],\n",
       " ['EC120', 22.95],\n",
       " ['EF120', 3.79],\n",
       " ['EG140', 0.15],\n",
       " ['IA400', 7.12],\n",
       " ['JE090', 28.94],\n",
       " ['JG110', 4.35],\n",
       " ['M4183', 30.12],\n",
       " ['M6125', 0.51],\n",
       " ['M9125', 0.15]]"
      ]
     },
     "execution_count": 18,
     "metadata": {},
     "output_type": "execute_result"
    }
   ],
   "source": [
    "#count of Container as a percentage of all containers\n",
    "dict_Cont=[]\n",
    "for x in sorted(train['Container'].unique()):\n",
    "    dict_Cont.append([x,round(len(train[train['Container']==x])*100/len(train['Container']),2)])\n",
    "dict_Cont"
   ]
  },
  {
   "cell_type": "code",
   "execution_count": 19,
   "metadata": {},
   "outputs": [
    {
     "data": {
      "text/plain": [
       "[['1L', 11.53],\n",
       " ['1M', 16.34],\n",
       " ['1S', 27.25],\n",
       " ['1U', 0.1],\n",
       " ['1X', 8.76],\n",
       " ['2L', 6.15],\n",
       " ['2M', 11.89],\n",
       " ['2S', 15.78],\n",
       " ['2U', 0.87],\n",
       " ['2X', 1.33]]"
      ]
     },
     "execution_count": 19,
     "metadata": {},
     "output_type": "execute_result"
    }
   ],
   "source": [
    "#count of Size_Grade as a percentage of all Size_Grades\n",
    "dict_Sgr=[]\n",
    "for x in sorted(train['Size_Grade'].unique()):\n",
    "    dict_Sgr.append([x,round(len(train[train['Size_Grade']==x])*100/len(train['Size_Grade']),2)])\n",
    "dict_Sgr"
   ]
  },
  {
   "cell_type": "markdown",
   "metadata": {},
   "source": [
    "## 3.2: Multivariate Analysis"
   ]
  },
  {
   "cell_type": "code",
   "execution_count": 20,
   "metadata": {},
   "outputs": [
    {
     "data": {
      "text/html": [
       "<style  type=\"text/css\" >\n",
       "#T_d602cf7e_bcc5_11eb_b8b6_38c9863f04dfrow0_col0,#T_d602cf7e_bcc5_11eb_b8b6_38c9863f04dfrow1_col1,#T_d602cf7e_bcc5_11eb_b8b6_38c9863f04dfrow2_col2,#T_d602cf7e_bcc5_11eb_b8b6_38c9863f04dfrow3_col3,#T_d602cf7e_bcc5_11eb_b8b6_38c9863f04dfrow4_col4,#T_d602cf7e_bcc5_11eb_b8b6_38c9863f04dfrow5_col5,#T_d602cf7e_bcc5_11eb_b8b6_38c9863f04dfrow6_col6,#T_d602cf7e_bcc5_11eb_b8b6_38c9863f04dfrow7_col7{\n",
       "            background-color:  #b40426;\n",
       "            color:  #f1f1f1;\n",
       "        }#T_d602cf7e_bcc5_11eb_b8b6_38c9863f04dfrow0_col1{\n",
       "            background-color:  #dc5d4a;\n",
       "            color:  #000000;\n",
       "        }#T_d602cf7e_bcc5_11eb_b8b6_38c9863f04dfrow0_col2{\n",
       "            background-color:  #d0473d;\n",
       "            color:  #f1f1f1;\n",
       "        }#T_d602cf7e_bcc5_11eb_b8b6_38c9863f04dfrow0_col3{\n",
       "            background-color:  #536edd;\n",
       "            color:  #000000;\n",
       "        }#T_d602cf7e_bcc5_11eb_b8b6_38c9863f04dfrow0_col4,#T_d602cf7e_bcc5_11eb_b8b6_38c9863f04dfrow0_col6,#T_d602cf7e_bcc5_11eb_b8b6_38c9863f04dfrow0_col7,#T_d602cf7e_bcc5_11eb_b8b6_38c9863f04dfrow7_col0,#T_d602cf7e_bcc5_11eb_b8b6_38c9863f04dfrow7_col1,#T_d602cf7e_bcc5_11eb_b8b6_38c9863f04dfrow7_col2,#T_d602cf7e_bcc5_11eb_b8b6_38c9863f04dfrow7_col3,#T_d602cf7e_bcc5_11eb_b8b6_38c9863f04dfrow7_col5{\n",
       "            background-color:  #3b4cc0;\n",
       "            color:  #f1f1f1;\n",
       "        }#T_d602cf7e_bcc5_11eb_b8b6_38c9863f04dfrow0_col5{\n",
       "            background-color:  #9dbdff;\n",
       "            color:  #000000;\n",
       "        }#T_d602cf7e_bcc5_11eb_b8b6_38c9863f04dfrow1_col0{\n",
       "            background-color:  #d75445;\n",
       "            color:  #000000;\n",
       "        }#T_d602cf7e_bcc5_11eb_b8b6_38c9863f04dfrow1_col2,#T_d602cf7e_bcc5_11eb_b8b6_38c9863f04dfrow2_col1{\n",
       "            background-color:  #c73635;\n",
       "            color:  #f1f1f1;\n",
       "        }#T_d602cf7e_bcc5_11eb_b8b6_38c9863f04dfrow1_col3{\n",
       "            background-color:  #5470de;\n",
       "            color:  #000000;\n",
       "        }#T_d602cf7e_bcc5_11eb_b8b6_38c9863f04dfrow1_col4{\n",
       "            background-color:  #3d50c3;\n",
       "            color:  #f1f1f1;\n",
       "        }#T_d602cf7e_bcc5_11eb_b8b6_38c9863f04dfrow1_col5{\n",
       "            background-color:  #94b6ff;\n",
       "            color:  #000000;\n",
       "        }#T_d602cf7e_bcc5_11eb_b8b6_38c9863f04dfrow1_col6,#T_d602cf7e_bcc5_11eb_b8b6_38c9863f04dfrow6_col1{\n",
       "            background-color:  #3e51c5;\n",
       "            color:  #f1f1f1;\n",
       "        }#T_d602cf7e_bcc5_11eb_b8b6_38c9863f04dfrow1_col7,#T_d602cf7e_bcc5_11eb_b8b6_38c9863f04dfrow6_col0{\n",
       "            background-color:  #688aef;\n",
       "            color:  #000000;\n",
       "        }#T_d602cf7e_bcc5_11eb_b8b6_38c9863f04dfrow2_col0{\n",
       "            background-color:  #cd423b;\n",
       "            color:  #f1f1f1;\n",
       "        }#T_d602cf7e_bcc5_11eb_b8b6_38c9863f04dfrow2_col3{\n",
       "            background-color:  #7396f5;\n",
       "            color:  #000000;\n",
       "        }#T_d602cf7e_bcc5_11eb_b8b6_38c9863f04dfrow2_col4{\n",
       "            background-color:  #445acc;\n",
       "            color:  #f1f1f1;\n",
       "        }#T_d602cf7e_bcc5_11eb_b8b6_38c9863f04dfrow2_col5,#T_d602cf7e_bcc5_11eb_b8b6_38c9863f04dfrow3_col6{\n",
       "            background-color:  #b7cff9;\n",
       "            color:  #000000;\n",
       "        }#T_d602cf7e_bcc5_11eb_b8b6_38c9863f04dfrow2_col6{\n",
       "            background-color:  #485fd1;\n",
       "            color:  #f1f1f1;\n",
       "        }#T_d602cf7e_bcc5_11eb_b8b6_38c9863f04dfrow2_col7{\n",
       "            background-color:  #6384eb;\n",
       "            color:  #000000;\n",
       "        }#T_d602cf7e_bcc5_11eb_b8b6_38c9863f04dfrow3_col0{\n",
       "            background-color:  #bcd2f7;\n",
       "            color:  #000000;\n",
       "        }#T_d602cf7e_bcc5_11eb_b8b6_38c9863f04dfrow3_col1{\n",
       "            background-color:  #98b9ff;\n",
       "            color:  #000000;\n",
       "        }#T_d602cf7e_bcc5_11eb_b8b6_38c9863f04dfrow3_col2{\n",
       "            background-color:  #b6cefa;\n",
       "            color:  #000000;\n",
       "        }#T_d602cf7e_bcc5_11eb_b8b6_38c9863f04dfrow3_col4{\n",
       "            background-color:  #ee8468;\n",
       "            color:  #000000;\n",
       "        }#T_d602cf7e_bcc5_11eb_b8b6_38c9863f04dfrow3_col5{\n",
       "            background-color:  #c12b30;\n",
       "            color:  #f1f1f1;\n",
       "        }#T_d602cf7e_bcc5_11eb_b8b6_38c9863f04dfrow3_col7{\n",
       "            background-color:  #aac7fd;\n",
       "            color:  #000000;\n",
       "        }#T_d602cf7e_bcc5_11eb_b8b6_38c9863f04dfrow4_col0{\n",
       "            background-color:  #6b8df0;\n",
       "            color:  #000000;\n",
       "        }#T_d602cf7e_bcc5_11eb_b8b6_38c9863f04dfrow4_col1{\n",
       "            background-color:  #3f53c6;\n",
       "            color:  #f1f1f1;\n",
       "        }#T_d602cf7e_bcc5_11eb_b8b6_38c9863f04dfrow4_col2{\n",
       "            background-color:  #4b64d5;\n",
       "            color:  #f1f1f1;\n",
       "        }#T_d602cf7e_bcc5_11eb_b8b6_38c9863f04dfrow4_col3{\n",
       "            background-color:  #f59c7d;\n",
       "            color:  #000000;\n",
       "        }#T_d602cf7e_bcc5_11eb_b8b6_38c9863f04dfrow4_col5{\n",
       "            background-color:  #f6bda2;\n",
       "            color:  #000000;\n",
       "        }#T_d602cf7e_bcc5_11eb_b8b6_38c9863f04dfrow4_col6{\n",
       "            background-color:  #d4dbe6;\n",
       "            color:  #000000;\n",
       "        }#T_d602cf7e_bcc5_11eb_b8b6_38c9863f04dfrow4_col7{\n",
       "            background-color:  #a5c3fe;\n",
       "            color:  #000000;\n",
       "        }#T_d602cf7e_bcc5_11eb_b8b6_38c9863f04dfrow5_col0{\n",
       "            background-color:  #d5dbe5;\n",
       "            color:  #000000;\n",
       "        }#T_d602cf7e_bcc5_11eb_b8b6_38c9863f04dfrow5_col1{\n",
       "            background-color:  #b3cdfb;\n",
       "            color:  #000000;\n",
       "        }#T_d602cf7e_bcc5_11eb_b8b6_38c9863f04dfrow5_col2,#T_d602cf7e_bcc5_11eb_b8b6_38c9863f04dfrow6_col4{\n",
       "            background-color:  #d3dbe7;\n",
       "            color:  #000000;\n",
       "        }#T_d602cf7e_bcc5_11eb_b8b6_38c9863f04dfrow5_col3{\n",
       "            background-color:  #c32e31;\n",
       "            color:  #f1f1f1;\n",
       "        }#T_d602cf7e_bcc5_11eb_b8b6_38c9863f04dfrow5_col4{\n",
       "            background-color:  #f7af91;\n",
       "            color:  #000000;\n",
       "        }#T_d602cf7e_bcc5_11eb_b8b6_38c9863f04dfrow5_col6{\n",
       "            background-color:  #a7c5fe;\n",
       "            color:  #000000;\n",
       "        }#T_d602cf7e_bcc5_11eb_b8b6_38c9863f04dfrow5_col7{\n",
       "            background-color:  #8db0fe;\n",
       "            color:  #000000;\n",
       "        }#T_d602cf7e_bcc5_11eb_b8b6_38c9863f04dfrow6_col2{\n",
       "            background-color:  #4c66d6;\n",
       "            color:  #000000;\n",
       "        }#T_d602cf7e_bcc5_11eb_b8b6_38c9863f04dfrow6_col3{\n",
       "            background-color:  #7a9df8;\n",
       "            color:  #000000;\n",
       "        }#T_d602cf7e_bcc5_11eb_b8b6_38c9863f04dfrow6_col5{\n",
       "            background-color:  #85a8fc;\n",
       "            color:  #000000;\n",
       "        }#T_d602cf7e_bcc5_11eb_b8b6_38c9863f04dfrow6_col7{\n",
       "            background-color:  #a9c6fd;\n",
       "            color:  #000000;\n",
       "        }#T_d602cf7e_bcc5_11eb_b8b6_38c9863f04dfrow7_col4{\n",
       "            background-color:  #799cf8;\n",
       "            color:  #000000;\n",
       "        }#T_d602cf7e_bcc5_11eb_b8b6_38c9863f04dfrow7_col6{\n",
       "            background-color:  #81a4fb;\n",
       "            color:  #000000;\n",
       "        }</style><table id=\"T_d602cf7e_bcc5_11eb_b8b6_38c9863f04df\" ><thead>    <tr>        <th class=\"blank level0\" ></th>        <th class=\"col_heading level0 col0\" >Weight_Kg</th>        <th class=\"col_heading level0 col1\" >Low_Price</th>        <th class=\"col_heading level0 col2\" >High_Price</th>        <th class=\"col_heading level0 col3\" >Sales_Total</th>        <th class=\"col_heading level0 col4\" >Total_Qty_Sold</th>        <th class=\"col_heading level0 col5\" >Total_Kg_Sold</th>        <th class=\"col_heading level0 col6\" >Stock_On_Hand</th>        <th class=\"col_heading level0 col7\" >avg_price_per_kg</th>    </tr></thead><tbody>\n",
       "                <tr>\n",
       "                        <th id=\"T_d602cf7e_bcc5_11eb_b8b6_38c9863f04dflevel0_row0\" class=\"row_heading level0 row0\" >Weight_Kg</th>\n",
       "                        <td id=\"T_d602cf7e_bcc5_11eb_b8b6_38c9863f04dfrow0_col0\" class=\"data row0 col0\" >1.000000</td>\n",
       "                        <td id=\"T_d602cf7e_bcc5_11eb_b8b6_38c9863f04dfrow0_col1\" class=\"data row0 col1\" >0.863182</td>\n",
       "                        <td id=\"T_d602cf7e_bcc5_11eb_b8b6_38c9863f04dfrow0_col2\" class=\"data row0 col2\" >0.905852</td>\n",
       "                        <td id=\"T_d602cf7e_bcc5_11eb_b8b6_38c9863f04dfrow0_col3\" class=\"data row0 col3\" >0.180518</td>\n",
       "                        <td id=\"T_d602cf7e_bcc5_11eb_b8b6_38c9863f04dfrow0_col4\" class=\"data row0 col4\" >-0.133317</td>\n",
       "                        <td id=\"T_d602cf7e_bcc5_11eb_b8b6_38c9863f04dfrow0_col5\" class=\"data row0 col5\" >0.294117</td>\n",
       "                        <td id=\"T_d602cf7e_bcc5_11eb_b8b6_38c9863f04dfrow0_col6\" class=\"data row0 col6\" >-0.144105</td>\n",
       "                        <td id=\"T_d602cf7e_bcc5_11eb_b8b6_38c9863f04dfrow0_col7\" class=\"data row0 col7\" >-0.337886</td>\n",
       "            </tr>\n",
       "            <tr>\n",
       "                        <th id=\"T_d602cf7e_bcc5_11eb_b8b6_38c9863f04dflevel0_row1\" class=\"row_heading level0 row1\" >Low_Price</th>\n",
       "                        <td id=\"T_d602cf7e_bcc5_11eb_b8b6_38c9863f04dfrow1_col0\" class=\"data row1 col0\" >0.863182</td>\n",
       "                        <td id=\"T_d602cf7e_bcc5_11eb_b8b6_38c9863f04dfrow1_col1\" class=\"data row1 col1\" >1.000000</td>\n",
       "                        <td id=\"T_d602cf7e_bcc5_11eb_b8b6_38c9863f04dfrow1_col2\" class=\"data row1 col2\" >0.938140</td>\n",
       "                        <td id=\"T_d602cf7e_bcc5_11eb_b8b6_38c9863f04dfrow1_col3\" class=\"data row1 col3\" >0.183230</td>\n",
       "                        <td id=\"T_d602cf7e_bcc5_11eb_b8b6_38c9863f04dfrow1_col4\" class=\"data row1 col4\" >-0.122823</td>\n",
       "                        <td id=\"T_d602cf7e_bcc5_11eb_b8b6_38c9863f04dfrow1_col5\" class=\"data row1 col5\" >0.269744</td>\n",
       "                        <td id=\"T_d602cf7e_bcc5_11eb_b8b6_38c9863f04dfrow1_col6\" class=\"data row1 col6\" >-0.127677</td>\n",
       "                        <td id=\"T_d602cf7e_bcc5_11eb_b8b6_38c9863f04dfrow1_col7\" class=\"data row1 col7\" >-0.141740</td>\n",
       "            </tr>\n",
       "            <tr>\n",
       "                        <th id=\"T_d602cf7e_bcc5_11eb_b8b6_38c9863f04dflevel0_row2\" class=\"row_heading level0 row2\" >High_Price</th>\n",
       "                        <td id=\"T_d602cf7e_bcc5_11eb_b8b6_38c9863f04dfrow2_col0\" class=\"data row2 col0\" >0.905852</td>\n",
       "                        <td id=\"T_d602cf7e_bcc5_11eb_b8b6_38c9863f04dfrow2_col1\" class=\"data row2 col1\" >0.938140</td>\n",
       "                        <td id=\"T_d602cf7e_bcc5_11eb_b8b6_38c9863f04dfrow2_col2\" class=\"data row2 col2\" >1.000000</td>\n",
       "                        <td id=\"T_d602cf7e_bcc5_11eb_b8b6_38c9863f04dfrow2_col3\" class=\"data row2 col3\" >0.265672</td>\n",
       "                        <td id=\"T_d602cf7e_bcc5_11eb_b8b6_38c9863f04dfrow2_col4\" class=\"data row2 col4\" >-0.096456</td>\n",
       "                        <td id=\"T_d602cf7e_bcc5_11eb_b8b6_38c9863f04dfrow2_col5\" class=\"data row2 col5\" >0.372282</td>\n",
       "                        <td id=\"T_d602cf7e_bcc5_11eb_b8b6_38c9863f04dfrow2_col6\" class=\"data row2 col6\" >-0.094174</td>\n",
       "                        <td id=\"T_d602cf7e_bcc5_11eb_b8b6_38c9863f04dfrow2_col7\" class=\"data row2 col7\" >-0.164496</td>\n",
       "            </tr>\n",
       "            <tr>\n",
       "                        <th id=\"T_d602cf7e_bcc5_11eb_b8b6_38c9863f04dflevel0_row3\" class=\"row_heading level0 row3\" >Sales_Total</th>\n",
       "                        <td id=\"T_d602cf7e_bcc5_11eb_b8b6_38c9863f04dfrow3_col0\" class=\"data row3 col0\" >0.180518</td>\n",
       "                        <td id=\"T_d602cf7e_bcc5_11eb_b8b6_38c9863f04dfrow3_col1\" class=\"data row3 col1\" >0.183230</td>\n",
       "                        <td id=\"T_d602cf7e_bcc5_11eb_b8b6_38c9863f04dfrow3_col2\" class=\"data row3 col2\" >0.265672</td>\n",
       "                        <td id=\"T_d602cf7e_bcc5_11eb_b8b6_38c9863f04dfrow3_col3\" class=\"data row3 col3\" >1.000000</td>\n",
       "                        <td id=\"T_d602cf7e_bcc5_11eb_b8b6_38c9863f04dfrow3_col4\" class=\"data row3 col4\" >0.771865</td>\n",
       "                        <td id=\"T_d602cf7e_bcc5_11eb_b8b6_38c9863f04dfrow3_col5\" class=\"data row3 col5\" >0.962338</td>\n",
       "                        <td id=\"T_d602cf7e_bcc5_11eb_b8b6_38c9863f04dfrow3_col6\" class=\"data row3 col6\" >0.284693</td>\n",
       "                        <td id=\"T_d602cf7e_bcc5_11eb_b8b6_38c9863f04dfrow3_col7\" class=\"data row3 col7\" >0.108473</td>\n",
       "            </tr>\n",
       "            <tr>\n",
       "                        <th id=\"T_d602cf7e_bcc5_11eb_b8b6_38c9863f04dflevel0_row4\" class=\"row_heading level0 row4\" >Total_Qty_Sold</th>\n",
       "                        <td id=\"T_d602cf7e_bcc5_11eb_b8b6_38c9863f04dfrow4_col0\" class=\"data row4 col0\" >-0.133317</td>\n",
       "                        <td id=\"T_d602cf7e_bcc5_11eb_b8b6_38c9863f04dfrow4_col1\" class=\"data row4 col1\" >-0.122823</td>\n",
       "                        <td id=\"T_d602cf7e_bcc5_11eb_b8b6_38c9863f04dfrow4_col2\" class=\"data row4 col2\" >-0.096456</td>\n",
       "                        <td id=\"T_d602cf7e_bcc5_11eb_b8b6_38c9863f04dfrow4_col3\" class=\"data row4 col3\" >0.771865</td>\n",
       "                        <td id=\"T_d602cf7e_bcc5_11eb_b8b6_38c9863f04dfrow4_col4\" class=\"data row4 col4\" >1.000000</td>\n",
       "                        <td id=\"T_d602cf7e_bcc5_11eb_b8b6_38c9863f04dfrow4_col5\" class=\"data row4 col5\" >0.651440</td>\n",
       "                        <td id=\"T_d602cf7e_bcc5_11eb_b8b6_38c9863f04dfrow4_col6\" class=\"data row4 col6\" >0.390168</td>\n",
       "                        <td id=\"T_d602cf7e_bcc5_11eb_b8b6_38c9863f04dfrow4_col7\" class=\"data row4 col7\" >0.087536</td>\n",
       "            </tr>\n",
       "            <tr>\n",
       "                        <th id=\"T_d602cf7e_bcc5_11eb_b8b6_38c9863f04dflevel0_row5\" class=\"row_heading level0 row5\" >Total_Kg_Sold</th>\n",
       "                        <td id=\"T_d602cf7e_bcc5_11eb_b8b6_38c9863f04dfrow5_col0\" class=\"data row5 col0\" >0.294117</td>\n",
       "                        <td id=\"T_d602cf7e_bcc5_11eb_b8b6_38c9863f04dfrow5_col1\" class=\"data row5 col1\" >0.269744</td>\n",
       "                        <td id=\"T_d602cf7e_bcc5_11eb_b8b6_38c9863f04dfrow5_col2\" class=\"data row5 col2\" >0.372282</td>\n",
       "                        <td id=\"T_d602cf7e_bcc5_11eb_b8b6_38c9863f04dfrow5_col3\" class=\"data row5 col3\" >0.962338</td>\n",
       "                        <td id=\"T_d602cf7e_bcc5_11eb_b8b6_38c9863f04dfrow5_col4\" class=\"data row5 col4\" >0.651440</td>\n",
       "                        <td id=\"T_d602cf7e_bcc5_11eb_b8b6_38c9863f04dfrow5_col5\" class=\"data row5 col5\" >1.000000</td>\n",
       "                        <td id=\"T_d602cf7e_bcc5_11eb_b8b6_38c9863f04dfrow5_col6\" class=\"data row5 col6\" >0.229062</td>\n",
       "                        <td id=\"T_d602cf7e_bcc5_11eb_b8b6_38c9863f04dfrow5_col7\" class=\"data row5 col7\" >-0.001007</td>\n",
       "            </tr>\n",
       "            <tr>\n",
       "                        <th id=\"T_d602cf7e_bcc5_11eb_b8b6_38c9863f04dflevel0_row6\" class=\"row_heading level0 row6\" >Stock_On_Hand</th>\n",
       "                        <td id=\"T_d602cf7e_bcc5_11eb_b8b6_38c9863f04dfrow6_col0\" class=\"data row6 col0\" >-0.144105</td>\n",
       "                        <td id=\"T_d602cf7e_bcc5_11eb_b8b6_38c9863f04dfrow6_col1\" class=\"data row6 col1\" >-0.127677</td>\n",
       "                        <td id=\"T_d602cf7e_bcc5_11eb_b8b6_38c9863f04dfrow6_col2\" class=\"data row6 col2\" >-0.094174</td>\n",
       "                        <td id=\"T_d602cf7e_bcc5_11eb_b8b6_38c9863f04dfrow6_col3\" class=\"data row6 col3\" >0.284693</td>\n",
       "                        <td id=\"T_d602cf7e_bcc5_11eb_b8b6_38c9863f04dfrow6_col4\" class=\"data row6 col4\" >0.390168</td>\n",
       "                        <td id=\"T_d602cf7e_bcc5_11eb_b8b6_38c9863f04dfrow6_col5\" class=\"data row6 col5\" >0.229062</td>\n",
       "                        <td id=\"T_d602cf7e_bcc5_11eb_b8b6_38c9863f04dfrow6_col6\" class=\"data row6 col6\" >1.000000</td>\n",
       "                        <td id=\"T_d602cf7e_bcc5_11eb_b8b6_38c9863f04dfrow6_col7\" class=\"data row6 col7\" >0.105028</td>\n",
       "            </tr>\n",
       "            <tr>\n",
       "                        <th id=\"T_d602cf7e_bcc5_11eb_b8b6_38c9863f04dflevel0_row7\" class=\"row_heading level0 row7\" >avg_price_per_kg</th>\n",
       "                        <td id=\"T_d602cf7e_bcc5_11eb_b8b6_38c9863f04dfrow7_col0\" class=\"data row7 col0\" >-0.337886</td>\n",
       "                        <td id=\"T_d602cf7e_bcc5_11eb_b8b6_38c9863f04dfrow7_col1\" class=\"data row7 col1\" >-0.141740</td>\n",
       "                        <td id=\"T_d602cf7e_bcc5_11eb_b8b6_38c9863f04dfrow7_col2\" class=\"data row7 col2\" >-0.164496</td>\n",
       "                        <td id=\"T_d602cf7e_bcc5_11eb_b8b6_38c9863f04dfrow7_col3\" class=\"data row7 col3\" >0.108473</td>\n",
       "                        <td id=\"T_d602cf7e_bcc5_11eb_b8b6_38c9863f04dfrow7_col4\" class=\"data row7 col4\" >0.087536</td>\n",
       "                        <td id=\"T_d602cf7e_bcc5_11eb_b8b6_38c9863f04dfrow7_col5\" class=\"data row7 col5\" >-0.001007</td>\n",
       "                        <td id=\"T_d602cf7e_bcc5_11eb_b8b6_38c9863f04dfrow7_col6\" class=\"data row7 col6\" >0.105028</td>\n",
       "                        <td id=\"T_d602cf7e_bcc5_11eb_b8b6_38c9863f04dfrow7_col7\" class=\"data row7 col7\" >1.000000</td>\n",
       "            </tr>\n",
       "    </tbody></table>"
      ],
      "text/plain": [
       "<pandas.io.formats.style.Styler at 0x11c74fc70>"
      ]
     },
     "execution_count": 20,
     "metadata": {},
     "output_type": "execute_result"
    }
   ],
   "source": [
    "corr = train.corr()\n",
    "corr.style.background_gradient(cmap='coolwarm')\n"
   ]
  },
  {
   "cell_type": "markdown",
   "metadata": {},
   "source": [
    "#### 3.2.1: Date and avg_price_per_kg"
   ]
  },
  {
   "cell_type": "code",
   "execution_count": 21,
   "metadata": {},
   "outputs": [
    {
     "data": {
      "text/plain": [
       "array(['2020-9', '2020-4', '2020-5', '2020-3', '2019-12', '2020-8',\n",
       "       '2020-7', '2020-2', '2020-6', '2020-1', '2020-10'], dtype=object)"
      ]
     },
     "execution_count": 21,
     "metadata": {},
     "output_type": "execute_result"
    }
   ],
   "source": [
    "#seperating date,month and year\n",
    "training_day=pd.DataFrame([])\n",
    "training_day['avg_price_per_kg']=train['avg_price_per_kg']\n",
    "training_day['Date']=train['Date']\n",
    "training_day['Day']=[x.weekday() for x in train['Date']]\n",
    "training_day['Month']=[x.month for x in train['Date']]\n",
    "training_day['Year-Month']=[str(x.year)+'-'+str(x.month) for x in train['Date']]\n",
    "training_day['Year-Month'].unique()"
   ]
  },
  {
   "cell_type": "code",
   "execution_count": 22,
   "metadata": {},
   "outputs": [
    {
     "data": {
      "image/png": "[encoded data removed]",
      "text/plain": [
       "<Figure size 1440x648 with 3 Axes>"
      ]
     },
     "metadata": {
      "needs_background": "light"
     },
     "output_type": "display_data"
    }
   ],
   "source": [
    "#Scatterplot of data_components and avg_price_per_kg\n",
    "fig, ax =plt.subplots(1,3, figsize=(20, 9))\n",
    "i=0\n",
    "for a in training_day.drop(['Date','avg_price_per_kg'],axis=1).columns:\n",
    "    sns.scatterplot(x=training_day[a],y=training_day['avg_price_per_kg'],ax=ax[i])\n",
    "    i+=1\n",
    "ax[2].tick_params(labelrotation=45)\n",
    "fig.tight_layout(pad=4.0)"
   ]
  },
  {
   "cell_type": "code",
   "execution_count": 23,
   "metadata": {},
   "outputs": [
    {
     "data": {
      "image/png": "[encoded data removed]",
      "text/plain": [
       "<Figure size 1440x648 with 3 Axes>"
      ]
     },
     "metadata": {
      "needs_background": "light"
     },
     "output_type": "display_data"
    }
   ],
   "source": [
    "fig, ax =plt.subplots(1,3, figsize=(20, 9))\n",
    "i=0\n",
    "for a in training_day.drop(['Date','avg_price_per_kg'],axis=1).columns:\n",
    "    avg_date_comp=training_day.groupby(a)['avg_price_per_kg'].mean()\n",
    "    sns.scatterplot(x=avg_date_comp.index,y=avg_date_comp,ax=ax[i])\n",
    "    i+=1"
   ]
  },
  {
   "cell_type": "markdown",
   "metadata": {},
   "source": [
    "The relationship between the day of the week and the mean of the avg_price_per_kg is the most clear. Also,considering the data we have is not even for 1 complete year, the relationship between month and mean of avg_price_per_kg cannot be determined to any meaningful degree. Since each month only appears once and some of them are in different years.\n",
    "\n",
    "We will use the day of the week in our modelling since it's average is taken over many months."
   ]
  },
  {
   "cell_type": "code",
   "execution_count": 24,
   "metadata": {},
   "outputs": [
    {
     "name": "stdout",
     "output_type": "stream",
     "text": [
      "<class 'pandas.core.frame.DataFrame'>\n",
      "Int64Index: 1952 entries, 1 to 64310\n",
      "Data columns (total 12 columns):\n",
      " #   Column            Non-Null Count  Dtype  \n",
      "---  ------            --------------  -----  \n",
      " 0   Province          1952 non-null   object \n",
      " 1   Container         1952 non-null   object \n",
      " 2   Size_Grade        1952 non-null   object \n",
      " 3   Weight_Kg         1952 non-null   float64\n",
      " 4   Low_Price         1952 non-null   float64\n",
      " 5   High_Price        1952 non-null   float64\n",
      " 6   Sales_Total       1952 non-null   float64\n",
      " 7   Total_Qty_Sold    1952 non-null   int64  \n",
      " 8   Total_Kg_Sold     1952 non-null   float64\n",
      " 9   Stock_On_Hand     1952 non-null   int64  \n",
      " 10  avg_price_per_kg  1952 non-null   float64\n",
      " 11  Day               1952 non-null   int64  \n",
      "dtypes: float64(6), int64(3), object(3)\n",
      "memory usage: 278.2+ KB\n"
     ]
    }
   ],
   "source": [
    "train['Day']=training_day['Day']\n",
    "train=train.drop('Date',axis=1)\n",
    "\n",
    "test['Day']=[x.weekday() for x in test['Date']]\n",
    "test=test.drop('Date',axis=1)\n",
    "\n",
    "train_dummies=train.copy()\n",
    "test_dummies=test.copy()\n",
    "train_dummies.info()"
   ]
  },
  {
   "cell_type": "markdown",
   "metadata": {},
   "source": [
    "#### 3.2.2 Categorical data  and avg_price_per_kg"
   ]
  },
  {
   "cell_type": "code",
   "execution_count": 25,
   "metadata": {},
   "outputs": [
    {
     "data": {
      "image/png": "[encoded data removed]",
      "text/plain": [
       "<Figure size 432x288 with 1 Axes>"
      ]
     },
     "metadata": {
      "needs_background": "light"
     },
     "output_type": "display_data"
    }
   ],
   "source": [
    "#Plotting the mean avg_price_per_kg against the Date\n",
    "avg_container=train_dummies.groupby('Container')['avg_price_per_kg'].mean()\n",
    "sns.barplot(x=avg_container.index,y=avg_container)\n",
    "plt.tick_params(labelrotation=45)"
   ]
  },
  {
   "cell_type": "code",
   "execution_count": 26,
   "metadata": {},
   "outputs": [],
   "source": [
    "for x in avg_container.index:\n",
    "    if x in ['AC030','DT063','IA400']:\n",
    "        train_dummies=train_dummies.replace(x,'Lowest_mean_cont')\n",
    "        test_dummies=test_dummies.replace(x,'Lowest_mean_cont')\n",
    "    if x in ['JE090','JG110']:\n",
    "        train_dummies=train_dummies.replace(x,'medium_mean_cont')\n",
    "        test_dummies=test_dummies.replace(x,'medium_mean_cont')\n",
    "    if x in ['M6125','M9125']:\n",
    "        train_dummies=train_dummies.replace(x,'high_mean_cont')\n",
    "        test_dummies=test_dummies.replace(x,'high_mean_cont')\n",
    "    if x in ['EC120','EF120','EG140','M4183']:\n",
    "        train_dummies=train_dummies.replace(x,'Highest_mean_cont')\n",
    "        test_dummies=test_dummies.replace(x,'Highest_mean_cont')"
   ]
  },
  {
   "cell_type": "code",
   "execution_count": 27,
   "metadata": {},
   "outputs": [
    {
     "data": {
      "image/png": "[encoded data removed]",
      "text/plain": [
       "<Figure size 432x288 with 1 Axes>"
      ]
     },
     "metadata": {
      "needs_background": "light"
     },
     "output_type": "display_data"
    }
   ],
   "source": [
    "avg_prov=train_dummies.groupby('Province')['avg_price_per_kg'].mean()\n",
    "sns.barplot(x=avg_prov.index,y=avg_prov)\n",
    "plt.tick_params(labelrotation=45)"
   ]
  },
  {
   "cell_type": "code",
   "execution_count": 28,
   "metadata": {},
   "outputs": [],
   "source": [
    "for x in avg_prov.index:\n",
    "    if x in ['Natal']:\n",
    "        train_dummies=train_dummies.replace(x,'Lowest_Mean_Prov')\n",
    "        test_dummies=test_dummies.replace(x,'Lowest_Mean_Prov')\n",
    "    if x in ['Eastern Cape','Orange free State','West Coast']:\n",
    "        train_dummies=train_dummies.replace(x,'Medium_Mean_Prov')\n",
    "        test_dummies=test_dummies.replace(x,'Medium_Mean_Prov')\n",
    "    if x in ['Cape','W.CAPE-BERGRIVER ETC']:\n",
    "        train_dummies=train_dummies.replace(x,'High_Mean_Prov')\n",
    "        test_dummies=test_dummies.replace(x,'High_Mean_Prov')"
   ]
  },
  {
   "cell_type": "code",
   "execution_count": 29,
   "metadata": {},
   "outputs": [
    {
     "data": {
      "image/png": "[encoded data removed]",
      "text/plain": [
       "<Figure size 432x288 with 1 Axes>"
      ]
     },
     "metadata": {
      "needs_background": "light"
     },
     "output_type": "display_data"
    }
   ],
   "source": [
    "avg_sgr=train_dummies.groupby('Size_Grade')['avg_price_per_kg'].mean()\n",
    "sns.barplot(x=avg_sgr.index,y=avg_sgr)\n",
    "plt.tick_params(labelrotation=45)"
   ]
  },
  {
   "cell_type": "code",
   "execution_count": 30,
   "metadata": {},
   "outputs": [],
   "source": [
    "#Grouping by letter grade\n",
    "for x in avg_prov.index:\n",
    "    if 'L' in x:\n",
    "        train_dummies=train_dummies.replace(x,'L')\n",
    "        test_dummies=test_dummies.replace(x,'L')\n",
    "    if 'M' in x:\n",
    "        train_dummies=train_dummies.replace(x,'M')\n",
    "        test_dummies=test_dummies.replace(x,'M')\n",
    "    if 'S' in x:\n",
    "        train_dummies=train_dummies.replace(x,'S')\n",
    "        test_dummies=test_dummies.replace(x,'S')\n",
    "    if 'U' in x:\n",
    "        train_dummies=train_dummies.replace(x,'U')\n",
    "        test_dummies=test_dummies.replace(x,'U')\n",
    "    if 'X' in x:\n",
    "        train_dummies=train_dummies.replace(x,'X')\n",
    "        test_dummies=test_dummies.replace(x,'X')"
   ]
  },
  {
   "cell_type": "markdown",
   "metadata": {},
   "source": [
    "As we can see, the mean of the avg_price_per_kg has some variance depending on the goup it belongs to for each of the categoical columns, the affect is not extremely drastic in most cases. Here we have group each value in the categorical columns with values that have similar affect on the mean. Now we will convert those column to numerical values using dummy variables."
   ]
  },
  {
   "cell_type": "code",
   "execution_count": 31,
   "metadata": {},
   "outputs": [],
   "source": [
    "train_dummies = pd.get_dummies(train_dummies,drop_first=True)\n",
    "train_dummies.columns = [col.replace(\" \",\"_\") for col in train_dummies.columns]\n",
    "train_dummies.columns = [col.replace(\".\",\"_\") for col in train_dummies.columns]\n",
    "train_dummies.columns = [col.replace(\"-\",\"_\") for col in train_dummies.columns]\n",
    "test_dummies = pd.get_dummies(test_dummies,drop_first=True)\n",
    "test_dummies.columns = [col.replace(\" \",\"_\") for col in test_dummies.columns]\n",
    "test_dummies.columns = [col.replace(\".\",\"_\") for col in test_dummies.columns]\n",
    "test_dummies.columns = [col.replace(\"-\",\"_\") for col in test_dummies.columns]"
   ]
  },
  {
   "cell_type": "code",
   "execution_count": 32,
   "metadata": {},
   "outputs": [
    {
     "name": "stdout",
     "output_type": "stream",
     "text": [
      "<class 'pandas.core.frame.DataFrame'>\n",
      "Int64Index: 1952 entries, 1 to 64310\n",
      "Data columns (total 24 columns):\n",
      " #   Column                      Non-Null Count  Dtype  \n",
      "---  ------                      --------------  -----  \n",
      " 0   Weight_Kg                   1952 non-null   float64\n",
      " 1   Low_Price                   1952 non-null   float64\n",
      " 2   High_Price                  1952 non-null   float64\n",
      " 3   Sales_Total                 1952 non-null   float64\n",
      " 4   Total_Qty_Sold              1952 non-null   int64  \n",
      " 5   Total_Kg_Sold               1952 non-null   float64\n",
      " 6   Stock_On_Hand               1952 non-null   int64  \n",
      " 7   avg_price_per_kg            1952 non-null   float64\n",
      " 8   Day                         1952 non-null   int64  \n",
      " 9   Province_High_Mean_Prov     1952 non-null   uint8  \n",
      " 10  Province_L                  1952 non-null   uint8  \n",
      " 11  Province_S                  1952 non-null   uint8  \n",
      " 12  Container_Lowest_mean_cont  1952 non-null   uint8  \n",
      " 13  Container_high_mean_cont    1952 non-null   uint8  \n",
      " 14  Container_medium_mean_cont  1952 non-null   uint8  \n",
      " 15  Size_Grade_1M               1952 non-null   uint8  \n",
      " 16  Size_Grade_1S               1952 non-null   uint8  \n",
      " 17  Size_Grade_1U               1952 non-null   uint8  \n",
      " 18  Size_Grade_1X               1952 non-null   uint8  \n",
      " 19  Size_Grade_2L               1952 non-null   uint8  \n",
      " 20  Size_Grade_2M               1952 non-null   uint8  \n",
      " 21  Size_Grade_2S               1952 non-null   uint8  \n",
      " 22  Size_Grade_2U               1952 non-null   uint8  \n",
      " 23  Size_Grade_2X               1952 non-null   uint8  \n",
      "dtypes: float64(6), int64(3), uint8(15)\n",
      "memory usage: 261.1 KB\n"
     ]
    }
   ],
   "source": [
    "train_dummies.info()"
   ]
  },
  {
   "cell_type": "markdown",
   "metadata": {},
   "source": [
    "All of our data are now numeric."
   ]
  },
  {
   "cell_type": "markdown",
   "metadata": {},
   "source": [
    "#### 3.2.3: Numerical values and avg_price_per_kg"
   ]
  },
  {
   "cell_type": "code",
   "execution_count": 33,
   "metadata": {},
   "outputs": [
    {
     "data": {
      "text/html": [
       "<div>\n",
       "<style scoped>\n",
       "    .dataframe tbody tr th:only-of-type {\n",
       "        vertical-align: middle;\n",
       "    }\n",
       "\n",
       "    .dataframe tbody tr th {\n",
       "        vertical-align: top;\n",
       "    }\n",
       "\n",
       "    .dataframe thead th {\n",
       "        text-align: right;\n",
       "    }\n",
       "</style>\n",
       "<table border=\"1\" class=\"dataframe\">\n",
       "  <thead>\n",
       "    <tr style=\"text-align: right;\">\n",
       "      <th></th>\n",
       "      <th>Weight_Kg</th>\n",
       "      <th>Low_Price</th>\n",
       "      <th>High_Price</th>\n",
       "      <th>Sales_Total</th>\n",
       "      <th>Total_Qty_Sold</th>\n",
       "      <th>Total_Kg_Sold</th>\n",
       "      <th>Stock_On_Hand</th>\n",
       "      <th>avg_price_per_kg</th>\n",
       "      <th>Day</th>\n",
       "    </tr>\n",
       "  </thead>\n",
       "  <tbody>\n",
       "    <tr>\n",
       "      <th>Weight_Kg</th>\n",
       "      <td>1.000000</td>\n",
       "      <td>0.863182</td>\n",
       "      <td>0.905852</td>\n",
       "      <td>0.180518</td>\n",
       "      <td>-0.133317</td>\n",
       "      <td>0.294117</td>\n",
       "      <td>-0.144105</td>\n",
       "      <td>-0.337886</td>\n",
       "      <td>-0.050023</td>\n",
       "    </tr>\n",
       "    <tr>\n",
       "      <th>Low_Price</th>\n",
       "      <td>0.863182</td>\n",
       "      <td>1.000000</td>\n",
       "      <td>0.938140</td>\n",
       "      <td>0.183230</td>\n",
       "      <td>-0.122823</td>\n",
       "      <td>0.269744</td>\n",
       "      <td>-0.127677</td>\n",
       "      <td>-0.141740</td>\n",
       "      <td>-0.035710</td>\n",
       "    </tr>\n",
       "    <tr>\n",
       "      <th>High_Price</th>\n",
       "      <td>0.905852</td>\n",
       "      <td>0.938140</td>\n",
       "      <td>1.000000</td>\n",
       "      <td>0.265672</td>\n",
       "      <td>-0.096456</td>\n",
       "      <td>0.372282</td>\n",
       "      <td>-0.094174</td>\n",
       "      <td>-0.164496</td>\n",
       "      <td>-0.040340</td>\n",
       "    </tr>\n",
       "    <tr>\n",
       "      <th>Sales_Total</th>\n",
       "      <td>0.180518</td>\n",
       "      <td>0.183230</td>\n",
       "      <td>0.265672</td>\n",
       "      <td>1.000000</td>\n",
       "      <td>0.771865</td>\n",
       "      <td>0.962338</td>\n",
       "      <td>0.284693</td>\n",
       "      <td>0.108473</td>\n",
       "      <td>-0.026877</td>\n",
       "    </tr>\n",
       "    <tr>\n",
       "      <th>Total_Qty_Sold</th>\n",
       "      <td>-0.133317</td>\n",
       "      <td>-0.122823</td>\n",
       "      <td>-0.096456</td>\n",
       "      <td>0.771865</td>\n",
       "      <td>1.000000</td>\n",
       "      <td>0.651440</td>\n",
       "      <td>0.390168</td>\n",
       "      <td>0.087536</td>\n",
       "      <td>-0.016428</td>\n",
       "    </tr>\n",
       "    <tr>\n",
       "      <th>Total_Kg_Sold</th>\n",
       "      <td>0.294117</td>\n",
       "      <td>0.269744</td>\n",
       "      <td>0.372282</td>\n",
       "      <td>0.962338</td>\n",
       "      <td>0.651440</td>\n",
       "      <td>1.000000</td>\n",
       "      <td>0.229062</td>\n",
       "      <td>-0.001007</td>\n",
       "      <td>-0.041020</td>\n",
       "    </tr>\n",
       "    <tr>\n",
       "      <th>Stock_On_Hand</th>\n",
       "      <td>-0.144105</td>\n",
       "      <td>-0.127677</td>\n",
       "      <td>-0.094174</td>\n",
       "      <td>0.284693</td>\n",
       "      <td>0.390168</td>\n",
       "      <td>0.229062</td>\n",
       "      <td>1.000000</td>\n",
       "      <td>0.105028</td>\n",
       "      <td>-0.040417</td>\n",
       "    </tr>\n",
       "    <tr>\n",
       "      <th>avg_price_per_kg</th>\n",
       "      <td>-0.337886</td>\n",
       "      <td>-0.141740</td>\n",
       "      <td>-0.164496</td>\n",
       "      <td>0.108473</td>\n",
       "      <td>0.087536</td>\n",
       "      <td>-0.001007</td>\n",
       "      <td>0.105028</td>\n",
       "      <td>1.000000</td>\n",
       "      <td>0.065115</td>\n",
       "    </tr>\n",
       "    <tr>\n",
       "      <th>Day</th>\n",
       "      <td>-0.050023</td>\n",
       "      <td>-0.035710</td>\n",
       "      <td>-0.040340</td>\n",
       "      <td>-0.026877</td>\n",
       "      <td>-0.016428</td>\n",
       "      <td>-0.041020</td>\n",
       "      <td>-0.040417</td>\n",
       "      <td>0.065115</td>\n",
       "      <td>1.000000</td>\n",
       "    </tr>\n",
       "  </tbody>\n",
       "</table>\n",
       "</div>"
      ],
      "text/plain": [
       "                  Weight_Kg  Low_Price  High_Price  Sales_Total  \\\n",
       "Weight_Kg          1.000000   0.863182    0.905852     0.180518   \n",
       "Low_Price          0.863182   1.000000    0.938140     0.183230   \n",
       "High_Price         0.905852   0.938140    1.000000     0.265672   \n",
       "Sales_Total        0.180518   0.183230    0.265672     1.000000   \n",
       "Total_Qty_Sold    -0.133317  -0.122823   -0.096456     0.771865   \n",
       "Total_Kg_Sold      0.294117   0.269744    0.372282     0.962338   \n",
       "Stock_On_Hand     -0.144105  -0.127677   -0.094174     0.284693   \n",
       "avg_price_per_kg  -0.337886  -0.141740   -0.164496     0.108473   \n",
       "Day               -0.050023  -0.035710   -0.040340    -0.026877   \n",
       "\n",
       "                  Total_Qty_Sold  Total_Kg_Sold  Stock_On_Hand  \\\n",
       "Weight_Kg              -0.133317       0.294117      -0.144105   \n",
       "Low_Price              -0.122823       0.269744      -0.127677   \n",
       "High_Price             -0.096456       0.372282      -0.094174   \n",
       "Sales_Total             0.771865       0.962338       0.284693   \n",
       "Total_Qty_Sold          1.000000       0.651440       0.390168   \n",
       "Total_Kg_Sold           0.651440       1.000000       0.229062   \n",
       "Stock_On_Hand           0.390168       0.229062       1.000000   \n",
       "avg_price_per_kg        0.087536      -0.001007       0.105028   \n",
       "Day                    -0.016428      -0.041020      -0.040417   \n",
       "\n",
       "                  avg_price_per_kg       Day  \n",
       "Weight_Kg                -0.337886 -0.050023  \n",
       "Low_Price                -0.141740 -0.035710  \n",
       "High_Price               -0.164496 -0.040340  \n",
       "Sales_Total               0.108473 -0.026877  \n",
       "Total_Qty_Sold            0.087536 -0.016428  \n",
       "Total_Kg_Sold            -0.001007 -0.041020  \n",
       "Stock_On_Hand             0.105028 -0.040417  \n",
       "avg_price_per_kg          1.000000  0.065115  \n",
       "Day                       0.065115  1.000000  "
      ]
     },
     "execution_count": 33,
     "metadata": {},
     "output_type": "execute_result"
    }
   ],
   "source": [
    "train.corr()"
   ]
  },
  {
   "cell_type": "markdown",
   "metadata": {},
   "source": [
    "To perfrom linear regression we make the assumption that there is an underlying linear formula to the data we are modelling. So to optimize our model we select features so that they have a correlation with our data.\n",
    "\n",
    "In the following section we will take alot look at the importance of each variable one the response by looking at it's correlation with the response variable as well as it's p-value.\n",
    "\n",
    "We will also make sure we try and avoid multicollinearity."
   ]
  },
  {
   "cell_type": "code",
   "execution_count": 34,
   "metadata": {},
   "outputs": [
    {
     "data": {
      "text/html": [
       "<div>\n",
       "<style scoped>\n",
       "    .dataframe tbody tr th:only-of-type {\n",
       "        vertical-align: middle;\n",
       "    }\n",
       "\n",
       "    .dataframe tbody tr th {\n",
       "        vertical-align: top;\n",
       "    }\n",
       "\n",
       "    .dataframe thead th {\n",
       "        text-align: right;\n",
       "    }\n",
       "</style>\n",
       "<table border=\"1\" class=\"dataframe\">\n",
       "  <thead>\n",
       "    <tr style=\"text-align: right;\">\n",
       "      <th></th>\n",
       "      <th>Correlation_Coefficient</th>\n",
       "      <th>P_Value</th>\n",
       "    </tr>\n",
       "  </thead>\n",
       "  <tbody>\n",
       "    <tr>\n",
       "      <th>Province_High_Mean_Prov</th>\n",
       "      <td>0.262051</td>\n",
       "      <td>0.000000</td>\n",
       "    </tr>\n",
       "    <tr>\n",
       "      <th>Province_L</th>\n",
       "      <td>-0.365193</td>\n",
       "      <td>0.000000</td>\n",
       "    </tr>\n",
       "    <tr>\n",
       "      <th>Size_Grade_2S</th>\n",
       "      <td>-0.352996</td>\n",
       "      <td>0.000000</td>\n",
       "    </tr>\n",
       "    <tr>\n",
       "      <th>Weight_Kg</th>\n",
       "      <td>-0.337886</td>\n",
       "      <td>0.000000</td>\n",
       "    </tr>\n",
       "    <tr>\n",
       "      <th>Province_S</th>\n",
       "      <td>-0.165182</td>\n",
       "      <td>0.000000</td>\n",
       "    </tr>\n",
       "    <tr>\n",
       "      <th>High_Price</th>\n",
       "      <td>-0.164496</td>\n",
       "      <td>0.000000</td>\n",
       "    </tr>\n",
       "    <tr>\n",
       "      <th>Size_Grade_2M</th>\n",
       "      <td>-0.153372</td>\n",
       "      <td>0.000000</td>\n",
       "    </tr>\n",
       "    <tr>\n",
       "      <th>Low_Price</th>\n",
       "      <td>-0.141740</td>\n",
       "      <td>0.000000</td>\n",
       "    </tr>\n",
       "    <tr>\n",
       "      <th>Container_medium_mean_cont</th>\n",
       "      <td>-0.370769</td>\n",
       "      <td>0.000000</td>\n",
       "    </tr>\n",
       "    <tr>\n",
       "      <th>Container_Lowest_mean_cont</th>\n",
       "      <td>-0.393817</td>\n",
       "      <td>0.000000</td>\n",
       "    </tr>\n",
       "    <tr>\n",
       "      <th>Size_Grade_1M</th>\n",
       "      <td>0.175779</td>\n",
       "      <td>0.000000</td>\n",
       "    </tr>\n",
       "    <tr>\n",
       "      <th>Size_Grade_1X</th>\n",
       "      <td>0.251451</td>\n",
       "      <td>0.000000</td>\n",
       "    </tr>\n",
       "    <tr>\n",
       "      <th>Sales_Total</th>\n",
       "      <td>0.108473</td>\n",
       "      <td>0.000002</td>\n",
       "    </tr>\n",
       "    <tr>\n",
       "      <th>Stock_On_Hand</th>\n",
       "      <td>0.105028</td>\n",
       "      <td>0.000003</td>\n",
       "    </tr>\n",
       "    <tr>\n",
       "      <th>Size_Grade_2L</th>\n",
       "      <td>-0.089733</td>\n",
       "      <td>0.000072</td>\n",
       "    </tr>\n",
       "    <tr>\n",
       "      <th>Total_Qty_Sold</th>\n",
       "      <td>0.087536</td>\n",
       "      <td>0.000108</td>\n",
       "    </tr>\n",
       "    <tr>\n",
       "      <th>Size_Grade_2U</th>\n",
       "      <td>-0.069457</td>\n",
       "      <td>0.002137</td>\n",
       "    </tr>\n",
       "    <tr>\n",
       "      <th>Day</th>\n",
       "      <td>0.065115</td>\n",
       "      <td>0.004001</td>\n",
       "    </tr>\n",
       "    <tr>\n",
       "      <th>Size_Grade_2X</th>\n",
       "      <td>-0.051624</td>\n",
       "      <td>0.022556</td>\n",
       "    </tr>\n",
       "  </tbody>\n",
       "</table>\n",
       "</div>"
      ],
      "text/plain": [
       "                            Correlation_Coefficient   P_Value\n",
       "Province_High_Mean_Prov                    0.262051  0.000000\n",
       "Province_L                                -0.365193  0.000000\n",
       "Size_Grade_2S                             -0.352996  0.000000\n",
       "Weight_Kg                                 -0.337886  0.000000\n",
       "Province_S                                -0.165182  0.000000\n",
       "High_Price                                -0.164496  0.000000\n",
       "Size_Grade_2M                             -0.153372  0.000000\n",
       "Low_Price                                 -0.141740  0.000000\n",
       "Container_medium_mean_cont                -0.370769  0.000000\n",
       "Container_Lowest_mean_cont                -0.393817  0.000000\n",
       "Size_Grade_1M                              0.175779  0.000000\n",
       "Size_Grade_1X                              0.251451  0.000000\n",
       "Sales_Total                                0.108473  0.000002\n",
       "Stock_On_Hand                              0.105028  0.000003\n",
       "Size_Grade_2L                             -0.089733  0.000072\n",
       "Total_Qty_Sold                             0.087536  0.000108\n",
       "Size_Grade_2U                             -0.069457  0.002137\n",
       "Day                                        0.065115  0.004001\n",
       "Size_Grade_2X                             -0.051624  0.022556"
      ]
     },
     "execution_count": 34,
     "metadata": {},
     "output_type": "execute_result"
    }
   ],
   "source": [
    "#Corellation and P-Values against avg_price_per_kg\n",
    "corrs = train_dummies.corr()['avg_price_per_kg'].sort_values(ascending=False)\n",
    "# Build a dictionary of correlation coefficients and p-values\n",
    "dict_cp = {}\n",
    "\n",
    "column_titles = [col for col in corrs.index if col!= 'avg_price_per_kg']\n",
    "for col in column_titles:\n",
    "    p_val = round(pearsonr(train_dummies[col], train_dummies['avg_price_per_kg'])[1],6)\n",
    "    dict_cp[col] = {'Correlation_Coefficient':corrs[col],\n",
    "                    'P_Value':p_val}\n",
    "#choosing columns with p values<0.1    \n",
    "train_cp = pd.DataFrame(dict_cp).T\n",
    "train_cp_sorted = train_cp.sort_values('P_Value')\n",
    "train_cp_sorted[train_cp_sorted['P_Value']<0.1]"
   ]
  },
  {
   "cell_type": "code",
   "execution_count": 35,
   "metadata": {},
   "outputs": [],
   "source": [
    "y_data = train_dummies['avg_price_per_kg']  \n",
    " \n",
    "#Choosing features based on P-Values\n",
    "X_names = list(train_cp[train_cp['P_Value'] < 0.1].index)\n",
    "X_data = train_dummies[X_names]\n",
    "\n",
    "X_data_test=test_dummies[X_names]"
   ]
  },
  {
   "cell_type": "markdown",
   "metadata": {},
   "source": [
    "To deal with collinearity we plot a matrix of the columns that are highly correlated"
   ]
  },
  {
   "cell_type": "code",
   "execution_count": 36,
   "metadata": {},
   "outputs": [
    {
     "data": {
      "text/html": [
       "<div>\n",
       "<style scoped>\n",
       "    .dataframe tbody tr th:only-of-type {\n",
       "        vertical-align: middle;\n",
       "    }\n",
       "\n",
       "    .dataframe tbody tr th {\n",
       "        vertical-align: top;\n",
       "    }\n",
       "\n",
       "    .dataframe thead th {\n",
       "        text-align: right;\n",
       "    }\n",
       "</style>\n",
       "<table border=\"1\" class=\"dataframe\">\n",
       "  <thead>\n",
       "    <tr style=\"text-align: right;\">\n",
       "      <th></th>\n",
       "      <th>High_Price</th>\n",
       "      <th>Low_Price</th>\n",
       "      <th>Weight_Kg</th>\n",
       "      <th>High_Price</th>\n",
       "    </tr>\n",
       "  </thead>\n",
       "  <tbody>\n",
       "    <tr>\n",
       "      <th>Low_Price</th>\n",
       "      <td>0.938140</td>\n",
       "      <td>1.000000</td>\n",
       "      <td>0.863182</td>\n",
       "      <td>0.938140</td>\n",
       "    </tr>\n",
       "    <tr>\n",
       "      <th>High_Price</th>\n",
       "      <td>1.000000</td>\n",
       "      <td>0.938140</td>\n",
       "      <td>0.905852</td>\n",
       "      <td>1.000000</td>\n",
       "    </tr>\n",
       "    <tr>\n",
       "      <th>High_Price</th>\n",
       "      <td>1.000000</td>\n",
       "      <td>0.938140</td>\n",
       "      <td>0.905852</td>\n",
       "      <td>1.000000</td>\n",
       "    </tr>\n",
       "    <tr>\n",
       "      <th>Weight_Kg</th>\n",
       "      <td>0.905852</td>\n",
       "      <td>0.863182</td>\n",
       "      <td>1.000000</td>\n",
       "      <td>0.905852</td>\n",
       "    </tr>\n",
       "  </tbody>\n",
       "</table>\n",
       "</div>"
      ],
      "text/plain": [
       "            High_Price  Low_Price  Weight_Kg  High_Price\n",
       "Low_Price     0.938140   1.000000   0.863182    0.938140\n",
       "High_Price    1.000000   0.938140   0.905852    1.000000\n",
       "High_Price    1.000000   0.938140   0.905852    1.000000\n",
       "Weight_Kg     0.905852   0.863182   1.000000    0.905852"
      ]
     },
     "execution_count": 36,
     "metadata": {},
     "output_type": "execute_result"
    }
   ],
   "source": [
    "# correlation matrix and find rows and columns where correlation coefficients > 0.9 or <-0.9\n",
    "corr = X_data.corr()\n",
    "r, c = np.where(np.abs(corr) >0.9)\n",
    "\n",
    "# We are only interested in the off diagonal entries:\n",
    "off_diagonal = np.where(r != c)\n",
    "\n",
    "# Show the correlation matrix rows and columns where we have highly correlated off diagonal entries:\n",
    "corr.iloc[r[off_diagonal], c[off_diagonal]]"
   ]
  },
  {
   "cell_type": "markdown",
   "metadata": {},
   "source": [
    "Here we drop High_Price since it has a high correlation with the Weight_Kg and the Low_Price columns"
   ]
  },
  {
   "cell_type": "code",
   "execution_count": 37,
   "metadata": {},
   "outputs": [
    {
     "data": {
      "image/png": "[encoded data removed]",
      "text/plain": [
       "<Figure size 1080x1080 with 1 Axes>"
      ]
     },
     "metadata": {
      "needs_background": "light"
     },
     "output_type": "display_data"
    }
   ],
   "source": [
    "#correlation matrics\n",
    "fig = plt.figure(figsize=(15,15));\n",
    "ax = fig.add_subplot(111);\n",
    "X_data=train_dummies.drop('High_Price',axis=1)\n",
    "X_data_test=test_dummies.drop('High_Price',axis=1)\n",
    "plot_corr(X_data.corr(), xnames = X_data.corr().columns, ax = ax);"
   ]
  },
  {
   "cell_type": "markdown",
   "metadata": {},
   "source": [
    "It seems like most of the colinearity has been taken care of."
   ]
  },
  {
   "cell_type": "markdown",
   "metadata": {},
   "source": [
    "# Phase 4: Model Building"
   ]
  },
  {
   "cell_type": "markdown",
   "metadata": {},
   "source": [
    "## 4.1: Feature Selection"
   ]
  },
  {
   "cell_type": "markdown",
   "metadata": {},
   "source": [
    "We seperate our model building (test and training) sets for linear and non-linear modelling "
   ]
  },
  {
   "cell_type": "code",
   "execution_count": 38,
   "metadata": {},
   "outputs": [],
   "source": [
    "#Setting the training and testing data for linear models\n",
    "\n",
    "X_lin=train_dummies[X_data.drop('avg_price_per_kg',axis=1).columns]\n",
    "y_lin=train_dummies['avg_price_per_kg']\n",
    "\n",
    "test_lin=test_dummies[X_data_test.columns]\n",
    "X_lin.head()\n",
    "# standardize features\n",
    "scaler = StandardScaler()\n",
    "X_scaled = scaler.fit_transform(X_lin)\n",
    "test_scaled = scaler.fit_transform(test_lin)\n",
    "# Train test split\n",
    "x_train_ln, x_test_ln, y_train_ln,y_test_ln = train_test_split(X_scaled,y_lin,test_size=0.2,random_state=6)"
   ]
  },
  {
   "cell_type": "markdown",
   "metadata": {},
   "source": [
    "On the other hand we achieve our best model scores on the non-linear models when we use only the numeric columns while including the day of the week."
   ]
  },
  {
   "cell_type": "code",
   "execution_count": 39,
   "metadata": {},
   "outputs": [
    {
     "name": "stdout",
     "output_type": "stream",
     "text": [
      "<class 'pandas.core.frame.DataFrame'>\n",
      "Int64Index: 1952 entries, 1 to 64310\n",
      "Data columns (total 12 columns):\n",
      " #   Column            Non-Null Count  Dtype  \n",
      "---  ------            --------------  -----  \n",
      " 0   Province          1952 non-null   object \n",
      " 1   Container         1952 non-null   object \n",
      " 2   Size_Grade        1952 non-null   object \n",
      " 3   Weight_Kg         1952 non-null   float64\n",
      " 4   Low_Price         1952 non-null   float64\n",
      " 5   High_Price        1952 non-null   float64\n",
      " 6   Sales_Total       1952 non-null   float64\n",
      " 7   Total_Qty_Sold    1952 non-null   int64  \n",
      " 8   Total_Kg_Sold     1952 non-null   float64\n",
      " 9   Stock_On_Hand     1952 non-null   int64  \n",
      " 10  avg_price_per_kg  1952 non-null   float64\n",
      " 11  Day               1952 non-null   int64  \n",
      "dtypes: float64(6), int64(3), object(3)\n",
      "memory usage: 278.2+ KB\n"
     ]
    }
   ],
   "source": [
    "train.info()"
   ]
  },
  {
   "cell_type": "code",
   "execution_count": 40,
   "metadata": {},
   "outputs": [],
   "source": [
    "#Setting the training and testing data for non-linear models\n",
    "for x in test:\n",
    "    if np.issubdtype(test[x].dtype, np.number)==False:\n",
    "        test=test.drop(x,axis=1)\n",
    "for y in train:\n",
    "    if np.issubdtype(train[y].dtype, np.number)==False:\n",
    "        train=train.drop(y,axis=1)\n",
    "X=train.drop('avg_price_per_kg',axis=1)\n",
    "y=train['avg_price_per_kg']\n",
    "\n",
    "x_train, x_test, y_train,y_test = train_test_split(X,y,test_size=0.2,random_state=6)"
   ]
  },
  {
   "cell_type": "markdown",
   "metadata": {},
   "source": [
    "## 4.2: Modelling Analysis"
   ]
  },
  {
   "cell_type": "markdown",
   "metadata": {},
   "source": [
    "## 4.2.1: Random Forest Model"
   ]
  },
  {
   "attachments": {
    "image.png": {
     "image/png": "[encoded data removed]"
    }
   },
   "cell_type": "markdown",
   "metadata": {},
   "source": [
    "The Random Forest Model utilise multiple randomly created decision trees by combining their output to generate a prediction\n",
    "![image.png](attachment:image.png)"
   ]
  },
  {
   "cell_type": "markdown",
   "metadata": {},
   "source": [
    "The  combination of learning models will increase the accuracy of the result. The random forest algorithm allows easy  measurement of the relative importance of the features used on the prediction. "
   ]
  },
  {
   "cell_type": "markdown",
   "metadata": {},
   "source": [
    "Utilising the Random Forest Model:"
   ]
  },
  {
   "cell_type": "markdown",
   "metadata": {},
   "source": [
    "### 1.Training "
   ]
  },
  {
   "cell_type": "markdown",
   "metadata": {},
   "source": [
    "Fitting the model to our data and applying hyperparamers"
   ]
  },
  {
   "cell_type": "code",
   "execution_count": 41,
   "metadata": {},
   "outputs": [
    {
     "data": {
      "text/plain": [
       "RandomForestRegressor(max_depth=5, n_estimators=200)"
      ]
     },
     "execution_count": 41,
     "metadata": {},
     "output_type": "execute_result"
    }
   ],
   "source": [
    "# Our forest consists of 100 trees with a max depth of 5\n",
    "RF = RandomForestRegressor(n_estimators=200, max_depth=5)\n",
    "RF.fit(x_train,y_train)"
   ]
  },
  {
   "cell_type": "markdown",
   "metadata": {},
   "source": [
    "### 2.Testing "
   ]
  },
  {
   "cell_type": "markdown",
   "metadata": {},
   "source": [
    "To understand the performance of this model, we will get the mean square error and R^2"
   ]
  },
  {
   "cell_type": "code",
   "execution_count": 42,
   "metadata": {},
   "outputs": [
    {
     "name": "stdout",
     "output_type": "stream",
     "text": [
      "RMSE: 0.7361766642987806\n",
      "R^2 0.8843134871185889\n"
     ]
    }
   ],
   "source": [
    "# Get predictions\n",
    "y_pred = RF.predict(x_test)\n",
    "\n",
    "# Compute RMSE\n",
    "print(\"RMSE:\",metrics.mean_squared_error(y_test,y_pred,squared=False))\n",
    "print(\"R^2\",metrics.r2_score(y_test, y_pred))"
   ]
  },
  {
   "cell_type": "markdown",
   "metadata": {},
   "source": [
    "Then we will evaluate it against the expected output"
   ]
  },
  {
   "cell_type": "code",
   "execution_count": 43,
   "metadata": {},
   "outputs": [
    {
     "data": {
      "image/png": "[encoded data removed]",
      "text/plain": [
       "<Figure size 360x360 with 1 Axes>"
      ]
     },
     "metadata": {
      "needs_background": "light"
     },
     "output_type": "display_data"
    }
   ],
   "source": [
    "# Create figure and axes\n",
    "f, ax = plt.subplots(figsize=(5,5))\n",
    "\n",
    "# Plot on axes\n",
    "ax.set_title('Actual vs Predicted')\n",
    "ax.set_xlabel('Actual')\n",
    "ax.set_ylabel('Predicted')\n",
    "ax.scatter(y_test,y_pred)\n",
    "ax.plot(y_test,y_test,'r')\n",
    "plt.show()"
   ]
  },
  {
   "cell_type": "markdown",
   "metadata": {},
   "source": [
    "### 3. Adjusting Hyperparameters "
   ]
  },
  {
   "cell_type": "markdown",
   "metadata": {},
   "source": [
    "The standard hyperpameter values will not give the best model performance. For that reason, adjustments to the model hyperparameters must take place to get the best performing model."
   ]
  },
  {
   "cell_type": "markdown",
   "metadata": {},
   "source": [
    "Creating different hyperparameters of the \"n_estimators\" to compare the results:"
   ]
  },
  {
   "cell_type": "code",
   "execution_count": 44,
   "metadata": {},
   "outputs": [],
   "source": [
    "# 2 trees in forest\n",
    "forest_1 = RandomForestRegressor(n_estimators=2, max_depth=5, random_state=23)\n",
    "\n",
    "# 20 trees in forest\n",
    "forest_2 = RandomForestRegressor(n_estimators=20, max_depth=5, random_state=23)\n",
    "\n",
    "# 100 trees in forest\n",
    "forest_3 = RandomForestRegressor(n_estimators=100, max_depth=5, random_state=23)"
   ]
  },
  {
   "cell_type": "markdown",
   "metadata": {},
   "source": [
    "Training the model"
   ]
  },
  {
   "cell_type": "code",
   "execution_count": 45,
   "metadata": {},
   "outputs": [
    {
     "data": {
      "text/plain": [
       "RandomForestRegressor(max_depth=5, n_estimators=2, random_state=23)"
      ]
     },
     "execution_count": 45,
     "metadata": {},
     "output_type": "execute_result"
    }
   ],
   "source": [
    "forest_1.fit(x_train, y_train)"
   ]
  },
  {
   "cell_type": "code",
   "execution_count": 46,
   "metadata": {},
   "outputs": [
    {
     "data": {
      "text/plain": [
       "RandomForestRegressor(max_depth=5, n_estimators=20, random_state=23)"
      ]
     },
     "execution_count": 46,
     "metadata": {},
     "output_type": "execute_result"
    }
   ],
   "source": [
    "forest_2.fit(x_train, y_train)"
   ]
  },
  {
   "cell_type": "code",
   "execution_count": 47,
   "metadata": {
    "scrolled": true
   },
   "outputs": [
    {
     "data": {
      "text/plain": [
       "RandomForestRegressor(max_depth=5, random_state=23)"
      ]
     },
     "execution_count": 47,
     "metadata": {},
     "output_type": "execute_result"
    }
   ],
   "source": [
    "forest_3.fit(x_train, y_train)"
   ]
  },
  {
   "cell_type": "markdown",
   "metadata": {},
   "source": [
    "Evaluating the model"
   ]
  },
  {
   "cell_type": "code",
   "execution_count": 48,
   "metadata": {},
   "outputs": [
    {
     "data": {
      "image/png": "[encoded data removed]",
      "text/plain": [
       "<Figure size 1080x360 with 3 Axes>"
      ]
     },
     "metadata": {
      "needs_background": "light"
     },
     "output_type": "display_data"
    }
   ],
   "source": [
    "# Create figure and axes\n",
    "f, ax = plt.subplots(figsize=(15,5), nrows=1, ncols=3,sharey=True)\n",
    "\n",
    "# Create list of titles and predictions to use in for loop\n",
    "pred = [forest_1.predict(x_test), forest_2.predict(x_test), forest_3.predict(x_test)]\n",
    "title = ['trees = 2', 'trees = 20', 'trees = 100']\n",
    "\n",
    "# Loop through all axes to plot each model's results \n",
    "for i in range(3):\n",
    "    rmse = round(np.sqrt(metrics.mean_squared_error(pred[i],y_test)))\n",
    "    ax[i].set_title(title[i]+\"  (RMSE: \"+str(rmse)+ \")\")\n",
    "    ax[i].set_xlabel('Actual')\n",
    "    ax[i].set_ylabel('Predicted')\n",
    "    ax[i].plot(y_test,y_test,'r')\n",
    "    ax[i].scatter(y_test,pred[i])"
   ]
  },
  {
   "cell_type": "markdown",
   "metadata": {},
   "source": [
    "## 4.2.2: Boosting models"
   ]
  },
  {
   "cell_type": "markdown",
   "metadata": {},
   "source": [
    "Boosting is an ensemble method in which many predictors are trained sequentially and each succesive predictor learns from the errors of it's predecessor. \n",
    "In simple terms 'Many weak learners are combined to form a strong learner.\n",
    "\n",
    "The following Boosting methods will make use of CARTS( Classification and Regression Trees) similar to the Random forrest.\n",
    "\n",
    "We will use the following models:\n",
    "        \n",
    "        -AdaBoost (Adaptive Boosting):\n",
    "            After training, each predictor is assigned a coefficient that depends on the training error.\n",
    "            This coefficient adds more weight to the instances wrongly predicted, so that the next predictor \n",
    "            pays more attention to those values.\n",
    "        \n",
    "        -GradientBoost(GB):\n",
    "            Gradient boosting also does sequential correction of predecessor errors. But, unlike AdaBoost, the weight of\n",
    "            training instances are not tweaked. \n",
    "            Instead each predictor is trained using the residual errors of the previous \n",
    "            labels. \n",
    "            GB's exhastive search procedure means that each cart is trained to find the best split points \n",
    "            and features.\n",
    "            \n",
    "        \n",
    "        -Stochastic GradientBoost(SGB):\n",
    "            This method imporves the generalizability GB method by adding further variance to the ensemble diversity. Each \n",
    "            predictor is trained on a random subset of the training data that's been sampled without replacement. \n",
    "            Features are sampled without replacement when choosing split points.\n"
   ]
  },
  {
   "cell_type": "markdown",
   "metadata": {},
   "source": [
    "### 1. Training"
   ]
  },
  {
   "cell_type": "code",
   "execution_count": 49,
   "metadata": {},
   "outputs": [
    {
     "data": {
      "text/plain": [
       "GradientBoostingRegressor(max_depth=5, max_features=0.75, n_estimators=200,\n",
       "                          random_state=1, subsample=0.9)"
      ]
     },
     "execution_count": 49,
     "metadata": {},
     "output_type": "execute_result"
    }
   ],
   "source": [
    "# Decision tree/ Base estimator\n",
    "dt = DecisionTreeRegressor(max_depth=5, random_state=1)\n",
    "\n",
    "# Instantiate Ada\n",
    "ada = AdaBoostRegressor(base_estimator=dt, n_estimators=200, random_state=1)\n",
    "ada.fit(x_train,y_train)\n",
    "# Instantiate GB\n",
    "gb = GradientBoostingRegressor(max_depth=5, \n",
    "            n_estimators=200,\n",
    "            random_state=1)\n",
    "gb.fit(x_train,y_train)\n",
    "\n",
    "# Instantiate SGBR\n",
    "sgb = GradientBoostingRegressor(max_depth=5, \n",
    "            subsample=0.9,\n",
    "            max_features=0.75,\n",
    "            n_estimators=200,                                \n",
    "            random_state=1)\n",
    "sgb.fit(x_train,y_train)"
   ]
  },
  {
   "cell_type": "markdown",
   "metadata": {},
   "source": [
    "### 2. Testing"
   ]
  },
  {
   "cell_type": "code",
   "execution_count": 50,
   "metadata": {},
   "outputs": [
    {
     "data": {
      "text/html": [
       "<div>\n",
       "<style scoped>\n",
       "    .dataframe tbody tr th:only-of-type {\n",
       "        vertical-align: middle;\n",
       "    }\n",
       "\n",
       "    .dataframe tbody tr th {\n",
       "        vertical-align: top;\n",
       "    }\n",
       "\n",
       "    .dataframe thead th {\n",
       "        text-align: right;\n",
       "    }\n",
       "</style>\n",
       "<table border=\"1\" class=\"dataframe\">\n",
       "  <thead>\n",
       "    <tr style=\"text-align: right;\">\n",
       "      <th></th>\n",
       "      <th>Training MSE</th>\n",
       "      <th>Test MSE</th>\n",
       "      <th>Train R^2</th>\n",
       "      <th>Test R^2</th>\n",
       "    </tr>\n",
       "  </thead>\n",
       "  <tbody>\n",
       "    <tr>\n",
       "      <th>Ada</th>\n",
       "      <td>0.567357</td>\n",
       "      <td>0.757402</td>\n",
       "      <td>0.937433</td>\n",
       "      <td>0.877546</td>\n",
       "    </tr>\n",
       "    <tr>\n",
       "      <th>GB</th>\n",
       "      <td>0.120621</td>\n",
       "      <td>0.414874</td>\n",
       "      <td>0.997172</td>\n",
       "      <td>0.963259</td>\n",
       "    </tr>\n",
       "    <tr>\n",
       "      <th>SGB</th>\n",
       "      <td>0.123121</td>\n",
       "      <td>0.406970</td>\n",
       "      <td>0.997054</td>\n",
       "      <td>0.964646</td>\n",
       "    </tr>\n",
       "  </tbody>\n",
       "</table>\n",
       "</div>"
      ],
      "text/plain": [
       "     Training MSE  Test MSE  Train R^2  Test R^2\n",
       "Ada      0.567357  0.757402   0.937433  0.877546\n",
       "GB       0.120621  0.414874   0.997172  0.963259\n",
       "SGB      0.123121  0.406970   0.997054  0.964646"
      ]
     },
     "execution_count": 50,
     "metadata": {},
     "output_type": "execute_result"
    }
   ],
   "source": [
    "# Dictionary of results\n",
    "train_ada = ada.predict(x_train)\n",
    "train_gb = gb.predict(x_train)\n",
    "train_sgb = sgb.predict(x_train)\n",
    "\n",
    "test_ada = ada.predict(x_test)\n",
    "test_gb = gb.predict(x_test)\n",
    "test_sgb = sgb.predict(x_test)\n",
    "\n",
    "results_dict = {'Training MSE':{\n",
    "                        \"Ada\": metrics.mean_squared_error(y_train, train_ada,squared=False),\n",
    "                        \"GB\": metrics.mean_squared_error(y_train, train_gb,squared=False),\n",
    "                        \"SGB\": metrics.mean_squared_error(y_train, train_sgb,squared=False),\n",
    "                },\n",
    "                'Test MSE':{\n",
    "                        \"Ada\": metrics.mean_squared_error(y_test, test_ada,squared=False),\n",
    "                        \"GB\": metrics.mean_squared_error(y_test, test_gb,squared=False),\n",
    "                        \"SGB\": metrics.mean_squared_error(y_test, test_sgb,squared=False)\n",
    "                },\n",
    "                'Train R^2':{\n",
    "                        \"Ada\":metrics.r2_score(y_train, train_ada),\n",
    "                        \"GB\":metrics.r2_score(y_train, train_gb),\n",
    "                        \"SGB\":metrics.r2_score(y_train, train_sgb)\n",
    "                    \n",
    "                },\n",
    "                'Test R^2':{\n",
    "                        \"Ada\":metrics.r2_score(y_test, test_ada),\n",
    "                        \"GB\":metrics.r2_score(y_test, test_gb),\n",
    "                        \"SGB\":metrics.r2_score(y_test, test_sgb)\n",
    "                }\n",
    "                }\n",
    "pd.DataFrame(results_dict)"
   ]
  },
  {
   "cell_type": "code",
   "execution_count": 51,
   "metadata": {},
   "outputs": [
    {
     "data": {
      "image/png": "[encoded data removed]",
      "text/plain": [
       "<Figure size 1080x360 with 3 Axes>"
      ]
     },
     "metadata": {
      "needs_background": "light"
     },
     "output_type": "display_data"
    }
   ],
   "source": [
    "# Create figure and axes\n",
    "f, ax = plt.subplots(figsize=(15,5), nrows=1, ncols=3,sharey=True)\n",
    "\n",
    "# Create list of titles and predictions to use in for loop\n",
    "pred = [test_ada, test_gb, test_sgb]\n",
    "title = ['Ada', 'GB', 'SGB']\n",
    "\n",
    "# Loop through all axes to plot each model's results \n",
    "for i in range(3):\n",
    "    rmse = round(np.sqrt(metrics.mean_squared_error(y_test,pred[i])),2)\n",
    "    ax[i].set_title(title[i]+\"  (RMSE aprox: \"+str(rmse)+ \")\")\n",
    "    ax[i].set_xlabel('Actual')\n",
    "    ax[i].set_ylabel('Predicted')\n",
    "    ax[i].plot(y_test,y_test,'r')\n",
    "    ax[i].scatter(y_test,pred[i])"
   ]
  },
  {
   "cell_type": "markdown",
   "metadata": {},
   "source": [
    "## 4.3: Simple modelling"
   ]
  },
  {
   "cell_type": "code",
   "execution_count": 73,
   "metadata": {},
   "outputs": [
    {
     "data": {
      "text/plain": [
       "LinearRegression()"
      ]
     },
     "execution_count": 73,
     "metadata": {},
     "output_type": "execute_result"
    }
   ],
   "source": [
    "# Linear Regression\n",
    "linreg = LinearRegression()\n",
    "linreg.fit(x_train, y_train)"
   ]
  },
  {
   "cell_type": "code",
   "execution_count": 53,
   "metadata": {},
   "outputs": [
    {
     "data": {
      "text/plain": [
       "Ridge()"
      ]
     },
     "execution_count": 53,
     "metadata": {},
     "output_type": "execute_result"
    }
   ],
   "source": [
    "#Ridge Regression\n",
    "ridge = Ridge()\n",
    "ridge.fit(x_train, y_train)"
   ]
  },
  {
   "cell_type": "code",
   "execution_count": 54,
   "metadata": {},
   "outputs": [
    {
     "data": {
      "text/plain": [
       "Lasso(alpha=0.01)"
      ]
     },
     "execution_count": 54,
     "metadata": {},
     "output_type": "execute_result"
    }
   ],
   "source": [
    "#Lasso Reg\n",
    "lasso = Lasso(alpha=0.01)\n",
    "lasso.fit(x_train, y_train)"
   ]
  },
  {
   "cell_type": "code",
   "execution_count": 55,
   "metadata": {},
   "outputs": [
    {
     "data": {
      "text/plain": [
       "SVR()"
      ]
     },
     "execution_count": 55,
     "metadata": {},
     "output_type": "execute_result"
    }
   ],
   "source": [
    "#Support Vector model\n",
    "svr = SVR()\n",
    "svr.fit(x_train,y_train)"
   ]
  },
  {
   "cell_type": "code",
   "execution_count": 56,
   "metadata": {},
   "outputs": [
    {
     "data": {
      "text/plain": [
       "GradientBoostingRegressor()"
      ]
     },
     "execution_count": 56,
     "metadata": {},
     "output_type": "execute_result"
    }
   ],
   "source": [
    "#Gradient Boosting model\n",
    "params = {}\n",
    "gbr=GradientBoostingRegressor()\n",
    "gbr.fit(x_train,y_train)"
   ]
  },
  {
   "cell_type": "code",
   "execution_count": 57,
   "metadata": {},
   "outputs": [
    {
     "data": {
      "text/plain": [
       "KNeighborsRegressor(n_neighbors=3)"
      ]
     },
     "execution_count": 57,
     "metadata": {},
     "output_type": "execute_result"
    }
   ],
   "source": [
    "#KNN model\n",
    "knn= KNeighborsRegressor(n_neighbors = 3)\n",
    "knn.fit(x_train,y_train)"
   ]
  },
  {
   "cell_type": "code",
   "execution_count": 58,
   "metadata": {},
   "outputs": [
    {
     "data": {
      "text/plain": [
       "DecisionTreeRegressor()"
      ]
     },
     "execution_count": 58,
     "metadata": {},
     "output_type": "execute_result"
    }
   ],
   "source": [
    "# Decision Tree\n",
    "decision_tree = DecisionTreeRegressor()\n",
    "decision_tree.fit(x_train, y_train)"
   ]
  },
  {
   "cell_type": "code",
   "execution_count": 59,
   "metadata": {},
   "outputs": [
    {
     "data": {
      "text/plain": [
       "RandomForestRegressor()"
      ]
     },
     "execution_count": 59,
     "metadata": {},
     "output_type": "execute_result"
    }
   ],
   "source": [
    "# Random Forest\n",
    "random_forest = RandomForestRegressor(n_estimators=100)\n",
    "random_forest.fit(x_train, y_train)"
   ]
  },
  {
   "cell_type": "code",
   "execution_count": 60,
   "metadata": {},
   "outputs": [],
   "source": [
    "#Compare models\n",
    "\n",
    "# Make training set predictions for each model\n",
    "train_lin = linreg.predict(x_train)\n",
    "train_ridge = ridge.predict(x_train)\n",
    "train_lasso = lasso.predict(x_train)\n",
    "train_Knn = knn.predict(x_train)\n",
    "train_svr = svr.predict(x_train)\n",
    "train_gbr = gbr.predict(x_train)\n",
    "train_DcT = decision_tree.predict(x_train)\n",
    "train_RnF = random_forest.predict(x_train)\n",
    "\n",
    "# Make test set predictions for each model\n",
    "test_lin = linreg.predict(x_test)\n",
    "test_ridge = ridge.predict(x_test)\n",
    "test_lasso = lasso.predict(x_test)\n",
    "test_Knn = knn.predict(x_test)\n",
    "test_svr = svr.predict(x_test)\n",
    "test_gbr = gbr.predict(x_test)\n",
    "test_DcT = decision_tree.predict(x_test)\n",
    "test_RnF = random_forest.predict(x_test)\n",
    "\n",
    "# Dictionary of results\n",
    "results_dict = {'Training MSE':{\n",
    "                        \"Least Squares\":metrics.mean_squared_error(y_train, train_lin,squared=False),\n",
    "                        \"Ridge\": metrics.mean_squared_error(y_train, train_ridge,squared=False),\n",
    "                        \"LASSO\": metrics.mean_squared_error(y_train, train_lasso,squared=False),\n",
    "                        \"SVR\": metrics.mean_squared_error(y_train, train_svr,squared=False),\n",
    "                        \"GBR\": metrics.mean_squared_error(y_train, train_gbr,squared=False),\n",
    "                        \"KNN\": metrics.mean_squared_error(y_train, train_Knn,squared=False),\n",
    "                        \"Decision Tree\": metrics.mean_squared_error(y_train, train_DcT,squared=False),\n",
    "                        \"Random Forest\": metrics.mean_squared_error(y_train, train_RnF,squared=False)\n",
    "                },\n",
    "                'Test MSE':{\n",
    "                        \"Least Squares\": metrics.mean_squared_error(y_test, test_lin,squared=False),\n",
    "                        \"Ridge\": metrics.mean_squared_error(y_test, test_ridge,squared=False),\n",
    "                        \"LASSO\": metrics.mean_squared_error(y_test, test_lasso,squared=False),\n",
    "                        \"SVR\": metrics.mean_squared_error(y_test, test_svr,squared=False),\n",
    "                        \"GBR\": metrics.mean_squared_error(y_test, test_gbr,squared=False),\n",
    "                        \"KNN\": metrics.mean_squared_error(y_test, test_Knn,squared=False),\n",
    "                        \"Decision Tree\": metrics.mean_squared_error(y_test, test_DcT,squared=False),\n",
    "                        \"Random Forest\": metrics.mean_squared_error(y_test, test_RnF,squared=False)\n",
    "                }\n",
    "                }\n",
    "results=pd.DataFrame(results_dict)"
   ]
  },
  {
   "cell_type": "code",
   "execution_count": 75,
   "metadata": {},
   "outputs": [
    {
     "data": {
      "text/html": [
       "<div>\n",
       "<style scoped>\n",
       "    .dataframe tbody tr th:only-of-type {\n",
       "        vertical-align: middle;\n",
       "    }\n",
       "\n",
       "    .dataframe tbody tr th {\n",
       "        vertical-align: top;\n",
       "    }\n",
       "\n",
       "    .dataframe thead th {\n",
       "        text-align: right;\n",
       "    }\n",
       "</style>\n",
       "<table border=\"1\" class=\"dataframe\">\n",
       "  <thead>\n",
       "    <tr style=\"text-align: right;\">\n",
       "      <th></th>\n",
       "      <th>Training MSE</th>\n",
       "      <th>Test MSE</th>\n",
       "    </tr>\n",
       "  </thead>\n",
       "  <tbody>\n",
       "    <tr>\n",
       "      <th>Least Squares</th>\n",
       "      <td>1.814342e+00</td>\n",
       "      <td>1.665826</td>\n",
       "    </tr>\n",
       "    <tr>\n",
       "      <th>Ridge</th>\n",
       "      <td>1.814342e+00</td>\n",
       "      <td>1.665822</td>\n",
       "    </tr>\n",
       "    <tr>\n",
       "      <th>LASSO</th>\n",
       "      <td>1.814354e+00</td>\n",
       "      <td>1.664986</td>\n",
       "    </tr>\n",
       "    <tr>\n",
       "      <th>SVR</th>\n",
       "      <td>2.052712e+00</td>\n",
       "      <td>1.931900</td>\n",
       "    </tr>\n",
       "    <tr>\n",
       "      <th>GBR</th>\n",
       "      <td>4.634587e-01</td>\n",
       "      <td>0.523293</td>\n",
       "    </tr>\n",
       "    <tr>\n",
       "      <th>KNN</th>\n",
       "      <td>6.782407e-01</td>\n",
       "      <td>0.891125</td>\n",
       "    </tr>\n",
       "    <tr>\n",
       "      <th>Decision Tree</th>\n",
       "      <td>9.183896e-16</td>\n",
       "      <td>0.605531</td>\n",
       "    </tr>\n",
       "    <tr>\n",
       "      <th>Random Forest</th>\n",
       "      <td>2.461092e-01</td>\n",
       "      <td>0.470600</td>\n",
       "    </tr>\n",
       "  </tbody>\n",
       "</table>\n",
       "</div>"
      ],
      "text/plain": [
       "               Training MSE  Test MSE\n",
       "Least Squares  1.814342e+00  1.665826\n",
       "Ridge          1.814342e+00  1.665822\n",
       "LASSO          1.814354e+00  1.664986\n",
       "SVR            2.052712e+00  1.931900\n",
       "GBR            4.634587e-01  0.523293\n",
       "KNN            6.782407e-01  0.891125\n",
       "Decision Tree  9.183896e-16  0.605531\n",
       "Random Forest  2.461092e-01  0.470600"
      ]
     },
     "execution_count": 75,
     "metadata": {},
     "output_type": "execute_result"
    }
   ],
   "source": [
    "results"
   ]
  },
  {
   "cell_type": "markdown",
   "metadata": {},
   "source": [
    "##  Performance Evaluation"
   ]
  },
  {
   "cell_type": "markdown",
   "metadata": {},
   "source": [
    "### Compare Models on Performance Metrics"
   ]
  },
  {
   "cell_type": "markdown",
   "metadata": {},
   "source": [
    "We can compare the performance of each of our models using two statistical measures that determine the average squared difference between the estimated values and the actual value (**MSE**) and the proportion of variance explained by the model (**R2**):  \n",
    "\n",
    "**Mean Squared Error (MSE):**  \n",
    "$$MSE = \\frac{1}{n}\\sum_{i=1}^n(y_i-\\hat{y}_i)^2$$   \n",
    "   \n",
    "**R-squared (R2):**\n",
    "$$R^2 = 1 - \\frac{\\sum(y_i-\\hat{y}_i)^2}{\\sum(y_i-\\bar{y})^2}$$  \n",
    "\n",
    "For this project, we will be looking at the root mean squared error (RMSE). The lower the RMSE of the model, the better the regression line fits the data."
   ]
  },
  {
   "cell_type": "code",
   "execution_count": 77,
   "metadata": {},
   "outputs": [
    {
     "data": {
      "image/png": "[encoded data removed]",
      "text/plain": [
       "<Figure size 864x432 with 1 Axes>"
      ]
     },
     "metadata": {
      "needs_background": "light"
     },
     "output_type": "display_data"
    }
   ],
   "source": [
    "# Compare RMSE values between models\n",
    "fig,axis = plt.subplots(figsize=(12, 6))\n",
    "rmse_x = ['Least Squares', 'Ridge', 'LASSO', 'SVR', 'GBR', 'KNN', 'Decision Tree','Random Forest']\n",
    "rmse_y = list(results['Test MSE'])\n",
    "ax = sns.barplot(x=rmse_x, y=rmse_y,palette='plasma')\n",
    "plt.title('Regression Model RMSE Values',fontsize=14)\n",
    "plt.ylabel('RMSE')\n",
    "plt.xticks(rotation=90)\n",
    "for p in ax.patches:\n",
    "    ax.text(p.get_x() + p.get_width()/2., p.get_height(), '%d' % int(p.get_height()), fontsize=12, ha='center', va='bottom')\n",
    "\n",
    "plt.show()"
   ]
  },
  {
   "cell_type": "code",
   "execution_count": null,
   "metadata": {},
   "outputs": [],
   "source": [
    "# Compare R squared values between models\n",
    "fig,axis = plt.subplots(figsize=(12, 6))\n",
    "rmse_x = ['Linear','Multiple Linear','Polynomial','Random Forest','Lasso','Ridge','CatBoost','XGBoost','LightGBM']\n",
    "rmse_y = [lm_r2,ml_r2,pl_r2,rf_r2,ls_r2,rd_r2,cb_model_r2,xg_r2,lgbm_r2]\n",
    "ax = sns.barplot(x=rmse_x, y=rmse_y,palette='plasma_r')\n",
    "plt.title('Regression Model R Squared Values',fontsize=14)\n",
    "plt.ylabel('R Squared')\n",
    "plt.xticks(rotation=90)\n",
    "for p in ax.patches:\n",
    "    ax.text(p.get_x() + p.get_width()/2, p.get_y() + p.get_height(), round(p.get_height(),2), fontsize=12, ha=\"center\", va='bottom')\n",
    "plt.show()"
   ]
  },
  {
   "cell_type": "markdown",
   "metadata": {},
   "source": [
    "Based on the best performance metrics and quickest runtimes, we choose to evaluate the performance of the **Random Forest** and **LightGBM** models further, through cross validation, hyperparameter tuning, and feature importance."
   ]
  },
  {
   "cell_type": "code",
   "execution_count": 62,
   "metadata": {},
   "outputs": [],
   "source": [
    "# create submission dataframe\n",
    "submission = pd.DataFrame(\n",
    "    {'Index': test_id,\n",
    "     'avg_price_per_kg': gb.predict(test)\n",
    "    })"
   ]
  },
  {
   "cell_type": "code",
   "execution_count": 63,
   "metadata": {},
   "outputs": [],
   "source": [
    "# save DataFrame to csv file for submission\n",
    "submission.to_csv(\"Answergb.csv\", index=False)"
   ]
  },
  {
   "cell_type": "code",
   "execution_count": null,
   "metadata": {},
   "outputs": [],
   "source": []
  },
  {
   "cell_type": "code",
   "execution_count": null,
   "metadata": {},
   "outputs": [],
   "source": []
  }
 ],
 "metadata": {
  "kernelspec": {
   "display_name": "Python 3",
   "language": "python",
   "name": "python3"
  },
  "language_info": {
   "codemirror_mode": {
    "name": "ipython",
    "version": 3
   },
   "file_extension": ".py",
   "mimetype": "text/x-python",
   "name": "python",
   "nbconvert_exporter": "python",
   "pygments_lexer": "ipython3",
   "version": "3.8.5"
  }
 },
 "nbformat": 4,
 "nbformat_minor": 5
}
