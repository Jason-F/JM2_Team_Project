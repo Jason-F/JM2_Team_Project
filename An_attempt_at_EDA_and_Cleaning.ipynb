{
 "cells": [
  {
   "cell_type": "markdown",
   "id": "e56a3c19",
   "metadata": {},
   "source": [
    "# Phase 0: Imports"
   ]
  },
  {
   "cell_type": "markdown",
   "id": "341fe40a",
   "metadata": {},
   "source": [
    "Loading required python packages."
   ]
  },
  {
   "cell_type": "code",
   "execution_count": 189,
   "id": "4130ac0c",
   "metadata": {},
   "outputs": [],
   "source": [
    "import numpy as np\n",
    "import pandas as pd\n",
    "import matplotlib.pyplot as plt\n",
    "import seaborn as sns\n",
    "from statsmodels.graphics.correlation import plot_corr\n",
    "%matplotlib inline\n",
    "\n",
    "#models\n",
    "from sklearn.linear_model import LinearRegression\n",
    "from sklearn.linear_model import Ridge\n",
    "from sklearn.linear_model import Lasso\n",
    "from sklearn.neighbors import KNeighborsRegressor\n",
    "from sklearn.ensemble import RandomForestRegressor\n",
    "from sklearn.tree import DecisionTreeRegressor\n",
    "from sklearn.svm import SVR\n",
    "from sklearn.ensemble import GradientBoostingRegressor \n",
    "\n",
    "#metrics, procssing and model selection\n",
    "from sklearn.model_selection import train_test_split\n",
    "from sklearn.preprocessing import StandardScaler\n",
    "from sklearn import metrics"
   ]
  },
  {
   "cell_type": "markdown",
   "id": "f42ec028",
   "metadata": {},
   "source": [
    "# Phase 1: Data Collection"
   ]
  },
  {
   "cell_type": "markdown",
   "id": "a08f9cc4",
   "metadata": {},
   "source": [
    "As kaggle already provided us with data in the form of csv files, all we have to do is load them into dataframes."
   ]
  },
  {
   "cell_type": "code",
   "execution_count": 190,
   "id": "d61f4ea4",
   "metadata": {},
   "outputs": [],
   "source": [
    "#loading csv's\n",
    "train=pd.read_csv('df - train_set.csv')\n",
    "test=pd.read_csv('df - test_set.csv')"
   ]
  },
  {
   "cell_type": "markdown",
   "id": "6581f3ad",
   "metadata": {},
   "source": [
    "# Phase 2: Data Cleaning"
   ]
  },
  {
   "cell_type": "markdown",
   "id": "ad646af0",
   "metadata": {},
   "source": [
    "Kaggle tries to provide us with clean data but it's always a good idea to check for ourselves."
   ]
  },
  {
   "cell_type": "code",
   "execution_count": 191,
   "id": "a39094dd",
   "metadata": {},
   "outputs": [
    {
     "name": "stdout",
     "output_type": "stream",
     "text": [
      "<class 'pandas.core.frame.DataFrame'>\n",
      "RangeIndex: 64376 entries, 0 to 64375\n",
      "Data columns (total 13 columns):\n",
      " #   Column            Non-Null Count  Dtype  \n",
      "---  ------            --------------  -----  \n",
      " 0   Province          64376 non-null  object \n",
      " 1   Container         64376 non-null  object \n",
      " 2   Size_Grade        64376 non-null  object \n",
      " 3   Weight_Kg         64376 non-null  float64\n",
      " 4   Commodities       64376 non-null  object \n",
      " 5   Date              64376 non-null  object \n",
      " 6   Low_Price         64376 non-null  float64\n",
      " 7   High_Price        64376 non-null  float64\n",
      " 8   Sales_Total       64376 non-null  float64\n",
      " 9   Total_Qty_Sold    64376 non-null  int64  \n",
      " 10  Total_Kg_Sold     64376 non-null  float64\n",
      " 11  Stock_On_Hand     64376 non-null  int64  \n",
      " 12  avg_price_per_kg  64376 non-null  float64\n",
      "dtypes: float64(6), int64(2), object(5)\n",
      "memory usage: 6.4+ MB\n"
     ]
    }
   ],
   "source": [
    "#Checking for null values\n",
    "train.info()"
   ]
  },
  {
   "cell_type": "code",
   "execution_count": 192,
   "id": "1c9b6631",
   "metadata": {},
   "outputs": [
    {
     "data": {
      "text/plain": [
       "Province            0\n",
       "Container           0\n",
       "Size_Grade          0\n",
       "Weight_Kg           0\n",
       "Commodities         0\n",
       "Date                0\n",
       "Low_Price           0\n",
       "High_Price          0\n",
       "Sales_Total         0\n",
       "Total_Qty_Sold      0\n",
       "Total_Kg_Sold       0\n",
       "Stock_On_Hand       0\n",
       "avg_price_per_kg    0\n",
       "dtype: int64"
      ]
     },
     "execution_count": 192,
     "metadata": {},
     "output_type": "execute_result"
    }
   ],
   "source": [
    "train.isnull().sum()"
   ]
  },
  {
   "cell_type": "markdown",
   "id": "96d5441f",
   "metadata": {},
   "source": [
    "None of the columns contain any null values.\n",
    "\n",
    "Moreover, we note that the DataFrame consists of 13 columns.(12 predictors and 1 response)\n",
    "\n",
    "The predictor variables are broken down into the following types:\n",
    "\n",
    "    -object: Province, Container, Size_Grade, Commodities and Date\n",
    "\n",
    "    -float: Weight_Kg, Low_Price, High_Price and Sales_Total\n",
    "\n",
    "    -integer: Total_Qty_Sold, Total_Kg_Sold and Stock_On_Hand\n",
    "    \n",
    "with the response variable(avg_price_per_kg) being a float.\n",
    "    \n",
    "As we can see in the next cell, the table contains information about 'Commodoties that we are not interested in, we filter only for 'APPLE GOLDEN DELICIOUS'."
   ]
  },
  {
   "cell_type": "code",
   "execution_count": 193,
   "id": "7112b164",
   "metadata": {},
   "outputs": [
    {
     "data": {
      "text/html": [
       "<div>\n",
       "<style scoped>\n",
       "    .dataframe tbody tr th:only-of-type {\n",
       "        vertical-align: middle;\n",
       "    }\n",
       "\n",
       "    .dataframe tbody tr th {\n",
       "        vertical-align: top;\n",
       "    }\n",
       "\n",
       "    .dataframe thead th {\n",
       "        text-align: right;\n",
       "    }\n",
       "</style>\n",
       "<table border=\"1\" class=\"dataframe\">\n",
       "  <thead>\n",
       "    <tr style=\"text-align: right;\">\n",
       "      <th></th>\n",
       "      <th>Province</th>\n",
       "      <th>Container</th>\n",
       "      <th>Size_Grade</th>\n",
       "      <th>Weight_Kg</th>\n",
       "      <th>Commodities</th>\n",
       "      <th>Date</th>\n",
       "      <th>Low_Price</th>\n",
       "      <th>High_Price</th>\n",
       "      <th>Sales_Total</th>\n",
       "      <th>Total_Qty_Sold</th>\n",
       "      <th>Total_Kg_Sold</th>\n",
       "      <th>Stock_On_Hand</th>\n",
       "      <th>avg_price_per_kg</th>\n",
       "    </tr>\n",
       "  </thead>\n",
       "  <tbody>\n",
       "    <tr>\n",
       "      <th>0</th>\n",
       "      <td>CAPE</td>\n",
       "      <td>EC120</td>\n",
       "      <td>1L</td>\n",
       "      <td>12.0</td>\n",
       "      <td>APPLE GRANNY SMITH</td>\n",
       "      <td>2020-03-10</td>\n",
       "      <td>108.0</td>\n",
       "      <td>112.0</td>\n",
       "      <td>3236.0</td>\n",
       "      <td>29</td>\n",
       "      <td>348.0</td>\n",
       "      <td>0</td>\n",
       "      <td>9.30</td>\n",
       "    </tr>\n",
       "    <tr>\n",
       "      <th>1</th>\n",
       "      <td>CAPE</td>\n",
       "      <td>M4183</td>\n",
       "      <td>1L</td>\n",
       "      <td>18.3</td>\n",
       "      <td>APPLE GOLDEN DELICIOUS</td>\n",
       "      <td>2020-09-09</td>\n",
       "      <td>150.0</td>\n",
       "      <td>170.0</td>\n",
       "      <td>51710.0</td>\n",
       "      <td>332</td>\n",
       "      <td>6075.6</td>\n",
       "      <td>822</td>\n",
       "      <td>8.51</td>\n",
       "    </tr>\n",
       "    <tr>\n",
       "      <th>2</th>\n",
       "      <td>GAUTENG</td>\n",
       "      <td>AT200</td>\n",
       "      <td>1L</td>\n",
       "      <td>20.0</td>\n",
       "      <td>AVOCADO PINKERTON</td>\n",
       "      <td>2020-05-05</td>\n",
       "      <td>70.0</td>\n",
       "      <td>80.0</td>\n",
       "      <td>4860.0</td>\n",
       "      <td>66</td>\n",
       "      <td>1320.0</td>\n",
       "      <td>50</td>\n",
       "      <td>3.68</td>\n",
       "    </tr>\n",
       "    <tr>\n",
       "      <th>3</th>\n",
       "      <td>TRANSVAAL</td>\n",
       "      <td>BJ090</td>\n",
       "      <td>1L</td>\n",
       "      <td>9.0</td>\n",
       "      <td>TOMATOES-LONG LIFE</td>\n",
       "      <td>2020-01-20</td>\n",
       "      <td>60.0</td>\n",
       "      <td>60.0</td>\n",
       "      <td>600.0</td>\n",
       "      <td>10</td>\n",
       "      <td>90.0</td>\n",
       "      <td>0</td>\n",
       "      <td>6.67</td>\n",
       "    </tr>\n",
       "    <tr>\n",
       "      <th>4</th>\n",
       "      <td>WESTERN FREESTATE</td>\n",
       "      <td>PP100</td>\n",
       "      <td>1R</td>\n",
       "      <td>10.0</td>\n",
       "      <td>POTATO SIFRA (WASHED)</td>\n",
       "      <td>2020-07-14</td>\n",
       "      <td>40.0</td>\n",
       "      <td>45.0</td>\n",
       "      <td>41530.0</td>\n",
       "      <td>927</td>\n",
       "      <td>9270.0</td>\n",
       "      <td>393</td>\n",
       "      <td>4.48</td>\n",
       "    </tr>\n",
       "  </tbody>\n",
       "</table>\n",
       "</div>"
      ],
      "text/plain": [
       "            Province Container Size_Grade  Weight_Kg             Commodities  \\\n",
       "0               CAPE     EC120         1L       12.0      APPLE GRANNY SMITH   \n",
       "1               CAPE     M4183         1L       18.3  APPLE GOLDEN DELICIOUS   \n",
       "2            GAUTENG     AT200         1L       20.0       AVOCADO PINKERTON   \n",
       "3          TRANSVAAL     BJ090         1L        9.0      TOMATOES-LONG LIFE   \n",
       "4  WESTERN FREESTATE     PP100         1R       10.0   POTATO SIFRA (WASHED)   \n",
       "\n",
       "         Date  Low_Price  High_Price  Sales_Total  Total_Qty_Sold  \\\n",
       "0  2020-03-10      108.0       112.0       3236.0              29   \n",
       "1  2020-09-09      150.0       170.0      51710.0             332   \n",
       "2  2020-05-05       70.0        80.0       4860.0              66   \n",
       "3  2020-01-20       60.0        60.0        600.0              10   \n",
       "4  2020-07-14       40.0        45.0      41530.0             927   \n",
       "\n",
       "   Total_Kg_Sold  Stock_On_Hand  avg_price_per_kg  \n",
       "0          348.0              0              9.30  \n",
       "1         6075.6            822              8.51  \n",
       "2         1320.0             50              3.68  \n",
       "3           90.0              0              6.67  \n",
       "4         9270.0            393              4.48  "
      ]
     },
     "execution_count": 193,
     "metadata": {},
     "output_type": "execute_result"
    }
   ],
   "source": [
    "train.head()"
   ]
  },
  {
   "cell_type": "code",
   "execution_count": 194,
   "id": "05113122",
   "metadata": {},
   "outputs": [
    {
     "data": {
      "text/html": [
       "<div>\n",
       "<style scoped>\n",
       "    .dataframe tbody tr th:only-of-type {\n",
       "        vertical-align: middle;\n",
       "    }\n",
       "\n",
       "    .dataframe tbody tr th {\n",
       "        vertical-align: top;\n",
       "    }\n",
       "\n",
       "    .dataframe thead th {\n",
       "        text-align: right;\n",
       "    }\n",
       "</style>\n",
       "<table border=\"1\" class=\"dataframe\">\n",
       "  <thead>\n",
       "    <tr style=\"text-align: right;\">\n",
       "      <th></th>\n",
       "      <th>Province</th>\n",
       "      <th>Container</th>\n",
       "      <th>Size_Grade</th>\n",
       "      <th>Weight_Kg</th>\n",
       "      <th>Commodities</th>\n",
       "      <th>Date</th>\n",
       "      <th>Low_Price</th>\n",
       "      <th>High_Price</th>\n",
       "      <th>Sales_Total</th>\n",
       "      <th>Total_Qty_Sold</th>\n",
       "      <th>Total_Kg_Sold</th>\n",
       "      <th>Stock_On_Hand</th>\n",
       "      <th>avg_price_per_kg</th>\n",
       "    </tr>\n",
       "  </thead>\n",
       "  <tbody>\n",
       "    <tr>\n",
       "      <th>1</th>\n",
       "      <td>CAPE</td>\n",
       "      <td>M4183</td>\n",
       "      <td>1L</td>\n",
       "      <td>18.3</td>\n",
       "      <td>APPLE GOLDEN DELICIOUS</td>\n",
       "      <td>2020-09-09</td>\n",
       "      <td>150.0</td>\n",
       "      <td>170.0</td>\n",
       "      <td>51710.0</td>\n",
       "      <td>332</td>\n",
       "      <td>6075.6</td>\n",
       "      <td>822</td>\n",
       "      <td>8.51</td>\n",
       "    </tr>\n",
       "    <tr>\n",
       "      <th>7</th>\n",
       "      <td>CAPE</td>\n",
       "      <td>JG110</td>\n",
       "      <td>2M</td>\n",
       "      <td>11.0</td>\n",
       "      <td>APPLE GOLDEN DELICIOUS</td>\n",
       "      <td>2020-04-14</td>\n",
       "      <td>50.0</td>\n",
       "      <td>50.0</td>\n",
       "      <td>16000.0</td>\n",
       "      <td>320</td>\n",
       "      <td>3520.0</td>\n",
       "      <td>0</td>\n",
       "      <td>4.55</td>\n",
       "    </tr>\n",
       "    <tr>\n",
       "      <th>24</th>\n",
       "      <td>W.CAPE-BERGRIVER ETC</td>\n",
       "      <td>JE090</td>\n",
       "      <td>2S</td>\n",
       "      <td>9.0</td>\n",
       "      <td>APPLE GOLDEN DELICIOUS</td>\n",
       "      <td>2020-04-16</td>\n",
       "      <td>55.0</td>\n",
       "      <td>55.0</td>\n",
       "      <td>990.0</td>\n",
       "      <td>18</td>\n",
       "      <td>162.0</td>\n",
       "      <td>1506</td>\n",
       "      <td>6.11</td>\n",
       "    </tr>\n",
       "    <tr>\n",
       "      <th>40</th>\n",
       "      <td>CAPE</td>\n",
       "      <td>M4183</td>\n",
       "      <td>1S</td>\n",
       "      <td>18.3</td>\n",
       "      <td>APPLE GOLDEN DELICIOUS</td>\n",
       "      <td>2020-05-04</td>\n",
       "      <td>80.0</td>\n",
       "      <td>120.0</td>\n",
       "      <td>32020.0</td>\n",
       "      <td>388</td>\n",
       "      <td>7100.4</td>\n",
       "      <td>443</td>\n",
       "      <td>4.51</td>\n",
       "    </tr>\n",
       "    <tr>\n",
       "      <th>69</th>\n",
       "      <td>EASTERN CAPE</td>\n",
       "      <td>IA400</td>\n",
       "      <td>1S</td>\n",
       "      <td>400.0</td>\n",
       "      <td>APPLE GOLDEN DELICIOUS</td>\n",
       "      <td>2020-09-28</td>\n",
       "      <td>1800.0</td>\n",
       "      <td>1800.0</td>\n",
       "      <td>1800.0</td>\n",
       "      <td>1</td>\n",
       "      <td>400.0</td>\n",
       "      <td>2</td>\n",
       "      <td>4.50</td>\n",
       "    </tr>\n",
       "  </tbody>\n",
       "</table>\n",
       "</div>"
      ],
      "text/plain": [
       "                Province Container Size_Grade  Weight_Kg  \\\n",
       "1                   CAPE     M4183         1L       18.3   \n",
       "7                   CAPE     JG110         2M       11.0   \n",
       "24  W.CAPE-BERGRIVER ETC     JE090         2S        9.0   \n",
       "40                  CAPE     M4183         1S       18.3   \n",
       "69          EASTERN CAPE     IA400         1S      400.0   \n",
       "\n",
       "               Commodities        Date  Low_Price  High_Price  Sales_Total  \\\n",
       "1   APPLE GOLDEN DELICIOUS  2020-09-09      150.0       170.0      51710.0   \n",
       "7   APPLE GOLDEN DELICIOUS  2020-04-14       50.0        50.0      16000.0   \n",
       "24  APPLE GOLDEN DELICIOUS  2020-04-16       55.0        55.0        990.0   \n",
       "40  APPLE GOLDEN DELICIOUS  2020-05-04       80.0       120.0      32020.0   \n",
       "69  APPLE GOLDEN DELICIOUS  2020-09-28     1800.0      1800.0       1800.0   \n",
       "\n",
       "    Total_Qty_Sold  Total_Kg_Sold  Stock_On_Hand  avg_price_per_kg  \n",
       "1              332         6075.6            822              8.51  \n",
       "7              320         3520.0              0              4.55  \n",
       "24              18          162.0           1506              6.11  \n",
       "40             388         7100.4            443              4.51  \n",
       "69               1          400.0              2              4.50  "
      ]
     },
     "execution_count": 194,
     "metadata": {},
     "output_type": "execute_result"
    }
   ],
   "source": [
    "#Filter for Golden Delicious Apples\n",
    "train=train[train['Commodities']=='APPLE GOLDEN DELICIOUS']\n",
    "train.head()"
   ]
  },
  {
   "cell_type": "markdown",
   "id": "c70128bc",
   "metadata": {},
   "source": [
    "We may as well remove the \"Commodities\" column as it has no more useful information."
   ]
  },
  {
   "cell_type": "code",
   "execution_count": 195,
   "id": "48ee9175",
   "metadata": {},
   "outputs": [
    {
     "name": "stdout",
     "output_type": "stream",
     "text": [
      "<class 'pandas.core.frame.DataFrame'>\n",
      "Int64Index: 1952 entries, 1 to 64310\n",
      "Data columns (total 12 columns):\n",
      " #   Column            Non-Null Count  Dtype  \n",
      "---  ------            --------------  -----  \n",
      " 0   Province          1952 non-null   object \n",
      " 1   Container         1952 non-null   object \n",
      " 2   Size_Grade        1952 non-null   object \n",
      " 3   Weight_Kg         1952 non-null   float64\n",
      " 4   Date              1952 non-null   object \n",
      " 5   Low_Price         1952 non-null   float64\n",
      " 6   High_Price        1952 non-null   float64\n",
      " 7   Sales_Total       1952 non-null   float64\n",
      " 8   Total_Qty_Sold    1952 non-null   int64  \n",
      " 9   Total_Kg_Sold     1952 non-null   float64\n",
      " 10  Stock_On_Hand     1952 non-null   int64  \n",
      " 11  avg_price_per_kg  1952 non-null   float64\n",
      "dtypes: float64(6), int64(2), object(4)\n",
      "memory usage: 198.2+ KB\n"
     ]
    }
   ],
   "source": [
    "#Remove Commodities\n",
    "train=train.drop([\"Commodities\"],axis=1)\n",
    "train.info()"
   ]
  },
  {
   "cell_type": "markdown",
   "id": "12293b91",
   "metadata": {},
   "source": [
    "# Phase 3: Exploratory Data Analysis"
   ]
  },
  {
   "cell_type": "markdown",
   "id": "9bd629c7",
   "metadata": {},
   "source": [
    "## 3.1: Univariate Analysis"
   ]
  },
  {
   "cell_type": "markdown",
   "id": "a0be81b1",
   "metadata": {},
   "source": [
    "#### 3.1.1: Numeric data"
   ]
  },
  {
   "cell_type": "code",
   "execution_count": 196,
   "id": "bdcfc838",
   "metadata": {},
   "outputs": [
    {
     "data": {
      "text/html": [
       "<div>\n",
       "<style scoped>\n",
       "    .dataframe tbody tr th:only-of-type {\n",
       "        vertical-align: middle;\n",
       "    }\n",
       "\n",
       "    .dataframe tbody tr th {\n",
       "        vertical-align: top;\n",
       "    }\n",
       "\n",
       "    .dataframe thead th {\n",
       "        text-align: right;\n",
       "    }\n",
       "</style>\n",
       "<table border=\"1\" class=\"dataframe\">\n",
       "  <thead>\n",
       "    <tr style=\"text-align: right;\">\n",
       "      <th></th>\n",
       "      <th>Weight_Kg</th>\n",
       "      <th>Low_Price</th>\n",
       "      <th>High_Price</th>\n",
       "      <th>Sales_Total</th>\n",
       "      <th>Total_Qty_Sold</th>\n",
       "      <th>Total_Kg_Sold</th>\n",
       "      <th>Stock_On_Hand</th>\n",
       "      <th>avg_price_per_kg</th>\n",
       "    </tr>\n",
       "  </thead>\n",
       "  <tbody>\n",
       "    <tr>\n",
       "      <th>count</th>\n",
       "      <td>1952.000000</td>\n",
       "      <td>1952.000000</td>\n",
       "      <td>1952.000000</td>\n",
       "      <td>1952.000000</td>\n",
       "      <td>1952.000000</td>\n",
       "      <td>1952.000000</td>\n",
       "      <td>1952.000000</td>\n",
       "      <td>1952.000000</td>\n",
       "    </tr>\n",
       "    <tr>\n",
       "      <th>mean</th>\n",
       "      <td>40.460912</td>\n",
       "      <td>174.307377</td>\n",
       "      <td>215.648053</td>\n",
       "      <td>20053.533811</td>\n",
       "      <td>174.510758</td>\n",
       "      <td>2960.176332</td>\n",
       "      <td>408.393955</td>\n",
       "      <td>6.778893</td>\n",
       "    </tr>\n",
       "    <tr>\n",
       "      <th>std</th>\n",
       "      <td>99.655169</td>\n",
       "      <td>373.553578</td>\n",
       "      <td>433.546159</td>\n",
       "      <td>39005.069445</td>\n",
       "      <td>308.810797</td>\n",
       "      <td>6097.416527</td>\n",
       "      <td>724.450582</td>\n",
       "      <td>2.248744</td>\n",
       "    </tr>\n",
       "    <tr>\n",
       "      <th>min</th>\n",
       "      <td>3.000000</td>\n",
       "      <td>2.000000</td>\n",
       "      <td>5.000000</td>\n",
       "      <td>5.000000</td>\n",
       "      <td>1.000000</td>\n",
       "      <td>3.000000</td>\n",
       "      <td>0.000000</td>\n",
       "      <td>0.250000</td>\n",
       "    </tr>\n",
       "    <tr>\n",
       "      <th>25%</th>\n",
       "      <td>9.000000</td>\n",
       "      <td>50.000000</td>\n",
       "      <td>60.000000</td>\n",
       "      <td>1325.000000</td>\n",
       "      <td>12.000000</td>\n",
       "      <td>219.600000</td>\n",
       "      <td>9.000000</td>\n",
       "      <td>5.460000</td>\n",
       "    </tr>\n",
       "    <tr>\n",
       "      <th>50%</th>\n",
       "      <td>12.000000</td>\n",
       "      <td>80.000000</td>\n",
       "      <td>108.000000</td>\n",
       "      <td>5495.000000</td>\n",
       "      <td>64.000000</td>\n",
       "      <td>853.500000</td>\n",
       "      <td>126.500000</td>\n",
       "      <td>6.670000</td>\n",
       "    </tr>\n",
       "    <tr>\n",
       "      <th>75%</th>\n",
       "      <td>18.300000</td>\n",
       "      <td>127.250000</td>\n",
       "      <td>160.000000</td>\n",
       "      <td>21082.500000</td>\n",
       "      <td>200.000000</td>\n",
       "      <td>3093.525000</td>\n",
       "      <td>468.000000</td>\n",
       "      <td>8.280000</td>\n",
       "    </tr>\n",
       "    <tr>\n",
       "      <th>max</th>\n",
       "      <td>400.000000</td>\n",
       "      <td>2300.000000</td>\n",
       "      <td>3300.000000</td>\n",
       "      <td>369464.000000</td>\n",
       "      <td>4237.000000</td>\n",
       "      <td>74000.000000</td>\n",
       "      <td>6400.000000</td>\n",
       "      <td>21.240000</td>\n",
       "    </tr>\n",
       "  </tbody>\n",
       "</table>\n",
       "</div>"
      ],
      "text/plain": [
       "         Weight_Kg    Low_Price   High_Price    Sales_Total  Total_Qty_Sold  \\\n",
       "count  1952.000000  1952.000000  1952.000000    1952.000000     1952.000000   \n",
       "mean     40.460912   174.307377   215.648053   20053.533811      174.510758   \n",
       "std      99.655169   373.553578   433.546159   39005.069445      308.810797   \n",
       "min       3.000000     2.000000     5.000000       5.000000        1.000000   \n",
       "25%       9.000000    50.000000    60.000000    1325.000000       12.000000   \n",
       "50%      12.000000    80.000000   108.000000    5495.000000       64.000000   \n",
       "75%      18.300000   127.250000   160.000000   21082.500000      200.000000   \n",
       "max     400.000000  2300.000000  3300.000000  369464.000000     4237.000000   \n",
       "\n",
       "       Total_Kg_Sold  Stock_On_Hand  avg_price_per_kg  \n",
       "count    1952.000000    1952.000000       1952.000000  \n",
       "mean     2960.176332     408.393955          6.778893  \n",
       "std      6097.416527     724.450582          2.248744  \n",
       "min         3.000000       0.000000          0.250000  \n",
       "25%       219.600000       9.000000          5.460000  \n",
       "50%       853.500000     126.500000          6.670000  \n",
       "75%      3093.525000     468.000000          8.280000  \n",
       "max     74000.000000    6400.000000         21.240000  "
      ]
     },
     "execution_count": 196,
     "metadata": {},
     "output_type": "execute_result"
    }
   ],
   "source": [
    "train.describe()"
   ]
  },
  {
   "cell_type": "code",
   "execution_count": 197,
   "id": "f32159ff",
   "metadata": {},
   "outputs": [
    {
     "data": {
      "text/plain": [
       "Weight_Kg           3.328254\n",
       "Low_Price           4.222672\n",
       "High_Price          3.828819\n",
       "Sales_Total         4.250317\n",
       "Total_Qty_Sold      4.445169\n",
       "Total_Kg_Sold       5.529586\n",
       "Stock_On_Hand       3.391815\n",
       "avg_price_per_kg    0.082452\n",
       "dtype: float64"
      ]
     },
     "execution_count": 197,
     "metadata": {},
     "output_type": "execute_result"
    }
   ],
   "source": [
    "train.skew()"
   ]
  },
  {
   "cell_type": "markdown",
   "id": "febeb0a9",
   "metadata": {},
   "source": [
    "We can see that all of our numeric predictors are highly skewed. While our response variable is fairly symmetrical."
   ]
  },
  {
   "cell_type": "code",
   "execution_count": 198,
   "id": "51f0688d",
   "metadata": {},
   "outputs": [
    {
     "data": {
      "text/plain": [
       "Weight_Kg            9.109698\n",
       "Low_Price           17.073369\n",
       "High_Price          13.630768\n",
       "Sales_Total         24.200524\n",
       "Total_Qty_Sold      32.338123\n",
       "Total_Kg_Sold       45.153801\n",
       "Stock_On_Hand       14.671224\n",
       "avg_price_per_kg     1.042921\n",
       "dtype: float64"
      ]
     },
     "execution_count": 198,
     "metadata": {},
     "output_type": "execute_result"
    }
   ],
   "source": [
    "train.kurtosis()"
   ]
  },
  {
   "cell_type": "markdown",
   "id": "35a9382f",
   "metadata": {},
   "source": [
    "As expected the kurtosis indicates strong outliers in the predictor variables. This is highlighted by the fact that the mean of our predictor values lean much closer toward their minimum values while the maximum values are many standard deviations away."
   ]
  },
  {
   "cell_type": "code",
   "execution_count": 199,
   "id": "9d2eba87",
   "metadata": {
    "scrolled": true
   },
   "outputs": [
    {
     "data": {
      "image/png": "[encoded data removed]",
      "text/plain": [
       "<Figure size 720x720 with 8 Axes>"
      ]
     },
     "metadata": {
      "needs_background": "light"
     },
     "output_type": "display_data"
    }
   ],
   "source": [
    "features=[]\n",
    "for x in train.columns:\n",
    "    if np.issubdtype(train[x].dtype, np.number)==True:\n",
    "        features.append(x)\n",
    "train[features].plot(kind='density', subplots=True, sharex=False, figsize=(10, 10));"
   ]
  },
  {
   "cell_type": "markdown",
   "id": "7d1bcf7d",
   "metadata": {},
   "source": [
    "These variables appear to be normally distributed with either some skewness or some completely seperate bumps. This is caused by the outliers.\n",
    "\n",
    "We remove the outliers by converting values to their z-score and removing those z-scores with an absolute value greater than 3."
   ]
  },
  {
   "cell_type": "code",
   "execution_count": 200,
   "id": "335e368d",
   "metadata": {},
   "outputs": [
    {
     "data": {
      "text/html": [
       "<div>\n",
       "<style scoped>\n",
       "    .dataframe tbody tr th:only-of-type {\n",
       "        vertical-align: middle;\n",
       "    }\n",
       "\n",
       "    .dataframe tbody tr th {\n",
       "        vertical-align: top;\n",
       "    }\n",
       "\n",
       "    .dataframe thead th {\n",
       "        text-align: right;\n",
       "    }\n",
       "</style>\n",
       "<table border=\"1\" class=\"dataframe\">\n",
       "  <thead>\n",
       "    <tr style=\"text-align: right;\">\n",
       "      <th></th>\n",
       "      <th>Province</th>\n",
       "      <th>Container</th>\n",
       "      <th>Size_Grade</th>\n",
       "      <th>Weight_Kg</th>\n",
       "      <th>Date</th>\n",
       "      <th>Low_Price</th>\n",
       "      <th>High_Price</th>\n",
       "      <th>Sales_Total</th>\n",
       "      <th>Total_Qty_Sold</th>\n",
       "      <th>Total_Kg_Sold</th>\n",
       "      <th>Stock_On_Hand</th>\n",
       "      <th>avg_price_per_kg</th>\n",
       "    </tr>\n",
       "  </thead>\n",
       "  <tbody>\n",
       "    <tr>\n",
       "      <th>1</th>\n",
       "      <td>CAPE</td>\n",
       "      <td>M4183</td>\n",
       "      <td>1L</td>\n",
       "      <td>18.3</td>\n",
       "      <td>2020-09-09</td>\n",
       "      <td>150.0</td>\n",
       "      <td>170.0</td>\n",
       "      <td>51710.0</td>\n",
       "      <td>332</td>\n",
       "      <td>6075.6</td>\n",
       "      <td>822</td>\n",
       "      <td>8.51</td>\n",
       "    </tr>\n",
       "    <tr>\n",
       "      <th>7</th>\n",
       "      <td>CAPE</td>\n",
       "      <td>JG110</td>\n",
       "      <td>2M</td>\n",
       "      <td>11.0</td>\n",
       "      <td>2020-04-14</td>\n",
       "      <td>50.0</td>\n",
       "      <td>50.0</td>\n",
       "      <td>16000.0</td>\n",
       "      <td>320</td>\n",
       "      <td>3520.0</td>\n",
       "      <td>0</td>\n",
       "      <td>4.55</td>\n",
       "    </tr>\n",
       "    <tr>\n",
       "      <th>24</th>\n",
       "      <td>W.CAPE-BERGRIVER ETC</td>\n",
       "      <td>JE090</td>\n",
       "      <td>2S</td>\n",
       "      <td>9.0</td>\n",
       "      <td>2020-04-16</td>\n",
       "      <td>55.0</td>\n",
       "      <td>55.0</td>\n",
       "      <td>990.0</td>\n",
       "      <td>18</td>\n",
       "      <td>162.0</td>\n",
       "      <td>1506</td>\n",
       "      <td>6.11</td>\n",
       "    </tr>\n",
       "    <tr>\n",
       "      <th>40</th>\n",
       "      <td>CAPE</td>\n",
       "      <td>M4183</td>\n",
       "      <td>1S</td>\n",
       "      <td>18.3</td>\n",
       "      <td>2020-05-04</td>\n",
       "      <td>80.0</td>\n",
       "      <td>120.0</td>\n",
       "      <td>32020.0</td>\n",
       "      <td>388</td>\n",
       "      <td>7100.4</td>\n",
       "      <td>443</td>\n",
       "      <td>4.51</td>\n",
       "    </tr>\n",
       "    <tr>\n",
       "      <th>80</th>\n",
       "      <td>CAPE</td>\n",
       "      <td>JE090</td>\n",
       "      <td>2S</td>\n",
       "      <td>9.0</td>\n",
       "      <td>2020-03-13</td>\n",
       "      <td>55.0</td>\n",
       "      <td>55.0</td>\n",
       "      <td>4840.0</td>\n",
       "      <td>88</td>\n",
       "      <td>792.0</td>\n",
       "      <td>181</td>\n",
       "      <td>6.11</td>\n",
       "    </tr>\n",
       "  </tbody>\n",
       "</table>\n",
       "</div>"
      ],
      "text/plain": [
       "                Province Container Size_Grade  Weight_Kg        Date  \\\n",
       "1                   CAPE     M4183         1L       18.3  2020-09-09   \n",
       "7                   CAPE     JG110         2M       11.0  2020-04-14   \n",
       "24  W.CAPE-BERGRIVER ETC     JE090         2S        9.0  2020-04-16   \n",
       "40                  CAPE     M4183         1S       18.3  2020-05-04   \n",
       "80                  CAPE     JE090         2S        9.0  2020-03-13   \n",
       "\n",
       "    Low_Price  High_Price  Sales_Total  Total_Qty_Sold  Total_Kg_Sold  \\\n",
       "1       150.0       170.0      51710.0             332         6075.6   \n",
       "7        50.0        50.0      16000.0             320         3520.0   \n",
       "24       55.0        55.0        990.0              18          162.0   \n",
       "40       80.0       120.0      32020.0             388         7100.4   \n",
       "80       55.0        55.0       4840.0              88          792.0   \n",
       "\n",
       "    Stock_On_Hand  avg_price_per_kg  \n",
       "1             822              8.51  \n",
       "7               0              4.55  \n",
       "24           1506              6.11  \n",
       "40            443              4.51  \n",
       "80            181              6.11  "
      ]
     },
     "execution_count": 200,
     "metadata": {},
     "output_type": "execute_result"
    }
   ],
   "source": [
    "#Remove outliers using z-score\n",
    "for i in features:\n",
    "    z_mean=train[i].mean()\n",
    "    z_std=train[i].std()\n",
    "    train['zscore']=abs((train[i]-z_mean)/z_std)\n",
    "    train=train[train['zscore']<3]\n",
    "    train=train.drop('zscore',axis=1)\n",
    "train.head()"
   ]
  },
  {
   "cell_type": "code",
   "execution_count": 201,
   "id": "2ff91377",
   "metadata": {},
   "outputs": [
    {
     "data": {
      "text/html": [
       "<div>\n",
       "<style scoped>\n",
       "    .dataframe tbody tr th:only-of-type {\n",
       "        vertical-align: middle;\n",
       "    }\n",
       "\n",
       "    .dataframe tbody tr th {\n",
       "        vertical-align: top;\n",
       "    }\n",
       "\n",
       "    .dataframe thead th {\n",
       "        text-align: right;\n",
       "    }\n",
       "</style>\n",
       "<table border=\"1\" class=\"dataframe\">\n",
       "  <thead>\n",
       "    <tr style=\"text-align: right;\">\n",
       "      <th></th>\n",
       "      <th>Weight_Kg</th>\n",
       "      <th>Low_Price</th>\n",
       "      <th>High_Price</th>\n",
       "      <th>Sales_Total</th>\n",
       "      <th>Total_Qty_Sold</th>\n",
       "      <th>Total_Kg_Sold</th>\n",
       "      <th>Stock_On_Hand</th>\n",
       "      <th>avg_price_per_kg</th>\n",
       "    </tr>\n",
       "  </thead>\n",
       "  <tbody>\n",
       "    <tr>\n",
       "      <th>count</th>\n",
       "      <td>1644.000000</td>\n",
       "      <td>1644.000000</td>\n",
       "      <td>1644.000000</td>\n",
       "      <td>1644.000000</td>\n",
       "      <td>1644.000000</td>\n",
       "      <td>1644.000000</td>\n",
       "      <td>1644.000000</td>\n",
       "      <td>1644.000000</td>\n",
       "    </tr>\n",
       "    <tr>\n",
       "      <th>mean</th>\n",
       "      <td>12.742640</td>\n",
       "      <td>84.369221</td>\n",
       "      <td>102.372263</td>\n",
       "      <td>10779.321776</td>\n",
       "      <td>118.315693</td>\n",
       "      <td>1494.513990</td>\n",
       "      <td>319.843674</td>\n",
       "      <td>6.918425</td>\n",
       "    </tr>\n",
       "    <tr>\n",
       "      <th>std</th>\n",
       "      <td>4.048532</td>\n",
       "      <td>45.477576</td>\n",
       "      <td>52.496762</td>\n",
       "      <td>14792.191679</td>\n",
       "      <td>148.502259</td>\n",
       "      <td>1906.601324</td>\n",
       "      <td>452.675560</td>\n",
       "      <td>2.110512</td>\n",
       "    </tr>\n",
       "    <tr>\n",
       "      <th>min</th>\n",
       "      <td>3.000000</td>\n",
       "      <td>2.000000</td>\n",
       "      <td>5.000000</td>\n",
       "      <td>5.000000</td>\n",
       "      <td>1.000000</td>\n",
       "      <td>3.000000</td>\n",
       "      <td>0.000000</td>\n",
       "      <td>0.550000</td>\n",
       "    </tr>\n",
       "    <tr>\n",
       "      <th>25%</th>\n",
       "      <td>9.000000</td>\n",
       "      <td>50.000000</td>\n",
       "      <td>60.000000</td>\n",
       "      <td>1053.750000</td>\n",
       "      <td>13.000000</td>\n",
       "      <td>164.700000</td>\n",
       "      <td>11.750000</td>\n",
       "      <td>5.560000</td>\n",
       "    </tr>\n",
       "    <tr>\n",
       "      <th>50%</th>\n",
       "      <td>12.000000</td>\n",
       "      <td>70.000000</td>\n",
       "      <td>96.000000</td>\n",
       "      <td>4480.000000</td>\n",
       "      <td>60.000000</td>\n",
       "      <td>732.000000</td>\n",
       "      <td>134.000000</td>\n",
       "      <td>6.745000</td>\n",
       "    </tr>\n",
       "    <tr>\n",
       "      <th>75%</th>\n",
       "      <td>18.300000</td>\n",
       "      <td>118.500000</td>\n",
       "      <td>140.000000</td>\n",
       "      <td>14294.000000</td>\n",
       "      <td>169.250000</td>\n",
       "      <td>1984.050000</td>\n",
       "      <td>430.000000</td>\n",
       "      <td>8.392500</td>\n",
       "    </tr>\n",
       "    <tr>\n",
       "      <th>max</th>\n",
       "      <td>18.300000</td>\n",
       "      <td>220.000000</td>\n",
       "      <td>260.000000</td>\n",
       "      <td>96260.000000</td>\n",
       "      <td>778.000000</td>\n",
       "      <td>8655.900000</td>\n",
       "      <td>2361.000000</td>\n",
       "      <td>13.070000</td>\n",
       "    </tr>\n",
       "  </tbody>\n",
       "</table>\n",
       "</div>"
      ],
      "text/plain": [
       "         Weight_Kg    Low_Price   High_Price   Sales_Total  Total_Qty_Sold  \\\n",
       "count  1644.000000  1644.000000  1644.000000   1644.000000     1644.000000   \n",
       "mean     12.742640    84.369221   102.372263  10779.321776      118.315693   \n",
       "std       4.048532    45.477576    52.496762  14792.191679      148.502259   \n",
       "min       3.000000     2.000000     5.000000      5.000000        1.000000   \n",
       "25%       9.000000    50.000000    60.000000   1053.750000       13.000000   \n",
       "50%      12.000000    70.000000    96.000000   4480.000000       60.000000   \n",
       "75%      18.300000   118.500000   140.000000  14294.000000      169.250000   \n",
       "max      18.300000   220.000000   260.000000  96260.000000      778.000000   \n",
       "\n",
       "       Total_Kg_Sold  Stock_On_Hand  avg_price_per_kg  \n",
       "count    1644.000000    1644.000000       1644.000000  \n",
       "mean     1494.513990     319.843674          6.918425  \n",
       "std      1906.601324     452.675560          2.110512  \n",
       "min         3.000000       0.000000          0.550000  \n",
       "25%       164.700000      11.750000          5.560000  \n",
       "50%       732.000000     134.000000          6.745000  \n",
       "75%      1984.050000     430.000000          8.392500  \n",
       "max      8655.900000    2361.000000         13.070000  "
      ]
     },
     "execution_count": 201,
     "metadata": {},
     "output_type": "execute_result"
    }
   ],
   "source": [
    "train.describe()"
   ]
  },
  {
   "cell_type": "code",
   "execution_count": 202,
   "id": "bb0fc79e",
   "metadata": {},
   "outputs": [
    {
     "data": {
      "text/plain": [
       "Weight_Kg           0.283771\n",
       "Low_Price           0.697714\n",
       "High_Price          0.446422\n",
       "Sales_Total         2.067655\n",
       "Total_Qty_Sold      1.841766\n",
       "Total_Kg_Sold       1.729352\n",
       "Stock_On_Hand       2.179969\n",
       "avg_price_per_kg   -0.118437\n",
       "dtype: float64"
      ]
     },
     "execution_count": 202,
     "metadata": {},
     "output_type": "execute_result"
    }
   ],
   "source": [
    "train.skew()"
   ]
  },
  {
   "cell_type": "code",
   "execution_count": 203,
   "id": "f5b50030",
   "metadata": {},
   "outputs": [
    {
     "data": {
      "text/plain": [
       "Weight_Kg          -1.050116\n",
       "Low_Price          -0.246510\n",
       "High_Price         -0.805569\n",
       "Sales_Total         4.419355\n",
       "Total_Qty_Sold      3.279708\n",
       "Total_Kg_Sold       2.380347\n",
       "Stock_On_Hand       4.958846\n",
       "avg_price_per_kg   -0.109211\n",
       "dtype: float64"
      ]
     },
     "execution_count": 203,
     "metadata": {},
     "output_type": "execute_result"
    }
   ],
   "source": [
    "train.kurtosis()"
   ]
  },
  {
   "cell_type": "markdown",
   "id": "dfb4b59d",
   "metadata": {},
   "source": [
    "Most of the kurtosis values are less than 3 which indicates we have removed the outliers. \n",
    "\n",
    "Some of our predictor values still display high skewness but this is to be expected.\n",
    "\n",
    "For example, when looking at a column like Sales_Total, many places can have sales up to a certain point but after a certain amount only the biggest place can make that much in sales. This would skew our data toward the more 'acheivable' Sales_total values."
   ]
  },
  {
   "cell_type": "markdown",
   "id": "999717cf",
   "metadata": {},
   "source": [
    "Convert date to datetime to avoid mismanagement when handling categorical data."
   ]
  },
  {
   "cell_type": "code",
   "execution_count": 227,
   "id": "fd00220d",
   "metadata": {},
   "outputs": [],
   "source": [
    "#Date (object) --> Date (datetime)\n",
    "train['Date'] = pd.to_datetime(train['Date'])"
   ]
  },
  {
   "cell_type": "markdown",
   "id": "175de1b7",
   "metadata": {},
   "source": [
    "We also require our numeric data to be standardized (for lasso and ridge regression) before the addition of dummy variables."
   ]
  },
  {
   "cell_type": "code",
   "execution_count": 206,
   "id": "b5e2a42e",
   "metadata": {},
   "outputs": [
    {
     "data": {
      "text/plain": [
       "['Weight_Kg',\n",
       " 'Low_Price',\n",
       " 'High_Price',\n",
       " 'Sales_Total',\n",
       " 'Total_Qty_Sold',\n",
       " 'Total_Kg_Sold',\n",
       " 'Stock_On_Hand']"
      ]
     },
     "execution_count": 206,
     "metadata": {},
     "output_type": "execute_result"
    }
   ],
   "source": [
    "#we dont want to scale the response variable\n",
    "features.remove('avg_price_per_kg')\n",
    "features"
   ]
  },
  {
   "cell_type": "code",
   "execution_count": 209,
   "id": "aa9eb7c3",
   "metadata": {},
   "outputs": [
    {
     "data": {
      "text/html": [
       "<div>\n",
       "<style scoped>\n",
       "    .dataframe tbody tr th:only-of-type {\n",
       "        vertical-align: middle;\n",
       "    }\n",
       "\n",
       "    .dataframe tbody tr th {\n",
       "        vertical-align: top;\n",
       "    }\n",
       "\n",
       "    .dataframe thead th {\n",
       "        text-align: right;\n",
       "    }\n",
       "</style>\n",
       "<table border=\"1\" class=\"dataframe\">\n",
       "  <thead>\n",
       "    <tr style=\"text-align: right;\">\n",
       "      <th></th>\n",
       "      <th>Province</th>\n",
       "      <th>Container</th>\n",
       "      <th>Size_Grade</th>\n",
       "      <th>Date</th>\n",
       "      <th>avg_price_per_kg</th>\n",
       "      <th>Weight_Kg</th>\n",
       "      <th>Low_Price</th>\n",
       "      <th>High_Price</th>\n",
       "      <th>Sales_Total</th>\n",
       "      <th>Total_Qty_Sold</th>\n",
       "      <th>Total_Kg_Sold</th>\n",
       "      <th>Stock_On_Hand</th>\n",
       "    </tr>\n",
       "  </thead>\n",
       "  <tbody>\n",
       "    <tr>\n",
       "      <th>1</th>\n",
       "      <td>CAPE</td>\n",
       "      <td>M4183</td>\n",
       "      <td>1L</td>\n",
       "      <td>2020-09-09</td>\n",
       "      <td>8.51</td>\n",
       "      <td>-0.430568</td>\n",
       "      <td>-0.755970</td>\n",
       "      <td>-0.997932</td>\n",
       "      <td>0.353042</td>\n",
       "      <td>1.358536</td>\n",
       "      <td>1.062677</td>\n",
       "      <td>-0.706778</td>\n",
       "    </tr>\n",
       "    <tr>\n",
       "      <th>7</th>\n",
       "      <td>CAPE</td>\n",
       "      <td>JG110</td>\n",
       "      <td>2M</td>\n",
       "      <td>2020-04-14</td>\n",
       "      <td>4.55</td>\n",
       "      <td>-0.183490</td>\n",
       "      <td>0.431790</td>\n",
       "      <td>0.031016</td>\n",
       "      <td>-0.567183</td>\n",
       "      <td>-0.642042</td>\n",
       "      <td>-0.639297</td>\n",
       "      <td>-0.706778</td>\n",
       "    </tr>\n",
       "    <tr>\n",
       "      <th>24</th>\n",
       "      <td>W.CAPE-BERGRIVER ETC</td>\n",
       "      <td>JE090</td>\n",
       "      <td>2S</td>\n",
       "      <td>2020-04-16</td>\n",
       "      <td>6.11</td>\n",
       "      <td>-0.183490</td>\n",
       "      <td>0.783719</td>\n",
       "      <td>0.335889</td>\n",
       "      <td>-0.720824</td>\n",
       "      <td>-0.790233</td>\n",
       "      <td>-0.777806</td>\n",
       "      <td>-0.565353</td>\n",
       "    </tr>\n",
       "    <tr>\n",
       "      <th>40</th>\n",
       "      <td>CAPE</td>\n",
       "      <td>M4183</td>\n",
       "      <td>1S</td>\n",
       "      <td>2020-05-04</td>\n",
       "      <td>4.51</td>\n",
       "      <td>-0.924725</td>\n",
       "      <td>-0.975925</td>\n",
       "      <td>-1.188478</td>\n",
       "      <td>0.894033</td>\n",
       "      <td>3.244603</td>\n",
       "      <td>2.049025</td>\n",
       "      <td>-0.706778</td>\n",
       "    </tr>\n",
       "    <tr>\n",
       "      <th>80</th>\n",
       "      <td>CAPE</td>\n",
       "      <td>JE090</td>\n",
       "      <td>2S</td>\n",
       "      <td>2020-03-13</td>\n",
       "      <td>6.11</td>\n",
       "      <td>-0.924725</td>\n",
       "      <td>-0.975925</td>\n",
       "      <td>-0.997932</td>\n",
       "      <td>0.013233</td>\n",
       "      <td>1.008266</td>\n",
       "      <td>0.481362</td>\n",
       "      <td>-0.532207</td>\n",
       "    </tr>\n",
       "  </tbody>\n",
       "</table>\n",
       "</div>"
      ],
      "text/plain": [
       "                Province Container Size_Grade       Date  avg_price_per_kg  \\\n",
       "1                   CAPE     M4183         1L 2020-09-09              8.51   \n",
       "7                   CAPE     JG110         2M 2020-04-14              4.55   \n",
       "24  W.CAPE-BERGRIVER ETC     JE090         2S 2020-04-16              6.11   \n",
       "40                  CAPE     M4183         1S 2020-05-04              4.51   \n",
       "80                  CAPE     JE090         2S 2020-03-13              6.11   \n",
       "\n",
       "    Weight_Kg  Low_Price  High_Price  Sales_Total  Total_Qty_Sold  \\\n",
       "1   -0.430568  -0.755970   -0.997932     0.353042        1.358536   \n",
       "7   -0.183490   0.431790    0.031016    -0.567183       -0.642042   \n",
       "24  -0.183490   0.783719    0.335889    -0.720824       -0.790233   \n",
       "40  -0.924725  -0.975925   -1.188478     0.894033        3.244603   \n",
       "80  -0.924725  -0.975925   -0.997932     0.013233        1.008266   \n",
       "\n",
       "    Total_Kg_Sold  Stock_On_Hand  \n",
       "1        1.062677      -0.706778  \n",
       "7       -0.639297      -0.706778  \n",
       "24      -0.777806      -0.565353  \n",
       "40       2.049025      -0.706778  \n",
       "80       0.481362      -0.532207  "
      ]
     },
     "execution_count": 209,
     "metadata": {},
     "output_type": "execute_result"
    }
   ],
   "source": [
    "#scaling and adding scaled data back to train dataframe\n",
    "scaler = StandardScaler()\n",
    "X_scaled = scaler.fit_transform(train[features])\n",
    "X_standardise = pd.DataFrame(X_scaled,columns=features)\n",
    "for x in features:\n",
    "    train=train.drop(x,axis=1)\n",
    "    train[x]=X_standardise[x]\n",
    "train.head()"
   ]
  },
  {
   "cell_type": "markdown",
   "id": "9f4e6402",
   "metadata": {},
   "source": [
    "#### 3.1.3: Categorical Data"
   ]
  },
  {
   "cell_type": "code",
   "execution_count": 146,
   "id": "e7278329",
   "metadata": {},
   "outputs": [
    {
     "data": {
      "image/png": "[encoded data removed]",
      "text/plain": [
       "<Figure size 1440x648 with 3 Axes>"
      ]
     },
     "metadata": {
      "needs_background": "light"
     },
     "output_type": "display_data"
    }
   ],
   "source": [
    "#Plot countplots of categorical data\n",
    "fig, ax =plt.subplots(1,3, figsize=(20, 9))\n",
    "sns.countplot(x=train['Size_Grade'], ax=ax[0])\n",
    "sns.countplot(x=train['Container'], ax=ax[1])\n",
    "sns.countplot(x=\"Province\", data=train, ax=ax[2])\n",
    "ax[2].tick_params(labelrotation=45)\n",
    "fig.tight_layout(pad=4.0)"
   ]
  },
  {
   "cell_type": "markdown",
   "id": "e8906398",
   "metadata": {},
   "source": [
    "Most of the Golden Delicious Apples are found in the cape, have a size grade of 1S and are in containers 'M4183', 'JE090 and 'EC120'."
   ]
  },
  {
   "cell_type": "markdown",
   "id": "b06242bb",
   "metadata": {},
   "source": [
    "Before continuing the analysis we should note that numerical data is required for regression analysis. As such we will now transform our categorical data into numerical values using dummy variables."
   ]
  },
  {
   "cell_type": "code",
   "execution_count": 217,
   "id": "76875d95",
   "metadata": {},
   "outputs": [],
   "source": [
    "train_dummies = pd.get_dummies(train,drop_first=True)"
   ]
  },
  {
   "cell_type": "code",
   "execution_count": 218,
   "id": "7852c152",
   "metadata": {},
   "outputs": [
    {
     "data": {
      "text/html": [
       "<div>\n",
       "<style scoped>\n",
       "    .dataframe tbody tr th:only-of-type {\n",
       "        vertical-align: middle;\n",
       "    }\n",
       "\n",
       "    .dataframe tbody tr th {\n",
       "        vertical-align: top;\n",
       "    }\n",
       "\n",
       "    .dataframe thead th {\n",
       "        text-align: right;\n",
       "    }\n",
       "</style>\n",
       "<table border=\"1\" class=\"dataframe\">\n",
       "  <thead>\n",
       "    <tr style=\"text-align: right;\">\n",
       "      <th></th>\n",
       "      <th>Date</th>\n",
       "      <th>avg_price_per_kg</th>\n",
       "      <th>Weight_Kg</th>\n",
       "      <th>Low_Price</th>\n",
       "      <th>High_Price</th>\n",
       "      <th>Sales_Total</th>\n",
       "      <th>Total_Qty_Sold</th>\n",
       "      <th>Total_Kg_Sold</th>\n",
       "      <th>Stock_On_Hand</th>\n",
       "      <th>Province_EASTERN CAPE</th>\n",
       "      <th>...</th>\n",
       "      <th>Container_M9125</th>\n",
       "      <th>Size_Grade_1M</th>\n",
       "      <th>Size_Grade_1S</th>\n",
       "      <th>Size_Grade_1U</th>\n",
       "      <th>Size_Grade_1X</th>\n",
       "      <th>Size_Grade_2L</th>\n",
       "      <th>Size_Grade_2M</th>\n",
       "      <th>Size_Grade_2S</th>\n",
       "      <th>Size_Grade_2U</th>\n",
       "      <th>Size_Grade_2X</th>\n",
       "    </tr>\n",
       "  </thead>\n",
       "  <tbody>\n",
       "    <tr>\n",
       "      <th>1</th>\n",
       "      <td>2020-09-09</td>\n",
       "      <td>8.51</td>\n",
       "      <td>-0.430568</td>\n",
       "      <td>-0.755970</td>\n",
       "      <td>-0.997932</td>\n",
       "      <td>0.353042</td>\n",
       "      <td>1.358536</td>\n",
       "      <td>1.062677</td>\n",
       "      <td>-0.706778</td>\n",
       "      <td>0</td>\n",
       "      <td>...</td>\n",
       "      <td>0</td>\n",
       "      <td>0</td>\n",
       "      <td>0</td>\n",
       "      <td>0</td>\n",
       "      <td>0</td>\n",
       "      <td>0</td>\n",
       "      <td>0</td>\n",
       "      <td>0</td>\n",
       "      <td>0</td>\n",
       "      <td>0</td>\n",
       "    </tr>\n",
       "    <tr>\n",
       "      <th>7</th>\n",
       "      <td>2020-04-14</td>\n",
       "      <td>4.55</td>\n",
       "      <td>-0.183490</td>\n",
       "      <td>0.431790</td>\n",
       "      <td>0.031016</td>\n",
       "      <td>-0.567183</td>\n",
       "      <td>-0.642042</td>\n",
       "      <td>-0.639297</td>\n",
       "      <td>-0.706778</td>\n",
       "      <td>0</td>\n",
       "      <td>...</td>\n",
       "      <td>0</td>\n",
       "      <td>0</td>\n",
       "      <td>0</td>\n",
       "      <td>0</td>\n",
       "      <td>0</td>\n",
       "      <td>0</td>\n",
       "      <td>1</td>\n",
       "      <td>0</td>\n",
       "      <td>0</td>\n",
       "      <td>0</td>\n",
       "    </tr>\n",
       "    <tr>\n",
       "      <th>24</th>\n",
       "      <td>2020-04-16</td>\n",
       "      <td>6.11</td>\n",
       "      <td>-0.183490</td>\n",
       "      <td>0.783719</td>\n",
       "      <td>0.335889</td>\n",
       "      <td>-0.720824</td>\n",
       "      <td>-0.790233</td>\n",
       "      <td>-0.777806</td>\n",
       "      <td>-0.565353</td>\n",
       "      <td>0</td>\n",
       "      <td>...</td>\n",
       "      <td>0</td>\n",
       "      <td>0</td>\n",
       "      <td>0</td>\n",
       "      <td>0</td>\n",
       "      <td>0</td>\n",
       "      <td>0</td>\n",
       "      <td>0</td>\n",
       "      <td>1</td>\n",
       "      <td>0</td>\n",
       "      <td>0</td>\n",
       "    </tr>\n",
       "    <tr>\n",
       "      <th>40</th>\n",
       "      <td>2020-05-04</td>\n",
       "      <td>4.51</td>\n",
       "      <td>-0.924725</td>\n",
       "      <td>-0.975925</td>\n",
       "      <td>-1.188478</td>\n",
       "      <td>0.894033</td>\n",
       "      <td>3.244603</td>\n",
       "      <td>2.049025</td>\n",
       "      <td>-0.706778</td>\n",
       "      <td>0</td>\n",
       "      <td>...</td>\n",
       "      <td>0</td>\n",
       "      <td>0</td>\n",
       "      <td>1</td>\n",
       "      <td>0</td>\n",
       "      <td>0</td>\n",
       "      <td>0</td>\n",
       "      <td>0</td>\n",
       "      <td>0</td>\n",
       "      <td>0</td>\n",
       "      <td>0</td>\n",
       "    </tr>\n",
       "    <tr>\n",
       "      <th>80</th>\n",
       "      <td>2020-03-13</td>\n",
       "      <td>6.11</td>\n",
       "      <td>-0.924725</td>\n",
       "      <td>-0.975925</td>\n",
       "      <td>-0.997932</td>\n",
       "      <td>0.013233</td>\n",
       "      <td>1.008266</td>\n",
       "      <td>0.481362</td>\n",
       "      <td>-0.532207</td>\n",
       "      <td>0</td>\n",
       "      <td>...</td>\n",
       "      <td>0</td>\n",
       "      <td>0</td>\n",
       "      <td>0</td>\n",
       "      <td>0</td>\n",
       "      <td>0</td>\n",
       "      <td>0</td>\n",
       "      <td>0</td>\n",
       "      <td>1</td>\n",
       "      <td>0</td>\n",
       "      <td>0</td>\n",
       "    </tr>\n",
       "  </tbody>\n",
       "</table>\n",
       "<p>5 rows × 33 columns</p>\n",
       "</div>"
      ],
      "text/plain": [
       "         Date  avg_price_per_kg  Weight_Kg  Low_Price  High_Price  \\\n",
       "1  2020-09-09              8.51  -0.430568  -0.755970   -0.997932   \n",
       "7  2020-04-14              4.55  -0.183490   0.431790    0.031016   \n",
       "24 2020-04-16              6.11  -0.183490   0.783719    0.335889   \n",
       "40 2020-05-04              4.51  -0.924725  -0.975925   -1.188478   \n",
       "80 2020-03-13              6.11  -0.924725  -0.975925   -0.997932   \n",
       "\n",
       "    Sales_Total  Total_Qty_Sold  Total_Kg_Sold  Stock_On_Hand  \\\n",
       "1      0.353042        1.358536       1.062677      -0.706778   \n",
       "7     -0.567183       -0.642042      -0.639297      -0.706778   \n",
       "24    -0.720824       -0.790233      -0.777806      -0.565353   \n",
       "40     0.894033        3.244603       2.049025      -0.706778   \n",
       "80     0.013233        1.008266       0.481362      -0.532207   \n",
       "\n",
       "    Province_EASTERN CAPE  ...  Container_M9125  Size_Grade_1M  Size_Grade_1S  \\\n",
       "1                       0  ...                0              0              0   \n",
       "7                       0  ...                0              0              0   \n",
       "24                      0  ...                0              0              0   \n",
       "40                      0  ...                0              0              1   \n",
       "80                      0  ...                0              0              0   \n",
       "\n",
       "    Size_Grade_1U  Size_Grade_1X  Size_Grade_2L  Size_Grade_2M  Size_Grade_2S  \\\n",
       "1               0              0              0              0              0   \n",
       "7               0              0              0              1              0   \n",
       "24              0              0              0              0              1   \n",
       "40              0              0              0              0              0   \n",
       "80              0              0              0              0              1   \n",
       "\n",
       "    Size_Grade_2U  Size_Grade_2X  \n",
       "1               0              0  \n",
       "7               0              0  \n",
       "24              0              0  \n",
       "40              0              0  \n",
       "80              0              0  \n",
       "\n",
       "[5 rows x 33 columns]"
      ]
     },
     "execution_count": 218,
     "metadata": {},
     "output_type": "execute_result"
    }
   ],
   "source": [
    "train_dummies.head()"
   ]
  },
  {
   "cell_type": "markdown",
   "id": "bfb5e7ab",
   "metadata": {},
   "source": [
    "## 3.2: Multivariate Analysis"
   ]
  },
  {
   "cell_type": "markdown",
   "id": "5fd578d3",
   "metadata": {},
   "source": [
    "We start by evaluating the relationship between the date and our response variable"
   ]
  },
  {
   "cell_type": "code",
   "execution_count": 219,
   "id": "d86263e6",
   "metadata": {},
   "outputs": [
    {
     "data": {
      "text/html": [
       "<div>\n",
       "<style scoped>\n",
       "    .dataframe tbody tr th:only-of-type {\n",
       "        vertical-align: middle;\n",
       "    }\n",
       "\n",
       "    .dataframe tbody tr th {\n",
       "        vertical-align: top;\n",
       "    }\n",
       "\n",
       "    .dataframe thead th {\n",
       "        text-align: right;\n",
       "    }\n",
       "</style>\n",
       "<table border=\"1\" class=\"dataframe\">\n",
       "  <thead>\n",
       "    <tr style=\"text-align: right;\">\n",
       "      <th></th>\n",
       "      <th>avg_price_per_kg</th>\n",
       "      <th>Date</th>\n",
       "      <th>Day</th>\n",
       "      <th>Month</th>\n",
       "      <th>Month_year</th>\n",
       "      <th>Quarter</th>\n",
       "    </tr>\n",
       "  </thead>\n",
       "  <tbody>\n",
       "    <tr>\n",
       "      <th>1</th>\n",
       "      <td>8.51</td>\n",
       "      <td>2020-09-09</td>\n",
       "      <td>9</td>\n",
       "      <td>9</td>\n",
       "      <td>2020-09-09</td>\n",
       "      <td>2020Q3</td>\n",
       "    </tr>\n",
       "    <tr>\n",
       "      <th>7</th>\n",
       "      <td>4.55</td>\n",
       "      <td>2020-04-14</td>\n",
       "      <td>14</td>\n",
       "      <td>4</td>\n",
       "      <td>2020-04-14</td>\n",
       "      <td>2020Q2</td>\n",
       "    </tr>\n",
       "    <tr>\n",
       "      <th>24</th>\n",
       "      <td>6.11</td>\n",
       "      <td>2020-04-16</td>\n",
       "      <td>16</td>\n",
       "      <td>4</td>\n",
       "      <td>2020-04-16</td>\n",
       "      <td>2020Q2</td>\n",
       "    </tr>\n",
       "    <tr>\n",
       "      <th>40</th>\n",
       "      <td>4.51</td>\n",
       "      <td>2020-05-04</td>\n",
       "      <td>4</td>\n",
       "      <td>5</td>\n",
       "      <td>2020-05-04</td>\n",
       "      <td>2020Q2</td>\n",
       "    </tr>\n",
       "    <tr>\n",
       "      <th>80</th>\n",
       "      <td>6.11</td>\n",
       "      <td>2020-03-13</td>\n",
       "      <td>13</td>\n",
       "      <td>3</td>\n",
       "      <td>2020-03-13</td>\n",
       "      <td>2020Q1</td>\n",
       "    </tr>\n",
       "  </tbody>\n",
       "</table>\n",
       "</div>"
      ],
      "text/plain": [
       "    avg_price_per_kg       Date  Day  Month Month_year Quarter\n",
       "1               8.51 2020-09-09    9      9 2020-09-09  2020Q3\n",
       "7               4.55 2020-04-14   14      4 2020-04-14  2020Q2\n",
       "24              6.11 2020-04-16   16      4 2020-04-16  2020Q2\n",
       "40              4.51 2020-05-04    4      5 2020-05-04  2020Q2\n",
       "80              6.11 2020-03-13   13      3 2020-03-13  2020Q1"
      ]
     },
     "execution_count": 219,
     "metadata": {},
     "output_type": "execute_result"
    }
   ],
   "source": [
    "#seperating date,month and year\n",
    "training_day=pd.DataFrame([])\n",
    "training_day['avg_price_per_kg']=train['avg_price_per_kg']\n",
    "training_day['Date']=train['Date']\n",
    "training_day['Day']=[x.day for x in train['Date']]\n",
    "training_day['Month']=[x.month for x in train['Date']]\n",
    "training_day['Month_year']=[pd.to_datetime(x, format='%m%Y') for x in train['Date']]\n",
    "training_day['Quarter'] = pd.PeriodIndex(train.Date, freq='Q')\n",
    "training_day.head()"
   ]
  },
  {
   "cell_type": "code",
   "execution_count": 220,
   "id": "397c8397",
   "metadata": {},
   "outputs": [
    {
     "data": {
      "text/plain": [
       "<AxesSubplot:xlabel='Date', ylabel='avg_price_per_kg'>"
      ]
     },
     "execution_count": 220,
     "metadata": {},
     "output_type": "execute_result"
    },
    {
     "data": {
      "image/png": "[encoded data removed]",
      "text/plain": [
       "<Figure size 432x288 with 1 Axes>"
      ]
     },
     "metadata": {
      "needs_background": "light"
     },
     "output_type": "display_data"
    }
   ],
   "source": [
    "#Plotting the mean avg_price_per_kg against the Date\n",
    "avg_date=training_day.groupby('Date')['avg_price_per_kg'].mean()\n",
    "sns.scatterplot(x=avg_date.index,y=avg_date)"
   ]
  },
  {
   "cell_type": "markdown",
   "id": "6547f3f0",
   "metadata": {},
   "source": [
    "As we can see from this plot, there isn't much of a relatioship between these two variables, in the following cells we attempt to see if there is a relationship between the components of the date (Day,Month,Year) and our response variable."
   ]
  },
  {
   "cell_type": "code",
   "execution_count": 221,
   "id": "5fc7f30a",
   "metadata": {},
   "outputs": [
    {
     "data": {
      "text/plain": [
       "<AxesSubplot:xlabel='Day', ylabel='avg_price_per_kg'>"
      ]
     },
     "execution_count": 221,
     "metadata": {},
     "output_type": "execute_result"
    },
    {
     "data": {
      "image/png": "[encoded data removed]",
      "text/plain": [
       "<Figure size 432x288 with 1 Axes>"
      ]
     },
     "metadata": {
      "needs_background": "light"
     },
     "output_type": "display_data"
    }
   ],
   "source": [
    "avg_day=training_day.groupby('Day')['avg_price_per_kg'].mean()\n",
    "sns.scatterplot(x=avg_day.index,y=avg_day)"
   ]
  },
  {
   "cell_type": "markdown",
   "id": "5a59f7bd",
   "metadata": {},
   "source": [
    "-There is no clear trend amongst this data"
   ]
  },
  {
   "cell_type": "code",
   "execution_count": 222,
   "id": "0856f845",
   "metadata": {},
   "outputs": [
    {
     "data": {
      "text/plain": [
       "<AxesSubplot:xlabel='Month', ylabel='avg_price_per_kg'>"
      ]
     },
     "execution_count": 222,
     "metadata": {},
     "output_type": "execute_result"
    },
    {
     "data": {
      "image/png": "[encoded data removed]",
      "text/plain": [
       "<Figure size 432x288 with 1 Axes>"
      ]
     },
     "metadata": {
      "needs_background": "light"
     },
     "output_type": "display_data"
    }
   ],
   "source": [
    "avg_month=training_day.groupby('Month')['avg_price_per_kg'].mean()\n",
    "sns.scatterplot(x=avg_month.index,y=avg_month)"
   ]
  },
  {
   "cell_type": "markdown",
   "id": "f68ea7a2",
   "metadata": {},
   "source": [
    "The middle months seem to have lower means while the end and start months have higher means"
   ]
  },
  {
   "cell_type": "code",
   "execution_count": 223,
   "id": "026e7bb4",
   "metadata": {},
   "outputs": [
    {
     "data": {
      "text/plain": [
       "<AxesSubplot:xlabel='Quarter', ylabel='avg_price_per_kg'>"
      ]
     },
     "execution_count": 223,
     "metadata": {},
     "output_type": "execute_result"
    },
    {
     "data": {
      "image/png": "[encoded data removed]",
      "text/plain": [
       "<Figure size 432x288 with 1 Axes>"
      ]
     },
     "metadata": {
      "needs_background": "light"
     },
     "output_type": "display_data"
    }
   ],
   "source": [
    "avg_quarter=training_day.groupby('Quarter')['avg_price_per_kg'].mean()\n",
    "sns.scatterplot(x=avg_quarter.index.to_timestamp(),y=avg_quarter)"
   ]
  },
  {
   "cell_type": "markdown",
   "id": "373085f1",
   "metadata": {},
   "source": [
    "As we saw by the trend in the months plot, the response variable appears to fall as we go toward the middle of the year and then rise as the year ends"
   ]
  },
  {
   "cell_type": "code",
   "execution_count": 224,
   "id": "30a22484",
   "metadata": {},
   "outputs": [],
   "source": [
    "#Dropping the non-numeric 'Date' column and adding a Month column\n",
    "train_dummies['Month']=training_day['Month']\n",
    "train_dummies=train_dummies.drop('Date',axis=1)"
   ]
  },
  {
   "cell_type": "code",
   "execution_count": 225,
   "id": "4a344b0b",
   "metadata": {},
   "outputs": [
    {
     "data": {
      "text/html": [
       "<div>\n",
       "<style scoped>\n",
       "    .dataframe tbody tr th:only-of-type {\n",
       "        vertical-align: middle;\n",
       "    }\n",
       "\n",
       "    .dataframe tbody tr th {\n",
       "        vertical-align: top;\n",
       "    }\n",
       "\n",
       "    .dataframe thead th {\n",
       "        text-align: right;\n",
       "    }\n",
       "</style>\n",
       "<table border=\"1\" class=\"dataframe\">\n",
       "  <thead>\n",
       "    <tr style=\"text-align: right;\">\n",
       "      <th></th>\n",
       "      <th>avg_price_per_kg</th>\n",
       "      <th>Weight_Kg</th>\n",
       "      <th>Low_Price</th>\n",
       "      <th>High_Price</th>\n",
       "      <th>Sales_Total</th>\n",
       "      <th>Total_Qty_Sold</th>\n",
       "      <th>Total_Kg_Sold</th>\n",
       "      <th>Stock_On_Hand</th>\n",
       "      <th>Province_EASTERN CAPE</th>\n",
       "      <th>Province_NATAL</th>\n",
       "      <th>...</th>\n",
       "      <th>Size_Grade_1M</th>\n",
       "      <th>Size_Grade_1S</th>\n",
       "      <th>Size_Grade_1U</th>\n",
       "      <th>Size_Grade_1X</th>\n",
       "      <th>Size_Grade_2L</th>\n",
       "      <th>Size_Grade_2M</th>\n",
       "      <th>Size_Grade_2S</th>\n",
       "      <th>Size_Grade_2U</th>\n",
       "      <th>Size_Grade_2X</th>\n",
       "      <th>Month</th>\n",
       "    </tr>\n",
       "  </thead>\n",
       "  <tbody>\n",
       "    <tr>\n",
       "      <th>1</th>\n",
       "      <td>8.51</td>\n",
       "      <td>-0.430568</td>\n",
       "      <td>-0.755970</td>\n",
       "      <td>-0.997932</td>\n",
       "      <td>0.353042</td>\n",
       "      <td>1.358536</td>\n",
       "      <td>1.062677</td>\n",
       "      <td>-0.706778</td>\n",
       "      <td>0</td>\n",
       "      <td>0</td>\n",
       "      <td>...</td>\n",
       "      <td>0</td>\n",
       "      <td>0</td>\n",
       "      <td>0</td>\n",
       "      <td>0</td>\n",
       "      <td>0</td>\n",
       "      <td>0</td>\n",
       "      <td>0</td>\n",
       "      <td>0</td>\n",
       "      <td>0</td>\n",
       "      <td>9</td>\n",
       "    </tr>\n",
       "    <tr>\n",
       "      <th>7</th>\n",
       "      <td>4.55</td>\n",
       "      <td>-0.183490</td>\n",
       "      <td>0.431790</td>\n",
       "      <td>0.031016</td>\n",
       "      <td>-0.567183</td>\n",
       "      <td>-0.642042</td>\n",
       "      <td>-0.639297</td>\n",
       "      <td>-0.706778</td>\n",
       "      <td>0</td>\n",
       "      <td>0</td>\n",
       "      <td>...</td>\n",
       "      <td>0</td>\n",
       "      <td>0</td>\n",
       "      <td>0</td>\n",
       "      <td>0</td>\n",
       "      <td>0</td>\n",
       "      <td>1</td>\n",
       "      <td>0</td>\n",
       "      <td>0</td>\n",
       "      <td>0</td>\n",
       "      <td>4</td>\n",
       "    </tr>\n",
       "    <tr>\n",
       "      <th>24</th>\n",
       "      <td>6.11</td>\n",
       "      <td>-0.183490</td>\n",
       "      <td>0.783719</td>\n",
       "      <td>0.335889</td>\n",
       "      <td>-0.720824</td>\n",
       "      <td>-0.790233</td>\n",
       "      <td>-0.777806</td>\n",
       "      <td>-0.565353</td>\n",
       "      <td>0</td>\n",
       "      <td>0</td>\n",
       "      <td>...</td>\n",
       "      <td>0</td>\n",
       "      <td>0</td>\n",
       "      <td>0</td>\n",
       "      <td>0</td>\n",
       "      <td>0</td>\n",
       "      <td>0</td>\n",
       "      <td>1</td>\n",
       "      <td>0</td>\n",
       "      <td>0</td>\n",
       "      <td>4</td>\n",
       "    </tr>\n",
       "    <tr>\n",
       "      <th>40</th>\n",
       "      <td>4.51</td>\n",
       "      <td>-0.924725</td>\n",
       "      <td>-0.975925</td>\n",
       "      <td>-1.188478</td>\n",
       "      <td>0.894033</td>\n",
       "      <td>3.244603</td>\n",
       "      <td>2.049025</td>\n",
       "      <td>-0.706778</td>\n",
       "      <td>0</td>\n",
       "      <td>0</td>\n",
       "      <td>...</td>\n",
       "      <td>0</td>\n",
       "      <td>1</td>\n",
       "      <td>0</td>\n",
       "      <td>0</td>\n",
       "      <td>0</td>\n",
       "      <td>0</td>\n",
       "      <td>0</td>\n",
       "      <td>0</td>\n",
       "      <td>0</td>\n",
       "      <td>5</td>\n",
       "    </tr>\n",
       "    <tr>\n",
       "      <th>80</th>\n",
       "      <td>6.11</td>\n",
       "      <td>-0.924725</td>\n",
       "      <td>-0.975925</td>\n",
       "      <td>-0.997932</td>\n",
       "      <td>0.013233</td>\n",
       "      <td>1.008266</td>\n",
       "      <td>0.481362</td>\n",
       "      <td>-0.532207</td>\n",
       "      <td>0</td>\n",
       "      <td>0</td>\n",
       "      <td>...</td>\n",
       "      <td>0</td>\n",
       "      <td>0</td>\n",
       "      <td>0</td>\n",
       "      <td>0</td>\n",
       "      <td>0</td>\n",
       "      <td>0</td>\n",
       "      <td>1</td>\n",
       "      <td>0</td>\n",
       "      <td>0</td>\n",
       "      <td>3</td>\n",
       "    </tr>\n",
       "  </tbody>\n",
       "</table>\n",
       "<p>5 rows × 33 columns</p>\n",
       "</div>"
      ],
      "text/plain": [
       "    avg_price_per_kg  Weight_Kg  Low_Price  High_Price  Sales_Total  \\\n",
       "1               8.51  -0.430568  -0.755970   -0.997932     0.353042   \n",
       "7               4.55  -0.183490   0.431790    0.031016    -0.567183   \n",
       "24              6.11  -0.183490   0.783719    0.335889    -0.720824   \n",
       "40              4.51  -0.924725  -0.975925   -1.188478     0.894033   \n",
       "80              6.11  -0.924725  -0.975925   -0.997932     0.013233   \n",
       "\n",
       "    Total_Qty_Sold  Total_Kg_Sold  Stock_On_Hand  Province_EASTERN CAPE  \\\n",
       "1         1.358536       1.062677      -0.706778                      0   \n",
       "7        -0.642042      -0.639297      -0.706778                      0   \n",
       "24       -0.790233      -0.777806      -0.565353                      0   \n",
       "40        3.244603       2.049025      -0.706778                      0   \n",
       "80        1.008266       0.481362      -0.532207                      0   \n",
       "\n",
       "    Province_NATAL  ...  Size_Grade_1M  Size_Grade_1S  Size_Grade_1U  \\\n",
       "1                0  ...              0              0              0   \n",
       "7                0  ...              0              0              0   \n",
       "24               0  ...              0              0              0   \n",
       "40               0  ...              0              1              0   \n",
       "80               0  ...              0              0              0   \n",
       "\n",
       "    Size_Grade_1X  Size_Grade_2L  Size_Grade_2M  Size_Grade_2S  Size_Grade_2U  \\\n",
       "1               0              0              0              0              0   \n",
       "7               0              0              1              0              0   \n",
       "24              0              0              0              1              0   \n",
       "40              0              0              0              0              0   \n",
       "80              0              0              0              1              0   \n",
       "\n",
       "    Size_Grade_2X  Month  \n",
       "1               0      9  \n",
       "7               0      4  \n",
       "24              0      4  \n",
       "40              0      5  \n",
       "80              0      3  \n",
       "\n",
       "[5 rows x 33 columns]"
      ]
     },
     "execution_count": 225,
     "metadata": {},
     "output_type": "execute_result"
    }
   ],
   "source": [
    "train_dummies.head()"
   ]
  },
  {
   "cell_type": "code",
   "execution_count": 226,
   "id": "9ab3054b",
   "metadata": {
    "scrolled": true
   },
   "outputs": [
    {
     "name": "stdout",
     "output_type": "stream",
     "text": [
      "<class 'pandas.core.frame.DataFrame'>\n",
      "Int64Index: 1644 entries, 1 to 64310\n",
      "Data columns (total 33 columns):\n",
      " #   Column                         Non-Null Count  Dtype  \n",
      "---  ------                         --------------  -----  \n",
      " 0   avg_price_per_kg               1644 non-null   float64\n",
      " 1   Weight_Kg                      45 non-null     float64\n",
      " 2   Low_Price                      45 non-null     float64\n",
      " 3   High_Price                     45 non-null     float64\n",
      " 4   Sales_Total                    45 non-null     float64\n",
      " 5   Total_Qty_Sold                 45 non-null     float64\n",
      " 6   Total_Kg_Sold                  45 non-null     float64\n",
      " 7   Stock_On_Hand                  45 non-null     float64\n",
      " 8   Province_EASTERN CAPE          1644 non-null   uint8  \n",
      " 9   Province_NATAL                 1644 non-null   uint8  \n",
      " 10  Province_ORANGE FREE STATE     1644 non-null   uint8  \n",
      " 11  Province_TRANSVAAL             1644 non-null   uint8  \n",
      " 12  Province_W.CAPE-BERGRIVER ETC  1644 non-null   uint8  \n",
      " 13  Province_WEST COAST            1644 non-null   uint8  \n",
      " 14  Container_DT063                1644 non-null   uint8  \n",
      " 15  Container_EC120                1644 non-null   uint8  \n",
      " 16  Container_EF120                1644 non-null   uint8  \n",
      " 17  Container_EG140                1644 non-null   uint8  \n",
      " 18  Container_JE090                1644 non-null   uint8  \n",
      " 19  Container_JG110                1644 non-null   uint8  \n",
      " 20  Container_M4183                1644 non-null   uint8  \n",
      " 21  Container_M6125                1644 non-null   uint8  \n",
      " 22  Container_M9125                1644 non-null   uint8  \n",
      " 23  Size_Grade_1M                  1644 non-null   uint8  \n",
      " 24  Size_Grade_1S                  1644 non-null   uint8  \n",
      " 25  Size_Grade_1U                  1644 non-null   uint8  \n",
      " 26  Size_Grade_1X                  1644 non-null   uint8  \n",
      " 27  Size_Grade_2L                  1644 non-null   uint8  \n",
      " 28  Size_Grade_2M                  1644 non-null   uint8  \n",
      " 29  Size_Grade_2S                  1644 non-null   uint8  \n",
      " 30  Size_Grade_2U                  1644 non-null   uint8  \n",
      " 31  Size_Grade_2X                  1644 non-null   uint8  \n",
      " 32  Month                          1644 non-null   int64  \n",
      "dtypes: float64(8), int64(1), uint8(24)\n",
      "memory usage: 231.5 KB\n"
     ]
    }
   ],
   "source": [
    "train_dummies.info()"
   ]
  },
  {
   "cell_type": "markdown",
   "id": "3d80d1ce",
   "metadata": {},
   "source": [
    "All of our variables are now numeric and we can begin building regression models"
   ]
  },
  {
   "cell_type": "code",
   "execution_count": null,
   "id": "f5d1fb62",
   "metadata": {},
   "outputs": [],
   "source": []
  }
 ],
 "metadata": {
  "kernelspec": {
   "display_name": "Python 3",
   "language": "python",
   "name": "python3"
  },
  "language_info": {
   "codemirror_mode": {
    "name": "ipython",
    "version": 3
   },
   "file_extension": ".py",
   "mimetype": "text/x-python",
   "name": "python",
   "nbconvert_exporter": "python",
   "pygments_lexer": "ipython3",
   "version": "3.7.10"
  }
 },
 "nbformat": 4,
 "nbformat_minor": 5
}
